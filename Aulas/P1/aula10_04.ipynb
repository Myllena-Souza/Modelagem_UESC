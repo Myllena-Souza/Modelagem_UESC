{
 "cells": [
  {
   "cell_type": "markdown",
   "metadata": {},
   "source": [
    "## UNIVERSIDADE ESTADUAL DE SANTA CRUZ - UESC\n",
    "#### DEPARTAMENTO DE ENGENHARIAS E COMPUTAÇÃO - DEC\n",
    "#### CURSO DE ENGENHARIA QUÍMICA\n",
    "\n",
    "**CET 1012** Modelagem, Simulação e Otimização de Processos Químicos.\n",
    "\n",
    "**Professor**: Prof. Dr E.R.Edwards\n",
    "\n",
    "**Tema:** Métodos Matriciais em Cálculos de Engenharia.\n",
    "\n",
    "**Assunto**: Cálculo da inversa, $A^{-1}$ de uma matriz $4x4$.\n",
    "\n",
    "\n",
    "Suponha uma matriz $A\\vec{x}=\\vec{b}$ de forma que o vetor $\\vec{x}$ seja a incógnita que precisamos determinar, sendo:\n",
    "\n",
    "$$ \\vec{x} = \\frac{b}{A} =A^{-1}.b .. Eq(\\ 2 ) $$ \n",
    "\n",
    "Agora vamos pensar em como resolver um problema em que a matriz $A$ é da forma $4x4$ como mostrado abaixo:\n",
    "\n",
    "\\begin{equation}\n",
    "\tA = \n",
    "\t\\begin{bmatrix}\n",
    "\t\ta_{11} & a_{12}  & a_{13} & a_{14} \\\\\n",
    "\t\ta_{21} & a_{22}  & a_{23} & a_{24} \\\\\n",
    "\t\ta_{31} & a_{32}  & a_{33} & a_{34} \\\\\n",
    "\t\ta_{41} & a_{42}  & a_{43} & a_{44} \\nonumber \\\\ \n",
    "\t\\end{bmatrix} \n",
    "\\end{equation}\n",
    "\n",
    "Para o cálculo das incógnitas, precisamos calcular $A^{-1}$ aplicando a seguinte expressão:\n",
    "\n",
    "$$A^{-1} = \\frac{1}{det(A)}.A^T ...Eq(\\ 2 \\ )$$ \n",
    "\n",
    "Sendo:\n",
    "\n",
    "$det(A)$... O determinante da matriz A Eq( 3  )\n",
    "\n",
    "$A^T$... a matriz transposta. Eq( 4 )\n",
    "\n",
    "A matriz Transposta $A^T$ é calculada a partir da matriz Cofator ($A_c$) dada por:\n",
    "\n",
    "$$ A_c = (-1)^{(i+j)} [a_{ij}] ... Eq(5)$$ \n",
    "\n",
    "Dessa forma, conseguimos obter a **Matriz cofator** na  Eq(5), fazer a **Matriz Transposta** na Eq(4) e juntamente com o **Determinante** na Eq(3) encontrar a **Matriz Inversa** ($A^{-1}$) na Eq(2) e obter as incógnitas $\\vec{x}$ na Eq(1).\n"
   ]
  },
  {
   "cell_type": "markdown",
   "metadata": {},
   "source": [
    "#### Aplicação:\n",
    "\n",
    "Dada a matriz $A$, encontre sua inversa, $A^{-1}$ aplicando o método descrito acima.\n",
    "\n",
    "\\begin{equation}\n",
    "A =\n",
    "\t\\begin{bmatrix}\n",
    "\t\t 1 & 2   & 0 & 1 \\\\\n",
    "\t\t-1 & -3  & 0 & 1 \\\\\n",
    "\t     3 & 6   & 1 & 3 \\\\\n",
    "\t\t 2 & 4   & 0 & 3 \\nonumber \\\\ \n",
    "\t\\end{bmatrix} \n",
    "\\end{equation}\n"
   ]
  },
  {
   "cell_type": "code",
   "execution_count": 4,
   "metadata": {},
   "outputs": [],
   "source": [
    "# declarar variaveis da matriz 4x4\n",
    "a11, a12, a13, a14 = 1, 2, 0, 1\n",
    "a21, a22, a23, a24 = -1, -3, 0, 1\n",
    "a31, a32, a33, a34 = 3, 6, 1, 3\n",
    "a41, a42, a43, a44 = 2, 4, 0, 3\n"
   ]
  },
  {
   "cell_type": "markdown",
   "metadata": {},
   "source": [
    "#### Cálculo das Matrizes cofatores - Ac"
   ]
  },
  {
   "cell_type": "markdown",
   "metadata": {},
   "source": [
    "Vamos fazer o mesmo para as outras células e seguir os passos da resolução anterior."
   ]
  },
  {
   "cell_type": "markdown",
   "metadata": {},
   "source": [
    "Calculo da célula a11\n",
    "\\begin{equation}\n",
    "\tc_{11} = (-1)^{(1+1)}.\n",
    "\t\\begin{bmatrix}\n",
    "\t\ta_{22} & a_{23}  & a_{24}  \\\\\n",
    "\t\ta_{32} & a_{33}  & a_{34}  \\\\\n",
    "\t\ta_{42} & a_{43}  & a_{44}  \\nonumber \\\\ \n",
    "\t\\end{bmatrix} \n",
    "\\end{equation}\n"
   ]
  },
  {
   "cell_type": "code",
   "execution_count": 5,
   "metadata": {},
   "outputs": [
    {
     "data": {
      "text/plain": [
       "-13"
      ]
     },
     "execution_count": 5,
     "metadata": {},
     "output_type": "execute_result"
    }
   ],
   "source": [
    "# CALCULANDO DA MATRIZ 2X2 DO ELEMENTO a11\n",
    "# PARA CALCULAR REDUZ A MATRIZ 3X3 PARA UMA MATRIZ 2X2, NESSE CASO ISOLA O ELEMENTO a22.\n",
    "\n",
    "# INDICE DO ELEMENTO A11\n",
    "i = 1\n",
    "j = 1\n",
    "\n",
    "matriz11 = a22*((a33*a44)-(a34*a43)) - a23*((a32*a44)-(a34*a42)) + a24*((a32*a43)-(a33*a42))\n",
    "\n",
    "c11 = (-1)**(i+j)*matriz11\n",
    "matriz11"
   ]
  },
  {
   "cell_type": "markdown",
   "metadata": {},
   "source": [
    "Calculo da célula a12\n",
    "\\begin{equation}\n",
    "\tc_{12} = (-1)^{(1+2)}.\n",
    "\t\\begin{bmatrix}\n",
    "\t\ta_{21} & a_{23}  & a_{24}  \\\\\n",
    "\t\ta_{31} & a_{33}  & a_{34}  \\\\\n",
    "\t\ta_{41} & a_{43}  & a_{44}  \\nonumber \\\\ \n",
    "\t\\end{bmatrix} \n",
    "\\end{equation}\n"
   ]
  },
  {
   "cell_type": "code",
   "execution_count": 6,
   "metadata": {},
   "outputs": [
    {
     "data": {
      "text/plain": [
       "5"
      ]
     },
     "execution_count": 6,
     "metadata": {},
     "output_type": "execute_result"
    }
   ],
   "source": [
    "i = 1\n",
    "j = 2\n",
    "\n",
    "matriz12 = a21*((a33*a44)-(a34*a43)) - a23*((a31*a44)-(a34*a41)) +  a24*((a31*a43)-(a33*a41))\n",
    "\n",
    "c12 = (-1)**(i+j)*matriz12\n",
    "c12"
   ]
  },
  {
   "cell_type": "markdown",
   "metadata": {},
   "source": [
    "Calculo da célula a13\n",
    "\\begin{equation}\n",
    "\tc_{13} = (-1)^{(1+3)}.\n",
    "\t\\begin{bmatrix}\n",
    "\t\ta_{21} & a_{22}  & a_{24}  \\\\\n",
    "\t\ta_{31} & a_{32}  & a_{34}  \\\\\n",
    "\t\ta_{41} & a_{42}  & a_{44}  \\nonumber \\\\ \n",
    "\t\\end{bmatrix} \n",
    "\\end{equation}\n"
   ]
  },
  {
   "cell_type": "code",
   "execution_count": 7,
   "metadata": {},
   "outputs": [
    {
     "data": {
      "text/plain": [
       "3"
      ]
     },
     "execution_count": 7,
     "metadata": {},
     "output_type": "execute_result"
    }
   ],
   "source": [
    "i = 1\n",
    "j = 3\n",
    "\n",
    "matriz13 = a21*((a32*a44)-(a34*a42)) - a22*((a31*a44)-(a34*a41)) + a24*((a31*a42)-(a32*a41))\n",
    "\n",
    "c13 = (-1)**(i+j)*matriz13  \n",
    "c13"
   ]
  },
  {
   "cell_type": "markdown",
   "metadata": {},
   "source": [
    "Cálculo da célula a14.\n",
    "\\begin{equation}\n",
    "\tc_{14} = (-1)^{(1+4)}.\n",
    "\t\\begin{bmatrix}\n",
    "\t\ta_{21} & a_{22}  & a_{23}  \\\\\n",
    "\t\ta_{31} & a_{32}  & a_{33}  \\\\\n",
    "\t\ta_{41} & a_{42}  & a_{43}  \\nonumber \\\\ \n",
    "\t\\end{bmatrix} \n",
    "\\end{equation}\n"
   ]
  },
  {
   "cell_type": "code",
   "execution_count": 8,
   "metadata": {},
   "outputs": [
    {
     "data": {
      "text/plain": [
       "2"
      ]
     },
     "execution_count": 8,
     "metadata": {},
     "output_type": "execute_result"
    }
   ],
   "source": [
    "i = 1\n",
    "j = 4\n",
    "\n",
    "matriz14 = a21*((a32*a43)-(a33*a42)) - a22*((a31*a43)-(a33*a41)) + a23*((a31*a42)-(a32*a41))\n",
    "\n",
    "c14 = (-1)**(i+j)*matriz14\n",
    "c14"
   ]
  },
  {
   "cell_type": "markdown",
   "metadata": {},
   "source": [
    "Cálculo da célula a21.\n",
    "\\begin{equation}\n",
    "\tc_{21} = (-1)^{(2+1)}.\n",
    "\t\\begin{bmatrix}\n",
    "\t\ta_{12} & a_{13}  & a_{14}  \\\\\n",
    "\t\ta_{32} & a_{33}  & a_{34}  \\\\\n",
    "\t\ta_{42} & a_{43}  & a_{44}  \\nonumber \\\\ \n",
    "\t\\end{bmatrix} \n",
    "\\end{equation}\n"
   ]
  },
  {
   "cell_type": "code",
   "execution_count": 9,
   "metadata": {},
   "outputs": [
    {
     "data": {
      "text/plain": [
       "-2"
      ]
     },
     "execution_count": 9,
     "metadata": {},
     "output_type": "execute_result"
    }
   ],
   "source": [
    "i = 2\n",
    "j = 1\n",
    "\n",
    "matriz21 = a12*((a33*a44)-(a34*a43)) - a13*((a32*a44)-(a34*a42)) + a14*((a32*a43)-(a33*a42))\n",
    "\n",
    "c21 = (-1)**(i+j)*matriz21\n",
    "c21"
   ]
  },
  {
   "cell_type": "markdown",
   "metadata": {},
   "source": [
    "Cálculo da célula a22.\n",
    "\\begin{equation}\n",
    "\tc_{22} = (-1)^{(2+2)}.\n",
    "\t\\begin{bmatrix}\n",
    "\t\ta_{11} & a_{13}  & a_{14}  \\\\\n",
    "\t\ta_{31} & a_{33}  & a_{34}  \\\\\n",
    "\t\ta_{41} & a_{43}  & a_{44}  \\nonumber \\\\ \n",
    "\t\\end{bmatrix} \n",
    "\\end{equation}\n"
   ]
  },
  {
   "cell_type": "code",
   "execution_count": 10,
   "metadata": {},
   "outputs": [
    {
     "data": {
      "text/plain": [
       "1"
      ]
     },
     "execution_count": 10,
     "metadata": {},
     "output_type": "execute_result"
    }
   ],
   "source": [
    "i = 2\n",
    "j = 2\n",
    "\n",
    "matriz22 = a11*((a33*a44)-(a34*a43)) - a13*((a31*a44)-(a34*a41)) + a14*((a31*a43)-(a33*a41))\n",
    "\n",
    "c22 = (-1)**(i+j)*matriz22  \n",
    "c22"
   ]
  },
  {
   "cell_type": "markdown",
   "metadata": {},
   "source": [
    "Cálculo da célula a23.\n",
    "\\begin{equation}\n",
    "c_{23} = (-1)^{(2+3)}.\n",
    "\t\\begin{bmatrix}\n",
    "\t\ta_{11} & a_{12}  & a_{14}  \\\\\n",
    "\t\ta_{31} & a_{32}  & a_{34}  \\\\\n",
    "\t\ta_{41} & a_{42}  & a_{44}  \\nonumber \\\\ \n",
    "\t\\end{bmatrix} \n",
    "\\end{equation}\n"
   ]
  },
  {
   "cell_type": "code",
   "execution_count": 11,
   "metadata": {},
   "outputs": [
    {
     "data": {
      "text/plain": [
       "0"
      ]
     },
     "execution_count": 11,
     "metadata": {},
     "output_type": "execute_result"
    }
   ],
   "source": [
    "i = 2\n",
    "j = 3\n",
    "\n",
    "matriz23 = a11*((a32*a44)-(a34*a42)) - a12*((a31*a44)-(a34*a41)) + a14*((a31*a42)-(a32*a41))\n",
    "\n",
    "c23 = (-1)**(i+j)*matriz23  \n",
    "c23"
   ]
  },
  {
   "cell_type": "markdown",
   "metadata": {},
   "source": [
    "Cálculo da célula a24.\n",
    "\\begin{equation}\n",
    "c_{24} = (-1)^{(2+4)}.\n",
    "\t\\begin{bmatrix}\n",
    "\t\ta_{11} & a_{12}  & a_{13}  \\\\\n",
    "\t\ta_{31} & a_{32}  & a_{33}  \\\\\n",
    "\t\ta_{41} & a_{42}  & a_{44}  \\nonumber \\\\ \n",
    "\t\\end{bmatrix} \n",
    "\\end{equation}\n"
   ]
  },
  {
   "cell_type": "code",
   "execution_count": 12,
   "metadata": {},
   "outputs": [
    {
     "data": {
      "text/plain": [
       "0"
      ]
     },
     "execution_count": 12,
     "metadata": {},
     "output_type": "execute_result"
    }
   ],
   "source": [
    "i = 2\n",
    "j = 4\n",
    "\n",
    "matriz24 = a11*((a32*a44)-(a33*a42)) - a12*((a31*a44)-(a33*a41)) + a13*((a31*a42)-(a32*a41))\n",
    "\n",
    "c24 = (-1)**(i+j)*matriz24  \n",
    "c24"
   ]
  },
  {
   "cell_type": "markdown",
   "metadata": {},
   "source": [
    "Cálculo da célula a31.\n",
    "\\begin{equation}\n",
    "c_{31} = (-1)^{(3+1)}.\n",
    "\t\\begin{bmatrix}\n",
    "\t\ta_{12} & a_{13}  & a_{14}  \\\\\n",
    "\t\ta_{22} & a_{23}  & a_{24}  \\\\\n",
    "\t\ta_{42} & a_{43}  & a_{44}  \\nonumber \\\\ \n",
    "\t\\end{bmatrix} \n",
    "\\end{equation}\n"
   ]
  },
  {
   "cell_type": "code",
   "execution_count": 13,
   "metadata": {},
   "outputs": [
    {
     "data": {
      "text/plain": [
       "0"
      ]
     },
     "execution_count": 13,
     "metadata": {},
     "output_type": "execute_result"
    }
   ],
   "source": [
    "i = 3\n",
    "j = 1\n",
    "\n",
    "matriz31 = a12*((a23*a44)-(a24*a43)) - a13*((a22*a44)-(a24*a42)) + a14*((a22*a43)-(a23*a42))\n",
    "\n",
    "c31 = (-1)**(i+j)*matriz31  \n",
    "c31"
   ]
  },
  {
   "cell_type": "markdown",
   "metadata": {},
   "source": [
    "Cálculo da célula a32.\n",
    "\\begin{equation}\n",
    "c_{32} = (-1)^{(3+2)}.\n",
    "\t\\begin{bmatrix}\n",
    "\t\ta_{11} & a_{13}  & a_{14}  \\\\\n",
    "\t\ta_{21} & a_{23}  & a_{24}  \\\\\n",
    "\t\ta_{41} & a_{43}  & a_{44}  \\nonumber \\\\ \n",
    "\t\\end{bmatrix} \n",
    "\\end{equation}\n"
   ]
  },
  {
   "cell_type": "code",
   "execution_count": 14,
   "metadata": {},
   "outputs": [
    {
     "data": {
      "text/plain": [
       "0"
      ]
     },
     "execution_count": 14,
     "metadata": {},
     "output_type": "execute_result"
    }
   ],
   "source": [
    "i = 3\n",
    "j = 2\n",
    "\n",
    "matriz32 = a11*((a23*a44)-(a24*a43)) - a13*((a21*a44)-(a24*a41)) + a14*((a21*a43)-(a23*a41))\n",
    "\n",
    "c32 = (-1)**(i+j)*matriz32\n",
    "c32"
   ]
  },
  {
   "cell_type": "markdown",
   "metadata": {},
   "source": [
    "Cálculo da célula a33.\n",
    "\\begin{equation}\n",
    "c_{33} = (-1)^{(3+3)}.\n",
    "\t\\begin{bmatrix}\n",
    "\t\ta_{11} & a_{12}  & a_{14}  \\\\\n",
    "\t\ta_{21} & a_{22}  & a_{24}  \\\\\n",
    "\t\ta_{41} & a_{42}  & a_{44}  \\nonumber \\\\ \n",
    "\t\\end{bmatrix} \n",
    "\\end{equation}\n"
   ]
  },
  {
   "cell_type": "code",
   "execution_count": 15,
   "metadata": {},
   "outputs": [
    {
     "data": {
      "text/plain": [
       "-1"
      ]
     },
     "execution_count": 15,
     "metadata": {},
     "output_type": "execute_result"
    }
   ],
   "source": [
    "i = 3\n",
    "j = 3\n",
    "\n",
    "matriz33 = a11*((a22*a44)-(a24*a42)) - a12*((a21*a44)-(a24*a41)) + a14*((a21*a42)-(a22*a41))\n",
    "\n",
    "c33 = (-1)**(i+j)*matriz33\n",
    "c33"
   ]
  },
  {
   "cell_type": "markdown",
   "metadata": {},
   "source": [
    "Cálculo da célula a34.\n",
    "\\begin{equation}\n",
    "c_{34} = (-1)^{(3+4)}.\n",
    "\t\\begin{bmatrix}\n",
    "\t\ta_{11} & a_{12}  & a_{13}  \\\\\n",
    "\t\ta_{21} & a_{22}  & a_{23}  \\\\\n",
    "\t\ta_{41} & a_{42}  & a_{43}  \\nonumber \\\\ \n",
    "\t\\end{bmatrix} \n",
    "\\end{equation}\n"
   ]
  },
  {
   "cell_type": "code",
   "execution_count": 16,
   "metadata": {},
   "outputs": [
    {
     "data": {
      "text/plain": [
       "0"
      ]
     },
     "execution_count": 16,
     "metadata": {},
     "output_type": "execute_result"
    }
   ],
   "source": [
    "i = 3\n",
    "j = 4\n",
    "\n",
    "matriz34 = a11*((a22*a43)-(a23*a42)) - a12*((a21*a43)-(a23*a41)) + a13*((a21*a42)-(a22*a41))\n",
    "\n",
    "c34 = (-1)**(i+j)*matriz34\n",
    "c34"
   ]
  },
  {
   "cell_type": "markdown",
   "metadata": {},
   "source": [
    "Cálculo de célula a41.\n",
    "\\begin{equation}\n",
    "c_{41} = (-1)^{(4+1)}.\n",
    "\t\\begin{bmatrix}\n",
    "\t\ta_{12} & a_{13}  & a_{14}  \\\\\n",
    "\t\ta_{22} & a_{23}  & a_{24}  \\\\\n",
    "\t\ta_{32} & a_{33}  & a_{34}  \\nonumber \\\\ \n",
    "\t\\end{bmatrix} \n",
    "\\end{equation}\n"
   ]
  },
  {
   "cell_type": "code",
   "execution_count": 17,
   "metadata": {},
   "outputs": [
    {
     "data": {
      "text/plain": [
       "5"
      ]
     },
     "execution_count": 17,
     "metadata": {},
     "output_type": "execute_result"
    }
   ],
   "source": [
    "i = 4\n",
    "j = 1\n",
    "\n",
    "matriz41 = a12*((a23*a34)-(a24*a33)) - a13*((a22*a34)-(a24*a32)) + a14*((a22*a33)-(a23*a32))\n",
    "\n",
    "c41 = (-1)**(i+j)*matriz41\n",
    "c41"
   ]
  },
  {
   "cell_type": "markdown",
   "metadata": {},
   "source": [
    "Cálculo da célula a42.\n",
    "\\begin{equation}\n",
    "c_{42} = (-1)^{(4+2)}.\n",
    "\t\\begin{bmatrix}\n",
    "\t\ta_{11} & a_{13}  & a_{14}  \\\\\n",
    "\t\ta_{21} & a_{23}  & a_{24}  \\\\\n",
    "\t\ta_{31} & a_{33}  & a_{34}  \\nonumber \\\\ \n",
    "\t\\end{bmatrix}\n",
    "\\end{equation}\n"
   ]
  },
  {
   "cell_type": "code",
   "execution_count": 18,
   "metadata": {},
   "outputs": [
    {
     "data": {
      "text/plain": [
       "-2"
      ]
     },
     "execution_count": 18,
     "metadata": {},
     "output_type": "execute_result"
    }
   ],
   "source": [
    "i = 4\n",
    "j = 2\n",
    "\n",
    "matriz42 = a11*((a23*a34)-(a24*a33)) - a13*((a21*a34)-(a24*a31)) + a14*((a21*a33)-(a23*a31))\n",
    "\n",
    "c42 = (-1)**(i+j)*matriz42\n",
    "c42"
   ]
  },
  {
   "cell_type": "markdown",
   "metadata": {},
   "source": [
    "Cálculo da célula a43.\n",
    "\\begin{equation}\n",
    "c_{43} = (-1)^{(4+3)}.\n",
    "\t\\begin{bmatrix}\n",
    "\t\ta_{11} & a_{12}  & a_{14}  \\\\\n",
    "\t\ta_{21} & a_{22}  & a_{24}  \\\\\n",
    "\t\ta_{31} & a_{32}  & a_{34}  \\nonumber \\\\ \n",
    "\t\\end{bmatrix}\n",
    "\\end{equation}\n"
   ]
  },
  {
   "cell_type": "code",
   "execution_count": 19,
   "metadata": {},
   "outputs": [
    {
     "data": {
      "text/plain": [
       "0"
      ]
     },
     "execution_count": 19,
     "metadata": {},
     "output_type": "execute_result"
    }
   ],
   "source": [
    "i = 4\n",
    "j = 3\n",
    "\n",
    "matriz43 = a11*((a22*a34)-(a24*a32)) - a12*((a21*a34)-(a24*a31)) + a14*((a21*a32)-(a22*a31))\n",
    "\n",
    "c43 = (-1)**(i+j)*matriz43\n",
    "c43"
   ]
  },
  {
   "cell_type": "markdown",
   "metadata": {},
   "source": [
    "Cálculo da célula a44\n",
    "\\begin{equation}\n",
    "c_{44} = (-1)^{(4+4)}.\n",
    "\t\\begin{bmatrix}\n",
    "\t\ta_{11} & a_{12}  & a_{13}  \\\\\n",
    "\t\ta_{21} & a_{22}  & a_{23}  \\\\\n",
    "\t\ta_{31} & a_{32}  & a_{33}  \\nonumber \\\\ \n",
    "\t\\end{bmatrix} \n",
    "\\end{equation}\n"
   ]
  },
  {
   "cell_type": "code",
   "execution_count": 20,
   "metadata": {},
   "outputs": [
    {
     "data": {
      "text/plain": [
       "-1"
      ]
     },
     "execution_count": 20,
     "metadata": {},
     "output_type": "execute_result"
    }
   ],
   "source": [
    "i = 4\n",
    "j = 4\n",
    "\n",
    "matriz44 = a11*((a22*a33)-(a23*a32)) - a12*((a21*a33)-(a23*a31)) + a13*((a21*a32)-(a22*a31))\n",
    "\n",
    "c44 = (-1)**(i+j)*matriz44\n",
    "c44"
   ]
  },
  {
   "cell_type": "markdown",
   "metadata": {},
   "source": [
    "Agora vamos substituir os valores encontrados para cada cofator $c_{ij}$ na matriz $A$ para forma a matriz cofator $A_c$.\n"
   ]
  },
  {
   "cell_type": "code",
   "execution_count": 21,
   "metadata": {},
   "outputs": [
    {
     "data": {
      "text/plain": [
       "array([[-13,   5,   3,   2],\n",
       "       [ -2,   1,   0,   0],\n",
       "       [  0,   0,  -1,   0],\n",
       "       [  5,  -2,   0,  -1]])"
      ]
     },
     "execution_count": 21,
     "metadata": {},
     "output_type": "execute_result"
    }
   ],
   "source": [
    "import numpy as np\n",
    "Ac = np.array([[c11, c12, c13, c14],\n",
    "               [c21, c22, c23, c24],\n",
    "               [c31, c32, c33, c34],\n",
    "               [c41, c42, c43, c44]\n",
    "               ])\n",
    "Ac"
   ]
  },
  {
   "cell_type": "markdown",
   "metadata": {},
   "source": [
    "#### Cálculo da  Matriz transposta (AT).\n",
    "\n",
    "Nós podemos calcular a matriz transposta fazendo a linha da matriz se transformar em coluna conforme abaixo.\n"
   ]
  },
  {
   "cell_type": "code",
   "execution_count": 22,
   "metadata": {},
   "outputs": [
    {
     "data": {
      "text/plain": [
       "[[-13, -2, 0, 5], [5, 1, 0, -2], [3, 0, -1, 0], [2, 0, 0, -1]]"
      ]
     },
     "execution_count": 22,
     "metadata": {},
     "output_type": "execute_result"
    }
   ],
   "source": [
    "# NA MATRIZ TRANSPOSTA AS LINHAS VIRA COLUNA\n",
    "Matriz_T = [[c11, c21, c31, c41],\n",
    "            [c12, c22, c32, c42],\n",
    "            [c13, c23, c33, c43],\n",
    "            [c14, c24, c34, c44]]\n",
    "Matriz_T"
   ]
  },
  {
   "cell_type": "markdown",
   "metadata": {},
   "source": [
    "Nós também podemos usar a biblioteca Numpy e resolver a transposta de uma matriz conforme mostrado abaixo.\n"
   ]
  },
  {
   "cell_type": "code",
   "execution_count": 23,
   "metadata": {},
   "outputs": [
    {
     "data": {
      "text/plain": [
       "array([[-13,  -2,   0,   5],\n",
       "       [  5,   1,   0,  -2],\n",
       "       [  3,   0,  -1,   0],\n",
       "       [  2,   0,   0,  -1]])"
      ]
     },
     "execution_count": 23,
     "metadata": {},
     "output_type": "execute_result"
    }
   ],
   "source": [
    "# Mostrando os valores da transposta\n",
    "AT =np.transpose(Ac)\n",
    "AT"
   ]
  },
  {
   "cell_type": "markdown",
   "metadata": {},
   "source": [
    "Nós já temos a matriz Transposta $A^T$, agora precisamos calcular o Determinante de uma matriz $4x4$ e substituir os resultados na Eq(2).\n",
    "\n",
    "Vamos repetir a matriz $A$ com os valores numéricos abaixo:\n",
    "\n",
    "\\begin{equation}\n",
    "\tA = \n",
    "\t\\begin{bmatrix}\n",
    "\t\ta_{11} & a_{12}  & a_{13} & a_{14} \\\\\n",
    "\t\ta_{21} & a_{22}  & a_{23} & a_{24} \\\\\n",
    "\t\ta_{31} & a_{32}  & a_{33} & a_{34} \\\\\n",
    "\t\ta_{41} & a_{42}  & a_{43} & a_{44} \\nonumber \\\\ \n",
    "\t\\end{bmatrix} \n",
    "    =\n",
    "    \\begin{bmatrix}\n",
    "\t\t4 & -1  & -1 & 0 \\\\\n",
    "\t\t-1 & 4  & 0 & -1 \\\\\n",
    "\t\t-1 & 0  & 4 & -1 \\\\\n",
    "\t\t0 & -1  & -1 & 4 \\nonumber \\\\ \n",
    "\t\\end{bmatrix}\n",
    "\\end{equation}\n",
    "\n",
    "O Determinante será encontrado fazendo:\n",
    "\n",
    "$$ D = \\sum a_{ij}A_{ij} $$\n",
    "\n",
    "Ele poderá ser encontrado a partir de uma linha ou coluna. Vamos escolher a que apresenta muitos zeros porque qualquer número multiplicado por zero é igual a zero. Dessa forma o cálculo ficará mais fácil. Então vamos escolher a primeira linha para fazer o cálculo do Determinante.\n",
    "\n",
    "$$  D = a_{11}A_{11} + a_{12}A_{12} + a_{13}A_{13} + a_{14}A_{14} $$\n",
    "\n",
    "$$  D = 4A_{11} -1A_{12} -1A_{13} + 0A_{14} $$\n",
    "\n",
    "Vamos usar a Eq(5) para calcular as matrizes $A_{ij}$ (repetido abaixo)\n",
    "\n",
    "$$  A_c = (-1)^{(i+j)} [a_{ij}] ... Eq(5)$$ \n",
    "\n",
    "Já foi calculado acima: $A_{11}=c_{11}$, $A_{12}=c_{12}$ e $A_{13}=c_{13}$.\n"
   ]
  },
  {
   "cell_type": "code",
   "execution_count": 24,
   "metadata": {},
   "outputs": [
    {
     "data": {
      "text/plain": [
       "-60"
      ]
     },
     "execution_count": 24,
     "metadata": {},
     "output_type": "execute_result"
    }
   ],
   "source": [
    "D = 4*c11 -1*c12 -1*c13 + 0*c14\n",
    "D"
   ]
  },
  {
   "cell_type": "markdown",
   "metadata": {},
   "source": [
    "Substituindo os valores na Equação (1) para determinar a matriz inversa, ($A^{-1}$), temos:\n"
   ]
  },
  {
   "cell_type": "code",
   "execution_count": 27,
   "metadata": {},
   "outputs": [
    {
     "data": {
      "text/plain": [
       "array([[ 0.21666667,  0.03333333, -0.        , -0.08333333],\n",
       "       [-0.08333333, -0.01666667, -0.        ,  0.03333333],\n",
       "       [-0.05      , -0.        ,  0.01666667, -0.        ],\n",
       "       [-0.03333333, -0.        , -0.        ,  0.01666667]])"
      ]
     },
     "execution_count": 27,
     "metadata": {},
     "output_type": "execute_result"
    }
   ],
   "source": [
    "A_inv = (1/D)*AT\n",
    "A_inv"
   ]
  }
 ],
 "metadata": {
  "kernelspec": {
   "display_name": "TrilhaPython",
   "language": "python",
   "name": "python3"
  },
  "language_info": {
   "codemirror_mode": {
    "name": "ipython",
    "version": 3
   },
   "file_extension": ".py",
   "mimetype": "text/x-python",
   "name": "python",
   "nbconvert_exporter": "python",
   "pygments_lexer": "ipython3",
   "version": "3.10.11"
  }
 },
 "nbformat": 4,
 "nbformat_minor": 2
}
