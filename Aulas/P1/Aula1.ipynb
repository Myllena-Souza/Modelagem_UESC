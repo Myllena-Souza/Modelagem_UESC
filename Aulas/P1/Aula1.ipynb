{
 "cells": [
  {
   "cell_type": "markdown",
   "metadata": {},
   "source": [
    "## UNIVERSIDADE ESTADUAL DE SANTA CRUZ - UESC\n",
    "#### DEPARTAMENTO DE ENGENHARIAS E COMPUTAÇÃO - DEC\n",
    "#### CURSO DE ENGENHARIA QUÍMICA\n",
    "\n",
    "**CET 1012** Modelagem, Simulação e Otimização de Processos Químicos.\n",
    "\n",
    "**Tema:** Métodos Matriciais em Cálculos de Engenharia.\n",
    "\n",
    "**Assunto**Manipulação de matrizes para cálculo de Engenharia.\n"
   ]
  },
  {
   "cell_type": "markdown",
   "metadata": {},
   "source": [
    "#### 1 - Soma de matrizes e resolução computacional\n",
    "\n",
    "Seja a matriz $A$ e $B$ dada por:\n",
    "\n",
    "\n",
    "\\begin{equation}\t\n",
    "A = \n",
    "\t\\begin{bmatrix}\n",
    "\t\ta_{11} & a_{12}   & \\ldots &  a_{1n} \\\\\n",
    "\t\ta_{21} & a_{22}   & \\ldots &  a_{2n} \\\\\n",
    "        \\vdots & \\vdots   & \\ddots &  \\vdots \\\\\n",
    "        a_{m1} & a_{m2}   & \\ldots &  a_{mn}   \\\\ \\nonumber \n",
    "        \\end{bmatrix}\n",
    "    \\\n",
    "    \\\n",
    "  \tB = \n",
    "\t\\begin{bmatrix}\n",
    "\t\tb_{11} & b_{12}  & \\ldots &  b_{1n} \\\\\n",
    "\t\tb_{21} & b_{22}   & \\ldots & b_{2n} \\\\\n",
    "        \\vdots & \\vdots   & \\ddots &  \\vdots \\\\\n",
    "        b_{m1} & b_{m2}   & \\ldots &  b_{mn}   \\\\ \\nonumber \n",
    "        \\end{bmatrix}\n",
    "\\end{equation}\n",
    "A soma de duas matrizes é dada por:\n",
    "\n",
    "\\begin{equation}\t\n",
    "C = \n",
    "\t\\begin{bmatrix}\n",
    "\t\ta_{11} + b_{11}  &  a_{12} + b_{12}   & \\ldots &  a_{1n} + b_{1n}  \\\\\n",
    "\t\ta_{21} + b_{21}  &  a_{22} + b_{22}   & \\ldots &  a_{2n} + b_{2n}  \\\\\n",
    "                 \\vdots  &           \\vdots   & \\ddots &         \\vdots    \\\\\n",
    "        a_{m1} + b_{m1}  &  a_{m2} + b_{m2}   & \\ldots &  a_{mn} + b_{mn}  \\\\ \\nonumber \n",
    "        \\end{bmatrix}\n",
    "\\end{equation}\n"
   ]
  },
  {
   "cell_type": "markdown",
   "metadata": {},
   "source": [
    "#### **Exercício**\n",
    "\n",
    "calcule a matriz $C$  sabendo-se que é a soma da Matriz  $A$ e $B$.\n",
    "\n",
    "\\begin{equation}\t\n",
    "\tA = \n",
    "\t\\begin{bmatrix}\n",
    "\t\t1 & 2 & 3 \\\\\n",
    "       \t4 & 5 & 6  \\nonumber \\\\ \n",
    "        \\end{bmatrix}\n",
    "        \\\n",
    "        B = \n",
    "\t\\begin{bmatrix}\n",
    "\t\t2 & 1 & 4 \\\\\n",
    "       \t1 & 1 & 2  \\nonumber \\\\ \n",
    "        \\end{bmatrix}\n",
    "    \\end{equation}\n",
    "    \n",
    "**Resposta:**\n",
    "\\begin{equation}\t\n",
    "\tC = A+B =\n",
    "\t\\begin{bmatrix}\n",
    "\t\t3 & 3 & 7 \\\\\n",
    "       \t5 & 6 & 8  \\nonumber \\\\ \n",
    "        \\end{bmatrix}\n",
    "\\end{equation}\n"
   ]
  },
  {
   "cell_type": "code",
   "execution_count": 3,
   "metadata": {},
   "outputs": [],
   "source": [
    "# Somando matrizes de forma algebrica\n",
    "\n",
    "# Sendo a matriz A\n",
    "a11, a12, a13 = 1, 2, 3\n",
    "a21, a22, a23 = 4, 5, 6\n",
    "\n",
    "#Matriz B\n",
    "b11, b12, b13 = 2, 1, 4\n",
    "b21, b22, b23 = 1, 1, 2\n",
    "\n",
    "#Somando a matriz C = A + B\n",
    "\n",
    "C = [[a11+b11, a12+b12, a13+b13],\n",
    "     [a21+b21, a22+b22, a23+b23]]"
   ]
  },
  {
   "cell_type": "code",
   "execution_count": 4,
   "metadata": {},
   "outputs": [
    {
     "data": {
      "text/plain": [
       "[[3, 3, 7], [5, 6, 8]]"
      ]
     },
     "execution_count": 4,
     "metadata": {},
     "output_type": "execute_result"
    }
   ],
   "source": [
    "C"
   ]
  },
  {
   "cell_type": "code",
   "execution_count": 5,
   "metadata": {},
   "outputs": [],
   "source": [
    "# Fazendo a subtração da matriz D = A - B (UTILIZANDO DADOS DO EXERCICIO 1)\n",
    "\n",
    "D = [[a11-b11, a12-b12, a13-b13, \n",
    "      [a21-b21, a22-b22, a23-b23]]]"
   ]
  },
  {
   "cell_type": "code",
   "execution_count": 6,
   "metadata": {},
   "outputs": [
    {
     "data": {
      "text/plain": [
       "[[-1, 1, -1, [3, 4, 4]]]"
      ]
     },
     "execution_count": 6,
     "metadata": {},
     "output_type": "execute_result"
    }
   ],
   "source": [
    "D"
   ]
  },
  {
   "cell_type": "markdown",
   "metadata": {},
   "source": [
    "#### 2 - Subtração de matrizes e resolução computacional\n",
    "\n",
    "A diferenca de duas matrizes $A-B$ de ordem $(mxn)$ é uma matriz $C$ tal que:\n",
    "\n",
    "$$ c_{ij} = a_{ij} - b_{ij}$$\n",
    "\n",
    "Seja a matriz $A$ e $B$ dada por:\n",
    "\n",
    "\n",
    "\\begin{equation}\t\n",
    "A = \n",
    "\t\\begin{bmatrix}\n",
    "\t\ta_{11} & a_{12}   & \\ldots &  a_{1n} \\\\\n",
    "\t\ta_{21} & a_{22}   & \\ldots &  a_{2n} \\\\\n",
    "        \\vdots & \\vdots   & \\ddots &  \\vdots \\\\\n",
    "        a_{m1} & a_{m2}   & \\ldots &  a_{mn}   \\\\ \\nonumber \n",
    "        \\end{bmatrix}\n",
    "    \\\n",
    "    \\\n",
    "  \tB = \n",
    "\t\\begin{bmatrix}\n",
    "\t\tb_{11} & b_{12}  & \\ldots &  b_{1n} \\\\\n",
    "\t\tb_{21} & b_{22}   & \\ldots &  b_{2n} \\\\\n",
    "        \\vdots & \\vdots   & \\ddots &  \\vdots \\\\\n",
    "        b_{m1} & b_{m2}   & \\ldots &  b_{mn}   \\\\ \\nonumber \n",
    "        \\end{bmatrix}\n",
    "\\end{equation}\n"
   ]
  },
  {
   "cell_type": "markdown",
   "metadata": {},
   "source": [
    "A subtração de duas matrizes é dada por:\n",
    "\n",
    "\\begin{equation}\t\n",
    "C = \n",
    "\t\\begin{bmatrix}\n",
    "\t\ta_{11} - b_{11}  &  a_{12} - b_{12}   & \\ldots &  a_{1n} - b_{1n}  \\\\\n",
    "\t\ta_{21} - b_{21}  &  a_{22} - b_{22}   & \\ldots &  a_{2n} - b_{2n}  \\\\\n",
    "                 \\vdots  &           \\vdots   & \\ddots &         \\vdots    \\\\\n",
    "        a_{m1} - b_{m1}  &  a_{m2} - b_{m2}   & \\ldots &  a_{mn} - b_{mn}  \\\\ \\nonumber \n",
    "        \\end{bmatrix}\n",
    "\\end{equation}\n"
   ]
  },
  {
   "cell_type": "markdown",
   "metadata": {},
   "source": [
    "#### **Exercício**\n",
    "\n",
    "Calcule a matriz $C$  sabendo-se que é a subtração da Matriz  $A$ e $B$.\n",
    "\n",
    "\\begin{equation}\t\n",
    "\tA = \n",
    "\t\\begin{bmatrix}\n",
    "\t\t2 & 3 & 1 \\\\\n",
    "       \t3 & 4 & 5  \\nonumber \\\\ \n",
    "        \\end{bmatrix}\n",
    "        \\\n",
    "        B = \n",
    "\t\\begin{bmatrix}\n",
    "\t\t3 & 2 & 1 \\\\\n",
    "       \t2 & 1 & 3  \\nonumber \\\\ \n",
    "        \\end{bmatrix}\n",
    "    \\end{equation}\n",
    "    \n",
    "**Resposta:**\n",
    "\\begin{equation}\t\n",
    "\tC = A-B =\n",
    "\t\\begin{bmatrix}\n",
    "\t\t-1 & 1 & 0 \\\\\n",
    "       \t1 & 3 & 2  \\nonumber \\\\ \n",
    "        \\end{bmatrix}\n",
    "\\end{equation}\n"
   ]
  },
  {
   "cell_type": "code",
   "execution_count": 7,
   "metadata": {},
   "outputs": [],
   "source": [
    "# RESOLUÇÃO\n",
    "\n",
    "# Sendo a matriz A\n",
    "\n",
    "a11, a12, a13 = 2, 3, 1\n",
    "a21, a22, a23 = 3, 4, 5\n",
    "\n",
    "# Sendo a matriz B\n",
    "\n",
    "b11, b12, b13 = 3, 2, 1\n",
    "b21, b22, b23 = 2, 1, 3"
   ]
  },
  {
   "cell_type": "code",
   "execution_count": 8,
   "metadata": {},
   "outputs": [],
   "source": [
    "# CALCULANDO A MATRIZ C, SENDO A SUBTRAÇÃO A - B, TEMOS:\n",
    "\n",
    "C = [[a11-b11, a12-b12, a13-b13],\n",
    "     [a21-b21, a22-b22, a23-b23]]"
   ]
  },
  {
   "cell_type": "code",
   "execution_count": 9,
   "metadata": {},
   "outputs": [
    {
     "name": "stdout",
     "output_type": "stream",
     "text": [
      "[[-1, 1, 0], [1, 3, 2]]\n"
     ]
    }
   ],
   "source": [
    "# mostrando o resultado\n",
    "\n",
    "print(C)"
   ]
  },
  {
   "cell_type": "markdown",
   "metadata": {},
   "source": [
    "**2.1 - Subtração de matrizes usando NumPy**\n"
   ]
  },
  {
   "cell_type": "code",
   "execution_count": 11,
   "metadata": {},
   "outputs": [
    {
     "data": {
      "text/plain": [
       "array([[-1,  1,  0],\n",
       "       [ 1,  3,  2]])"
      ]
     },
     "execution_count": 11,
     "metadata": {},
     "output_type": "execute_result"
    }
   ],
   "source": [
    "import numpy as np\n",
    "\n",
    "# MATRIZ A utilizando as variaveis, quando utiliza os valores numericos os valores não sai correto.\n",
    "\n",
    "A1 = np.array([[a11, a12, a13], [a21, a22, a23]])\n",
    "\n",
    "# MATRIZ B \n",
    "\n",
    "B1 = np.array ([[b11, b12, b13], [b21, b22, b23]])\n",
    "\n",
    "C1 = A1 - B1\n",
    "\n",
    "C1\n"
   ]
  },
  {
   "cell_type": "code",
   "execution_count": 13,
   "metadata": {},
   "outputs": [
    {
     "data": {
      "text/plain": [
       "array([[-1,  1,  0],\n",
       "       [ 1,  3,  2]])"
      ]
     },
     "execution_count": 13,
     "metadata": {},
     "output_type": "execute_result"
    }
   ],
   "source": [
    "# Calculando a subtração de matrizes utilizando \"subtract\"\n",
    "\n",
    "Csub = np.subtract (A1, B1)\n",
    "Csub"
   ]
  }
 ],
 "metadata": {
  "kernelspec": {
   "display_name": "Python 3 (ipykernel)",
   "language": "python",
   "name": "python3"
  },
  "language_info": {
   "codemirror_mode": {
    "name": "ipython",
    "version": 3
   },
   "file_extension": ".py",
   "mimetype": "text/x-python",
   "name": "python",
   "nbconvert_exporter": "python",
   "pygments_lexer": "ipython3",
   "version": "3.11.7"
  }
 },
 "nbformat": 4,
 "nbformat_minor": 4
}
