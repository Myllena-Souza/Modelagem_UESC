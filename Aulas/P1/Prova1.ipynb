{
 "cells": [
  {
   "cell_type": "markdown",
   "metadata": {},
   "source": [
    "## UNIVERSIDADE ESTADUAL DE SANTA CRUZ - UESC\n",
    "#### DEPARTAMENTO DE ENGENHARIAS E COMPUTAÇÃO - DEC\n",
    "#### CURSO DE ENGENHARIA QUÍMICA\n",
    "\n",
    "**CET 1012** Modelagem, Simulação e Otimização de Processos Químicos.\n",
    "\n",
    "**Professor**: Prof. Dr E.R.Edwards\n",
    "\n",
    "**Discente:** Myllena Souza da Silva.\n",
    "\n",
    "### **PROVA 1**"
   ]
  },
  {
   "cell_type": "markdown",
   "metadata": {},
   "source": [
    "### **QUESTÃO 1**"
   ]
  },
  {
   "cell_type": "markdown",
   "metadata": {},
   "source": [
    "Suponhamos que temos quatro componentes principais no Petr ́oleo bruto: **Gasolina (G)**,\n",
    "**Diesel (D)**, **Querosene (Q)** e **Resíduos (R)**. Queremos separar esses componentes usando\n",
    "um processo de destilação. As frações molares iniciais de cada componente no petróleo bruto\n",
    "são dadas por:"
   ]
  },
  {
   "cell_type": "markdown",
   "metadata": {},
   "source": [
    "- Fração molar inicial de __Gasolina: 0.2__\n",
    "- Fração molar inicial de __Diesel: 0.3__\n",
    "- Fração molar inicial de __Querosene: 0.4__\n",
    "- Fração molar inicial de __Resíduos: 0.1__"
   ]
  },
  {
   "cell_type": "markdown",
   "metadata": {},
   "source": [
    "O processo de destilação produz quatro correntes de produtos com as seguintes frações\n",
    "molares:"
   ]
  },
  {
   "cell_type": "markdown",
   "metadata": {},
   "source": [
    "- Corrente de gasolina **(G)**: Fração molar de Gasolina = 0.8\n",
    "- Corrente de diesel **(D)**: Fração molar de Diesel = 0.5\n",
    "- Corrente de querosene **(Q)**: Fração molar de Querosene = 0.2\n",
    "- Corrente de res ́ıduos **(R)** : Fração molar de Res ́ıduos = 0.1"
   ]
  },
  {
   "cell_type": "markdown",
   "metadata": {},
   "source": [
    "Pede-se:\n",
    "Resolva o problema utilizando métodos algébricos com a linguagem de programação em\n",
    "Python. Confiram os resultados utilizando uma biblioteca de cálculos como o NumPy."
   ]
  },
  {
   "cell_type": "markdown",
   "metadata": {},
   "source": [
    "### RESOLUÇÃO ###"
   ]
  },
  {
   "cell_type": "markdown",
   "metadata": {},
   "source": [
    "Dada a seguinte matriz:"
   ]
  },
  {
   "cell_type": "markdown",
   "metadata": {},
   "source": [
    "\\begin{equation}\n",
    "\tA = \n",
    "\t\\begin{bmatrix}\n",
    "\t\t{0.8} & {0.0}  & {0.0} & {0.0} \\\\\n",
    "\t\t{0.0} & {0.5}  & {0.0} & {0.0} \\\\\n",
    "\t\t{0.0} & {0.0}  & {0.2} & {0.0} \\\\\n",
    "\t\t{0.0} & {0.0}  & {0.0} & {0.1} \\nonumber \\\\ \n",
    "\t\\end{bmatrix}\n",
    "\t.\n",
    "\t\\begin{bmatrix}\n",
    "\t\tm1 \\\\\n",
    "\t\tm2 \\\\\n",
    "\t\tm3 \\\\\n",
    "\t\tm4 \\\\\n",
    "\t\\end{bmatrix}\n",
    "\t=\n",
    "\t\\begin{bmatrix}\n",
    "\t\t20.0 \\\\\n",
    "\t\t30.0 \\\\\n",
    "\t\t40.0 \\\\\n",
    "\t\t10.0 \\\\\n",
    "\t\\end{bmatrix}\n",
    "\\end{equation}"
   ]
  },
  {
   "cell_type": "markdown",
   "metadata": {},
   "source": [
    "Vamos resolver a matriz: \n",
    "\n",
    "$$ A.x=b $$\n",
    "\n",
    "para determinar as incógnitas $x$ de forma que:\n",
    "\n",
    "$$ x = A^{-1}.b $$\n",
    "\n",
    "Sendo $ A^{-1} $ a matriz inversa."
   ]
  },
  {
   "cell_type": "markdown",
   "metadata": {},
   "source": [
    "- Inicialmente devemos declarar os valores da matriz."
   ]
  },
  {
   "cell_type": "code",
   "execution_count": null,
   "metadata": {},
   "outputs": [],
   "source": [
    "# DECLARANDO OS VALORES DA MATRIZ 4x4\n",
    "a11, a12, a13, a14 = 0.8, 0, 0, 0\n",
    "a21, a22, a23, a24 = 0, 0.5, 0, 0\n",
    "a31, a32, a33, a34 = 0, 0, 0.2, 0\n",
    "a41, a42, a43, a44 = 0, 0, 0, 0.1"
   ]
  },
  {
   "cell_type": "markdown",
   "metadata": {},
   "source": [
    "- Como estamos trabalhando com uma matriz 4x4 é preciso calcular os cofator de cada célula, inciando da a11 até a a44.\n",
    "\n",
    "\n",
    "- Para o cálculo do c11, é preciso isolar a linha e a coluna dessa célula e fazer assim para cada célula."
   ]
  },
  {
   "cell_type": "markdown",
   "metadata": {},
   "source": [
    "Cálculo da célula a11\n",
    "\\begin{equation}\n",
    "\tc_{11} = (-1)^{(1+1)}.\n",
    "\t\\begin{bmatrix}\n",
    "\t\ta_{22} & a_{23}  & a_{24}  \\\\\n",
    "\t\ta_{32} & a_{33}  & a_{34}  \\\\\n",
    "\t\ta_{42} & a_{43}  & a_{44}  \\nonumber \\\\ \n",
    "\t\\end{bmatrix} \n",
    "\\end{equation}"
   ]
  },
  {
   "cell_type": "code",
   "execution_count": null,
   "metadata": {},
   "outputs": [],
   "source": [
    "# calculando a matriz 2x2 do elemento a11\n",
    "i = 1\n",
    "j = 1\n",
    "\n",
    "matriz11 = a22*((a33*a44) - (a34*a43)) - a23*((a32*a44)- (a34*a42)) + a24*((a32*a43)- (a33*a42))\n",
    "\n",
    "c11 = (-1)**(i+j)*matriz11\n",
    "c11"
   ]
  },
  {
   "cell_type": "markdown",
   "metadata": {},
   "source": [
    "Calculo da célula a12\n",
    "\\begin{equation}\n",
    "\tc_{12} = (-1)^{(1+2)}.\n",
    "\t\\begin{bmatrix}\n",
    "\t\ta_{21} & a_{23}  & a_{24}  \\\\\n",
    "\t\ta_{31} & a_{33}  & a_{34}  \\\\\n",
    "\t\ta_{41} & a_{43}  & a_{44}  \\nonumber \\\\ \n",
    "\t\\end{bmatrix} \n",
    "\\end{equation}"
   ]
  },
  {
   "cell_type": "code",
   "execution_count": null,
   "metadata": {},
   "outputs": [],
   "source": [
    "i = 1\n",
    "j = 2\n",
    "\n",
    "matriz12 = a21*((a33*a44) - (a34*a43)) - a23*((a31*a44)-(a34*a41)) + a24*((a31*a43)- (a33*a41))\n",
    "c12 = (-1)**(i+j)*matriz12\n",
    "c12"
   ]
  },
  {
   "cell_type": "markdown",
   "metadata": {},
   "source": [
    "Calculo da célula a13\n",
    "\\begin{equation}\n",
    "\tc_{13} = (-1)^{(1+3)}.\n",
    "\t\\begin{bmatrix}\n",
    "\t\ta_{21} & a_{22}  & a_{24}  \\\\\n",
    "\t\ta_{31} & a_{32}  & a_{34}  \\\\\n",
    "\t\ta_{41} & a_{42}  & a_{44}  \\nonumber \\\\ \n",
    "\t\\end{bmatrix} \n",
    "\\end{equation}"
   ]
  },
  {
   "cell_type": "code",
   "execution_count": null,
   "metadata": {},
   "outputs": [],
   "source": [
    "i = 1\n",
    "j = 3\n",
    "\n",
    "matriz13 = a21*((a32*a44) - (a34*a42)) - a22*((a31*a44) - (a34*a41)) + a24*((a31*a42)- (a32*a41))\n",
    "c13 = (-1)**(i+j)*matriz13\n",
    "c13\n"
   ]
  },
  {
   "cell_type": "markdown",
   "metadata": {},
   "source": [
    "Cálculo da célula a14.\n",
    "\\begin{equation}\n",
    "\tc_{14} = (-1)^{(1+4)}.\n",
    "\t\\begin{bmatrix}\n",
    "\t\ta_{21} & a_{22}  & a_{23}  \\\\\n",
    "\t\ta_{31} & a_{32}  & a_{33}  \\\\\n",
    "\t\ta_{41} & a_{42}  & a_{43}  \\nonumber \\\\ \n",
    "\t\\end{bmatrix} \n",
    "\\end{equation}"
   ]
  },
  {
   "cell_type": "code",
   "execution_count": null,
   "metadata": {},
   "outputs": [],
   "source": [
    "i = 1\n",
    "j = 4\n",
    "matriz14 = a21*((a32*a43)- (a33*a42)) - a22*((a31*a43)-(a33*a41)) + a23*((a31*a42)-(a32*a41))\n",
    "c14 = (-1)**(i+j)*matriz14\n",
    "c14"
   ]
  },
  {
   "cell_type": "markdown",
   "metadata": {},
   "source": [
    "Cálculo da célula a21.\n",
    "\\begin{equation}\n",
    "\tc_{21} = (-1)^{(2+1)}.\n",
    "\t\\begin{bmatrix}\n",
    "\t\ta_{12} & a_{13}  & a_{14}  \\\\\n",
    "\t\ta_{32} & a_{33}  & a_{34}  \\\\\n",
    "\t\ta_{42} & a_{43}  & a_{44}  \\nonumber \\\\ \n",
    "\t\\end{bmatrix} \n",
    "\\end{equation}\n"
   ]
  },
  {
   "cell_type": "code",
   "execution_count": null,
   "metadata": {},
   "outputs": [],
   "source": [
    "i = 2\n",
    "j = 1\n",
    "\n",
    "matriz21 = a12*((a33*a44)- (a34*a43)) - a13*((a32*a44)- (a34*a42)) + a14*((a32*a43)- (a33*a42))\n",
    "c21 = (-1)**(i+j)*matriz21\n",
    "c21\n"
   ]
  },
  {
   "cell_type": "markdown",
   "metadata": {},
   "source": [
    "Cálculo da célula a22.\n",
    "\\begin{equation}\n",
    "\tc_{22} = (-1)^{(2+2)}.\n",
    "\t\\begin{bmatrix}\n",
    "\t\ta_{11} & a_{13}  & a_{14}  \\\\\n",
    "\t\ta_{31} & a_{33}  & a_{34}  \\\\\n",
    "\t\ta_{41} & a_{43}  & a_{44}  \\nonumber \\\\ \n",
    "\t\\end{bmatrix} \n",
    "\\end{equation}"
   ]
  },
  {
   "cell_type": "code",
   "execution_count": null,
   "metadata": {},
   "outputs": [],
   "source": [
    "i = 2\n",
    "j = 2\n",
    "\n",
    "matriz22 = a11*((a33*a44)- (a34*a43)) - a13*((a31*a44)- (a34*a41)) + a14*((a31*a43)- (a33*a41))\n",
    "c22 = (-1)**(i+j)*matriz22\n",
    "c22"
   ]
  },
  {
   "cell_type": "markdown",
   "metadata": {},
   "source": [
    "Cálculo da célula a23.\n",
    "\\begin{equation}\n",
    "c_{23} = (-1)^{(2+3)}.\n",
    "\t\\begin{bmatrix}\n",
    "\t\ta_{11} & a_{12}  & a_{14}  \\\\\n",
    "\t\ta_{31} & a_{32}  & a_{34}  \\\\\n",
    "\t\ta_{41} & a_{42}  & a_{44}  \\nonumber \\\\ \n",
    "\t\\end{bmatrix} \n",
    "\\end{equation}"
   ]
  },
  {
   "cell_type": "code",
   "execution_count": null,
   "metadata": {},
   "outputs": [],
   "source": [
    "i = 2\n",
    "j = 3\n",
    "\n",
    "matriz23 = a11*((a32*a44) - (a34*a42)) - a12*((a31*a44)-(a34*a41)) + a14*((a31*a42)-(a32*a41))\n",
    "c23 = (-1)**(i+j)*matriz23\n",
    "c23"
   ]
  },
  {
   "cell_type": "markdown",
   "metadata": {},
   "source": [
    "Cálculo da célula a24.\n",
    "\\begin{equation}\n",
    "c_{24} = (-1)^{(2+4)}.\n",
    "\t\\begin{bmatrix}\n",
    "\t\ta_{11} & a_{12}  & a_{13}  \\\\\n",
    "\t\ta_{31} & a_{32}  & a_{33}  \\\\\n",
    "\t\ta_{41} & a_{42}  & a_{44}  \\nonumber \\\\ \n",
    "\t\\end{bmatrix} \n",
    "\\end{equation}\n"
   ]
  },
  {
   "cell_type": "code",
   "execution_count": null,
   "metadata": {},
   "outputs": [],
   "source": [
    "i= 2\n",
    "j= 4\n",
    "matriz24= a11*((a32*a44)-(a33*a42)) - a12*((a31*a44)-(a33*a41)) + a13*((a31*a42)-(a32*a41))\n",
    "c24 = (-1)**(i+j)*matriz24\n",
    "c24"
   ]
  },
  {
   "cell_type": "markdown",
   "metadata": {},
   "source": [
    "Cálculo da célula a31.\n",
    "\\begin{equation}\n",
    "c_{31} = (-1)^{(3+1)}.\n",
    "\t\\begin{bmatrix}\n",
    "\t\ta_{12} & a_{13}  & a_{14}  \\\\\n",
    "\t\ta_{22} & a_{23}  & a_{24}  \\\\\n",
    "\t\ta_{42} & a_{43}  & a_{44}  \\nonumber \\\\ \n",
    "\t\\end{bmatrix} \n",
    "\\end{equation}"
   ]
  },
  {
   "cell_type": "code",
   "execution_count": null,
   "metadata": {},
   "outputs": [],
   "source": [
    "i = 3\n",
    "j = 1\n",
    "matriz31= a12*((a23*a44)- (a24*a43)) - a13*((a22*a44)- (a24*a42)) + a14*((a22*a43)-(a23*a42))\n",
    "c31 = (-1)**(i+j)*matriz31\n",
    "c31"
   ]
  },
  {
   "cell_type": "markdown",
   "metadata": {},
   "source": [
    "Cálculo da célula a32.\n",
    "\\begin{equation}\n",
    "c_{32} = (-1)^{(3+2)}.\n",
    "\t\\begin{bmatrix}\n",
    "\t\ta_{11} & a_{13}  & a_{14}  \\\\\n",
    "\t\ta_{21} & a_{23}  & a_{24}  \\\\\n",
    "\t\ta_{41} & a_{43}  & a_{44}  \\nonumber \\\\ \n",
    "\t\\end{bmatrix} \n",
    "\\end{equation}\n"
   ]
  },
  {
   "cell_type": "code",
   "execution_count": null,
   "metadata": {},
   "outputs": [],
   "source": [
    "i = 3 \n",
    "j = 2\n",
    "matriz32 = a11*((a23*a44)-(a24*a43)) - a13*((a21*a44)-(a24*a41)) + a14*((a21*a43)-(a23*a41))\n",
    "c32 = (-1)**(i+j)*matriz32\n",
    "c32"
   ]
  },
  {
   "cell_type": "markdown",
   "metadata": {},
   "source": [
    "Cálculo da célula a33.\n",
    "\\begin{equation}\n",
    "c_{33} = (-1)^{(3+3)}.\n",
    "\t\\begin{bmatrix}\n",
    "\t\ta_{11} & a_{12}  & a_{14}  \\\\\n",
    "\t\ta_{21} & a_{22}  & a_{24}  \\\\\n",
    "\t\ta_{41} & a_{42}  & a_{44}  \\nonumber \\\\ \n",
    "\t\\end{bmatrix} \n",
    "\\end{equation}\n"
   ]
  },
  {
   "cell_type": "code",
   "execution_count": null,
   "metadata": {},
   "outputs": [],
   "source": [
    "i = 3\n",
    "j = 3\n",
    "matriz33 = a11*((a22*a44)-(a24*a42)) - a12*((a21*a44)-(a24*a41)) + a14*((a21*a42)- (a22*a41))\n",
    "c33 = (-1)**(i+j)*matriz33\n",
    "c33"
   ]
  },
  {
   "cell_type": "markdown",
   "metadata": {},
   "source": [
    "Cálculo da célula a34.\n",
    "\\begin{equation}\n",
    "c_{34} = (-1)^{(3+4)}.\n",
    "\t\\begin{bmatrix}\n",
    "\t\ta_{11} & a_{12}  & a_{13}  \\\\\n",
    "\t\ta_{21} & a_{22}  & a_{23}  \\\\\n",
    "\t\ta_{41} & a_{42}  & a_{43}  \\nonumber \\\\ \n",
    "\t\\end{bmatrix} \n",
    "\\end{equation}"
   ]
  },
  {
   "cell_type": "code",
   "execution_count": null,
   "metadata": {},
   "outputs": [],
   "source": [
    "i = 3\n",
    "j = 4\n",
    "matriz34 = a11*((a22*a43)-(a23*a42)) - a12*((a21*a43)-(a23*a41)) + a13*((a21*a42)- (a22*a41))\n",
    "c34 = (-1)**(i+j)*matriz34\n",
    "c34"
   ]
  },
  {
   "cell_type": "markdown",
   "metadata": {},
   "source": [
    "Cálculo de célula a41.\n",
    "\\begin{equation}\n",
    "c_{41} = (-1)^{(4+1)}.\n",
    "\t\\begin{bmatrix}\n",
    "\t\ta_{12} & a_{13}  & a_{14}  \\\\\n",
    "\t\ta_{22} & a_{23}  & a_{24}  \\\\\n",
    "\t\ta_{32} & a_{33}  & a_{34}  \\nonumber \\\\ \n",
    "\t\\end{bmatrix} \n",
    "\\end{equation}\n"
   ]
  },
  {
   "cell_type": "code",
   "execution_count": null,
   "metadata": {},
   "outputs": [],
   "source": [
    "i = 4\n",
    "j = 1\n",
    "matriz41 = a12*((a23*a34)-(a24*a33)) - a13*((a22*a34)-(a24*a32)) + a14*((a22*a33)-(a23*a32))\n",
    "c41 = (-1)**(i+j)*matriz41\n",
    "c41"
   ]
  },
  {
   "cell_type": "markdown",
   "metadata": {},
   "source": [
    "Cálculo da célula a42.\n",
    "\\begin{equation}\n",
    "c_{42} = (-1)^{(4+2)}.\n",
    "\t\\begin{bmatrix}\n",
    "\t\ta_{11} & a_{13}  & a_{14}  \\\\\n",
    "\t\ta_{21} & a_{23}  & a_{24}  \\\\\n",
    "\t\ta_{31} & a_{33}  & a_{34}  \\nonumber \\\\ \n",
    "\t\\end{bmatrix}\n",
    "\\end{equation}"
   ]
  },
  {
   "cell_type": "code",
   "execution_count": null,
   "metadata": {},
   "outputs": [],
   "source": [
    "i = 4\n",
    "j = 2\n",
    "matriz42 = a11*((a23*a34)-(a24*a33)) - a13*((a21*a34)-(a24*a31)) + a14*((a21*a33)-(a23*a31))\n",
    "c42 = (-1)**(i+j)*matriz42\n",
    "c42"
   ]
  },
  {
   "cell_type": "markdown",
   "metadata": {},
   "source": [
    "Cálculo da célula a43.\n",
    "\\begin{equation}\n",
    "c_{43} = (-1)^{(4+3)}.\n",
    "\t\\begin{bmatrix}\n",
    "\t\ta_{11} & a_{12}  & a_{14}  \\\\\n",
    "\t\ta_{21} & a_{22}  & a_{24}  \\\\\n",
    "\t\ta_{31} & a_{32}  & a_{34}  \\nonumber \\\\ \n",
    "\t\\end{bmatrix}\n",
    "\\end{equation}"
   ]
  },
  {
   "cell_type": "code",
   "execution_count": null,
   "metadata": {},
   "outputs": [],
   "source": [
    "i = 4\n",
    "j = 3\n",
    "matriz43= a11*((a22*a34)-(a24*a32)) - a12*((a21*a34)-(a24*a31)) + a14*((a21*a32)-(a22*a31))\n",
    "c43 = (-1)**(i+j)*matriz43\n",
    "c43"
   ]
  },
  {
   "cell_type": "markdown",
   "metadata": {},
   "source": [
    "Cálculo da célula a44\n",
    "\\begin{equation}\n",
    "c_{44} = (-1)^{(4+4)}.\n",
    "\t\\begin{bmatrix}\n",
    "\t\ta_{11} & a_{12}  & a_{13}  \\\\\n",
    "\t\ta_{21} & a_{22}  & a_{23}  \\\\\n",
    "\t\ta_{31} & a_{32}  & a_{33}  \\nonumber \\\\ \n",
    "\t\\end{bmatrix} \n",
    "\\end{equation}"
   ]
  },
  {
   "cell_type": "code",
   "execution_count": null,
   "metadata": {},
   "outputs": [],
   "source": [
    "i = 4\n",
    "j = 4\n",
    "matriz44= a11*((a22*a33)-(a23*a32)) - a12*((a21*a33)-(a23*a31)) + a13*((a21*a32)-(a22*a31))\n",
    "c44 = (-1)**(i+j)*matriz44\n",
    "c44"
   ]
  },
  {
   "cell_type": "markdown",
   "metadata": {},
   "source": [
    "#### Matriz cofator"
   ]
  },
  {
   "cell_type": "markdown",
   "metadata": {},
   "source": [
    "- Sustituindo os valores dos cofatores calculados vamos obter a matriz cofator ($A_c$), que é apresentada a seguir."
   ]
  },
  {
   "cell_type": "markdown",
   "metadata": {},
   "source": [
    "\\begin{equation}\n",
    "A_c= \n",
    "\t\\begin{bmatrix}\n",
    "\t\tc_{11} &  c_{12}  &  c_{13} & c_{14}\\\\\n",
    "\t\tc_{21} & c_{22}  & c_{23} & c_{24}   \\\\\n",
    "\t\tc_{31} & c_{32}  & c_{33}  & c_{34} \\\\\n",
    "        c_{41} & c_{42}  & c_{43}  & c_{44} \\nonumber \\\\ \n",
    "\t\\end{bmatrix} \n",
    "\\end{equation}"
   ]
  },
  {
   "cell_type": "code",
   "execution_count": null,
   "metadata": {},
   "outputs": [],
   "source": [
    "import numpy as np\n",
    "Ac = np.array([[c11, c12, c13, c14],\n",
    "               [c21, c22, c23, c24],\n",
    "               [c31, c32, c33, c34],\n",
    "               [c41, c42, c43, c44]\n",
    "               ])\n",
    "Ac"
   ]
  },
  {
   "cell_type": "markdown",
   "metadata": {},
   "source": [
    "#### Cálculo da  Matriz transposta (AT).\n",
    "\n",
    "Nós podemos calcular a matriz transposta fazendo a linha da matriz se transformar em coluna conforme abaixo.\n"
   ]
  },
  {
   "cell_type": "code",
   "execution_count": null,
   "metadata": {},
   "outputs": [],
   "source": [
    "# NA MATRIZ TRANSPOSTA AS LINHAS VIRA COLUNA\n",
    "Matriz_T = [[c11, c21, c31, c41],\n",
    "            [c12, c22, c32, c42],\n",
    "            [c13, c23, c33, c43],\n",
    "            [c41, c24, c34, c44]]\n",
    "Matriz_T"
   ]
  },
  {
   "cell_type": "markdown",
   "metadata": {},
   "source": [
    "- Podemos verificar se a matriz trasposta está correta, utilizanod a biblioteca NumPy."
   ]
  },
  {
   "cell_type": "code",
   "execution_count": null,
   "metadata": {},
   "outputs": [],
   "source": [
    "AT = np.transpose(Ac)\n",
    "AT"
   ]
  },
  {
   "cell_type": "markdown",
   "metadata": {},
   "source": [
    "- Como já obtemos a Matriz Transposta é preciso calcular o determinante da matriz 4x4, a partir da equação a seguir:"
   ]
  },
  {
   "cell_type": "markdown",
   "metadata": {},
   "source": [
    "$$ D = \\sum a_{ij}A_{ij} $$"
   ]
  },
  {
   "cell_type": "markdown",
   "metadata": {},
   "source": [
    "Sabendo que:\n",
    "\n",
    "$A_{11}=c_{11}$, \n",
    "\n",
    "$A_{12}=c_{12}$, \n",
    "\n",
    "$A_{13}=c_{13}$,\n",
    "\n",
    "$A_{14}=c_{14}$."
   ]
  },
  {
   "cell_type": "code",
   "execution_count": null,
   "metadata": {},
   "outputs": [],
   "source": [
    "D = (0.8*c11) + (0*c12) + (0*c13) +(0*c14)\n",
    "D"
   ]
  },
  {
   "cell_type": "markdown",
   "metadata": {},
   "source": [
    "- Com a matriz transposta e o determinate calculado vamos calcular a Matriz Inversa ($A^{-1}$), por meio da equação a seguir."
   ]
  },
  {
   "cell_type": "markdown",
   "metadata": {},
   "source": [
    "$$A^{-1} = \\frac{1}{det(A)}.A^T $$"
   ]
  },
  {
   "cell_type": "code",
   "execution_count": null,
   "metadata": {},
   "outputs": [],
   "source": [
    "A_inversa = (1/D)*AT\n",
    "A_inversa"
   ]
  },
  {
   "cell_type": "markdown",
   "metadata": {},
   "source": [
    "- Calculo do valor de b"
   ]
  },
  {
   "cell_type": "code",
   "execution_count": null,
   "metadata": {},
   "outputs": [],
   "source": [
    "b = np.array ([20.0, 30.0, 40.0, 10.0])\n",
    "b"
   ]
  },
  {
   "cell_type": "code",
   "execution_count": null,
   "metadata": {},
   "outputs": [],
   "source": [
    "# EXTRAINDO OS VALORES DE B, ARMAZENANDO EM CADA CELULA \n",
    "b1 = b[0]\n",
    "b2 = b[1]\n",
    "b3 = b[2]\n",
    "b4 = b[3]\n",
    "\n",
    "m1 = A_inversa[0][0]*b1 + A_inversa[0][1]*b2 + A_inversa[0][2]*b3 + A_inversa[0][3]*b4\n",
    "x1 = print(\"O valor de m1 = {:.2f}\".format(m1), \"kg/s\")"
   ]
  },
  {
   "cell_type": "code",
   "execution_count": null,
   "metadata": {},
   "outputs": [],
   "source": [
    "m2 = A_inversa[1][0]*b1 + A_inversa[1][1]*b2 + A_inversa[1][2]*b3 + A_inversa[1][3]*b4\n",
    "x2 = print(\"O valor de m2 = {:.2f}\".format(m2), \"Kg/s\")"
   ]
  },
  {
   "cell_type": "code",
   "execution_count": null,
   "metadata": {},
   "outputs": [],
   "source": [
    "m3 = A_inversa[2][0]*b1 + A_inversa[2][1]*b2 + A_inversa[2][2]*b3 + A_inversa[2][3]*b4\n",
    "x3 = print(\"O valor de m3 = {:.2f}\".format(m3), \"kg/s\")"
   ]
  },
  {
   "cell_type": "code",
   "execution_count": null,
   "metadata": {},
   "outputs": [],
   "source": [
    "m4 = A_inversa[3][0]*b1 + A_inversa[3][1]*b2 + A_inversa[3][2]*b3 + A_inversa[3][3]*b4\n",
    "x4 = print(\"O valor de m4 = {:.2f}\".format(m4), \"kg/s\")"
   ]
  },
  {
   "cell_type": "markdown",
   "metadata": {},
   "source": [
    "- Conferindo os valores"
   ]
  },
  {
   "cell_type": "code",
   "execution_count": null,
   "metadata": {},
   "outputs": [],
   "source": [
    "resp1 = 0.8*m1 + 0.0*m2 + 0.0*m3 + 0.0*m4\n",
    "resp1 = print (\"O valor de b1 = 20.0 e resp1 = {:.2f}\".format(resp1), \"kg/s\")\n",
    "\n",
    "resp2 = 0.0*m1 + 0.5*m2 + 0.0*m3 + 0.0*m4\n",
    "resp2 = print (\"O valor de b2 = 30.0 e resp2 = {:.2f}\".format(resp2), \"kg/s\")\n",
    "\n",
    "resp3 = 0.0*m1 + 0.0*m2 + 0.2*m3 + 0.0*m4\n",
    "resp3 = print (\"O valor de b3 = 40.0 e resp3 = {:.2f}\".format(resp3), \"kg/s\")\n",
    "\n",
    "resp4 = 0.0*m1 + 0.0*m2 + 0.0*m3 + 0.1*m4\n",
    "resp4 = print (\"O valor de b4 = 10.0 e resp4 = {:.2f}\".format(resp4), \"kg/s\")\n"
   ]
  },
  {
   "cell_type": "markdown",
   "metadata": {},
   "source": [
    "- Conferindo valores utilizando a biblioteca NumPy"
   ]
  },
  {
   "cell_type": "code",
   "execution_count": null,
   "metadata": {},
   "outputs": [],
   "source": [
    "import numpy as np\n",
    "\n",
    "matriz = np.array([\n",
    "    [a11, a12, a13, a14],\n",
    "    [a21, a22, a23, a24],\n",
    "    [a31, a32, a33, a34],\n",
    "    [a41, a42, a43, a44]\n",
    "])\n"
   ]
  },
  {
   "cell_type": "markdown",
   "metadata": {},
   "source": [
    "CALCULANDO A MATRIZ INVERSA"
   ]
  },
  {
   "cell_type": "code",
   "execution_count": null,
   "metadata": {},
   "outputs": [],
   "source": [
    "m_inv = np.linalg.inv(matriz)"
   ]
  },
  {
   "cell_type": "markdown",
   "metadata": {},
   "source": [
    "ENCONTRANDO AS VARIAVEIS"
   ]
  },
  {
   "cell_type": "code",
   "execution_count": null,
   "metadata": {},
   "outputs": [],
   "source": [
    "b = np.array([[20], [30], [40], [10]])\n",
    "x = np.dot(m_inv, b)"
   ]
  },
  {
   "cell_type": "markdown",
   "metadata": {},
   "source": [
    "PRINTANDO OS RESULTADOS"
   ]
  },
  {
   "cell_type": "code",
   "execution_count": null,
   "metadata": {},
   "outputs": [],
   "source": [
    "print(f\"O valor de m1 = {x[0]} kg/s\")\n",
    "print(f\"O valor de m2 = {x[1]} kg/s\")\n",
    "print(f\"O valor de m3 = {x[2]} kg/s\")\n",
    "print(f\"O valor de m4 = {x[3]} kg/s\")"
   ]
  },
  {
   "cell_type": "markdown",
   "metadata": {},
   "source": [
    "### **QUESTÃO 2**"
   ]
  },
  {
   "cell_type": "markdown",
   "metadata": {},
   "source": [
    "Deduza uma express ̃ao matemática para calcular algebricamente uma matriz 5x5 da\n",
    "mesma forma que foi feita para matrizes 3x3 e 4x4. Aplique seu modelo na resolução de um\n",
    "problema de Engenharia Química resolvendo para Ax = b. Confira os resultados utilizando\n",
    "uma biblioteca de cálculo como o Numeric Python."
   ]
  },
  {
   "cell_type": "markdown",
   "metadata": {},
   "source": [
    "#### RESOLUÇÃO"
   ]
  },
  {
   "cell_type": "markdown",
   "metadata": {},
   "source": [
    "- Definindo a matriz 5x5."
   ]
  },
  {
   "cell_type": "markdown",
   "metadata": {},
   "source": [
    "\\begin{equation}\n",
    "A=\n",
    "\t\\begin{bmatrix}\n",
    "\t\ta_{11} & {a_{12}}  & {a_{13}}  & a_{14} & a_{15}\\\\\n",
    "\t\t{a_{21} } & a_{22}  & a_{23} & a_{24} & a_{25} \\\\\n",
    "\t\t{a_{31} } & a_{32}  & a_{33}& a_{34} & a_{35}  \\\\\n",
    "    a_{41}& a_{42}& a_{43} & a_{44} & a_{45} \\\\\n",
    "    a_{51}& a_{52}& a_{53}& a_{54}& a_{55}\\nonumber \\\\\n",
    "\t\\end{bmatrix}\n",
    "\\end{equation}\n"
   ]
  },
  {
   "cell_type": "markdown",
   "metadata": {},
   "source": [
    "- Para resolver uma matriz 5x5 é preciso utilizar a regra de Chió."
   ]
  },
  {
   "cell_type": "markdown",
   "metadata": {},
   "source": [
    "- Para o calculo do determinante por meio de chió temos:\n"
   ]
  },
  {
   "cell_type": "markdown",
   "metadata": {},
   "source": [
    "\\begin{equation}\n",
    "detA = a_{11}.A_{11} + a_{21}.A_{21} + a_{31}.A_{31} + a_{41}.A_{41}+ a_{51}.A_{51} \n",
    "\\end{equation}\n"
   ]
  },
  {
   "cell_type": "markdown",
   "metadata": {},
   "source": [
    "\\begin{equation}\n",
    "detA = a_{11}.A_{11}\n",
    "\\end{equation}"
   ]
  },
  {
   "cell_type": "markdown",
   "metadata": {},
   "source": [
    "- Cofator $A11$"
   ]
  },
  {
   "cell_type": "markdown",
   "metadata": {},
   "source": [
    "\\begin{equation}\n",
    "\tA_{11} = (-1)^{(1+1)}.\n",
    "\t\\begin{bmatrix}\n",
    "\t\ta_{22} & a_{23}  & a_{24} & a_{25} \\\\\n",
    "\t\ta_{32} & a_{33}  & a_{34} & a_{35} \\\\\n",
    "\t\ta_{42} & a_{43}  & a_{44}& a_{45} \\\\\n",
    "    a_{52} & a_{53}  & a_{54} & a_{55}  \\nonumber \\\\\n",
    "\t\\end{bmatrix}\n",
    "\\end{equation}"
   ]
  },
  {
   "cell_type": "markdown",
   "metadata": {},
   "source": [
    "\\begin{equation}\n",
    "detB = a_{22}.B_{11} + a_{23}.B_{12} + a_{24}.B_{13} + a_{25}.B_{14} \n",
    "\\end{equation}"
   ]
  },
  {
   "cell_type": "markdown",
   "metadata": {},
   "source": [
    "\\begin{equation}\n",
    "detB = a_{22}.B_{11}\n",
    "\\end{equation}"
   ]
  },
  {
   "cell_type": "markdown",
   "metadata": {},
   "source": [
    "- Cofator $B11$.\n",
    "\\begin{equation}\n",
    "\tB_{11} = (-1)^{(1+1)}.\n",
    "\t\\begin{bmatrix}\n",
    "\t\t a_{33}  & a_{34} & a_{35} \\\\\n",
    "\t\t a_{43}  & a_{44}& a_{45} \\\\\n",
    "     a_{53}  & a_{54} & a_{55}  \\nonumber \\\\\n",
    "\t\\end{bmatrix}\n",
    "\\end{equation}"
   ]
  },
  {
   "cell_type": "markdown",
   "metadata": {},
   "source": [
    "\\begin{equation}\n",
    "detC = a_{33}.C_{11} + a_{43}.C_{21} + a_{53}.C_{31}\\end{equation}"
   ]
  },
  {
   "cell_type": "markdown",
   "metadata": {},
   "source": [
    "\\begin{equation}\n",
    "detC = a_{33}.C_{21}\\end{equation}"
   ]
  },
  {
   "cell_type": "markdown",
   "metadata": {},
   "source": [
    "Cofator C21.\n",
    "\\begin{equation}\n",
    "\tC_{21} = (-1)^{(2+1)}.\n",
    "\t\\begin{bmatrix}\n",
    "\t\t a_{34} & a_{35} \\\\\n",
    "      a_{54} & a_{55}  \\nonumber \\\\\n",
    "\t\\end{bmatrix}\n",
    "\\end{equation}"
   ]
  },
  {
   "cell_type": "markdown",
   "metadata": {},
   "source": [
    "Aplicação do modelo:\n",
    "\n",
    "Uma indústria de produtos químicos precisa separar alguns componentes por meio de uma destilação, para isso utiliza uma coluna de separação. Os componetes de interesse dessa indústria é amônia, butano, ácido sufurico, nitrogenio e pentano. Sabendo-se que os fluxos de entrada da amônia é de $30.0 Kg/s$, do butano de $25.0 Kg/s$, do ácido sufurico de $10.0 Kg/s$, do nitrogenio de $5.0 Kg/s$ e do pentano de $1.0 Kg/s$. Pede-se calcule $m1$, $m2$, $m3$, $m4$, $m5$.\n",
    "\n",
    "Na matriz a seguir estão apresentado os valores da frações de cada componente."
   ]
  },
  {
   "cell_type": "markdown",
   "metadata": {},
   "source": [
    "\\begin{equation}\n",
    "A=\n",
    "\t\\begin{bmatrix}\n",
    "\t\t0.1 & 0.2  & 0.3 & 0.3 & 0.1 \\\\\n",
    "\t\t0 & 0.4  & 0 & 0 & 0 \\\\\n",
    "    0 & 0.1  & 0 & 0.8 & 0.1\\\\\n",
    "    0 & 0.6 & 0.6 & 0.1 & 0.3\\\\\n",
    "\t\t0 & 0.2  & 0  & 0.1 & 0.1 \\nonumber \\\\\n",
    "\t\\end{bmatrix}\n",
    "\t.\n",
    "\t\\begin{bmatrix}\n",
    "\t\tm_1 \\\\\n",
    "\t\tm_2 \\\\\n",
    "    \tm_3 \\\\\n",
    "      m_4 \\\\\n",
    "      m_5 \\\\\n",
    "\t\\end{bmatrix}\n",
    "\t=\n",
    "\t\\begin{bmatrix}\n",
    "\t30.0 \\\\\n",
    "\t25.0 \\\\\n",
    "\t10.0 \\\\\n",
    "  \t5.0 \\\\\n",
    "  \t1.0\\\\\n",
    "\t\\end{bmatrix}\n",
    "\\end{equation}\n"
   ]
  },
  {
   "cell_type": "markdown",
   "metadata": {},
   "source": [
    "- Declarando as variáveis"
   ]
  },
  {
   "cell_type": "code",
   "execution_count": 2,
   "metadata": {},
   "outputs": [],
   "source": [
    "a11, a12, a13, a14, a15 = 0.1, 0.2, 0.3, 0.3, 0.1\n",
    "a21, a22, a23, a24, a25 = 0, 0.4, 0, 0, 0\n",
    "a31, a32, a33, a34, a35 = 0, 0.1, 0, 0.8, 0.1\n",
    "a41, a42, a43, a44, a45 = 0, 0.6, 0.6, 0.1, 0.3\n",
    "a51, a52, a53, a54, a55 = 0, 0.2, 0, 0.1, 0.1\n"
   ]
  },
  {
   "cell_type": "markdown",
   "metadata": {},
   "source": [
    "- Calculando C21"
   ]
  },
  {
   "cell_type": "code",
   "execution_count": 4,
   "metadata": {},
   "outputs": [
    {
     "data": {
      "text/plain": [
       "-0.07"
      ]
     },
     "execution_count": 4,
     "metadata": {},
     "output_type": "execute_result"
    }
   ],
   "source": [
    "i = 2\n",
    "j = 1\n",
    "\n",
    "matriz21 = ((a34*a55)-(a35*a54))\n",
    "\n",
    "c21 = float(-1)**(i+j)*matriz21\n",
    "c21"
   ]
  },
  {
   "cell_type": "markdown",
   "metadata": {},
   "source": [
    "- Calculando o determinante de $C$"
   ]
  },
  {
   "cell_type": "code",
   "execution_count": 5,
   "metadata": {},
   "outputs": [
    {
     "data": {
      "text/plain": [
       "-0.042"
      ]
     },
     "execution_count": 5,
     "metadata": {},
     "output_type": "execute_result"
    }
   ],
   "source": [
    "detC = (a43*c21)\n",
    "detC"
   ]
  },
  {
   "cell_type": "markdown",
   "metadata": {},
   "source": [
    "- Calculando $B11$"
   ]
  },
  {
   "cell_type": "code",
   "execution_count": 6,
   "metadata": {},
   "outputs": [
    {
     "data": {
      "text/plain": [
       "-0.042"
      ]
     },
     "execution_count": 6,
     "metadata": {},
     "output_type": "execute_result"
    }
   ],
   "source": [
    "i = 1\n",
    "j = 1\n",
    "\n",
    "B11 = float((-1)**(i+j)*(detC))\n",
    "B11"
   ]
  },
  {
   "cell_type": "markdown",
   "metadata": {},
   "source": [
    "- Calculando o determinante de B"
   ]
  },
  {
   "cell_type": "code",
   "execution_count": 7,
   "metadata": {},
   "outputs": [
    {
     "data": {
      "text/plain": [
       "-0.016800000000000002"
      ]
     },
     "execution_count": 7,
     "metadata": {},
     "output_type": "execute_result"
    }
   ],
   "source": [
    "detB = (a22*B11)\n",
    "detB"
   ]
  },
  {
   "cell_type": "markdown",
   "metadata": {},
   "source": [
    "- Calculando $A11$"
   ]
  },
  {
   "cell_type": "code",
   "execution_count": 8,
   "metadata": {},
   "outputs": [
    {
     "data": {
      "text/plain": [
       "-0.016800000000000002"
      ]
     },
     "execution_count": 8,
     "metadata": {},
     "output_type": "execute_result"
    }
   ],
   "source": [
    "i = 1\n",
    "j = 1\n",
    "\n",
    "A11 = float((-1)**(i+j)*(detB))\n",
    "A11"
   ]
  },
  {
   "cell_type": "markdown",
   "metadata": {},
   "source": [
    "- Calculando o determinante de A"
   ]
  },
  {
   "cell_type": "code",
   "execution_count": 9,
   "metadata": {},
   "outputs": [
    {
     "data": {
      "text/plain": [
       "-0.0016800000000000003"
      ]
     },
     "execution_count": 9,
     "metadata": {},
     "output_type": "execute_result"
    }
   ],
   "source": [
    "detA = (a11*A11)\n",
    "detA    "
   ]
  },
  {
   "cell_type": "markdown",
   "metadata": {},
   "source": [
    "- Conferindo com numpy"
   ]
  },
  {
   "cell_type": "code",
   "execution_count": 10,
   "metadata": {},
   "outputs": [
    {
     "name": "stdout",
     "output_type": "stream",
     "text": [
      " O determinate A é: -0.0016799999999999994\n"
     ]
    }
   ],
   "source": [
    "import numpy as np\n",
    "\n",
    "A = np.array([\n",
    "    [0.1, 0.2, 0.3, 0.3, 0.1],\n",
    "    [0, 0.4, 0, 0, 0],\n",
    "    [0, 0.1, 0, 0.8, 0.1],\n",
    "    [0, 0.6, 0.6, 0.1, 0.3],\n",
    "    [0, 0.2, 0, 0.1, 0.1]\n",
    "])\n",
    "\n",
    "det_A = np.linalg.det(A)\n",
    "print(\" O determinate A é:\", det_A)"
   ]
  },
  {
   "cell_type": "code",
   "execution_count": 11,
   "metadata": {},
   "outputs": [
    {
     "name": "stdout",
     "output_type": "stream",
     "text": [
      "m1 = 214.64285714285714\n",
      "m2 = 62.49999999999999\n",
      "m3 = 10.595238095238102\n",
      "m4 = 21.78571428571429\n",
      "m5 = -136.78571428571428\n"
     ]
    }
   ],
   "source": [
    "A = np.array([\n",
    "    [0.1, 0.2, 0.3, 0.3, 0.1],\n",
    "    [0, 0.4, 0, 0, 0],\n",
    "    [0, 0.1, 0, 0.8, 0.1],\n",
    "    [0, 0.6, 0.6, 0.1, 0.3],\n",
    "    [0, 0.2, 0, 0.1, 0.1]\n",
    "])\n",
    "\n",
    "b = np.array([30.0, 25.0, 10.0, 5.0, 1.0])\n",
    "\n",
    "x = np.linalg.solve(A, b)\n",
    "\n",
    "print(\"m1 =\", x[0])\n",
    "print(\"m2 =\", x[1])\n",
    "print(\"m3 =\", x[2])\n",
    "print(\"m4 =\", x[3])\n",
    "print(\"m5 =\", x[4])\n"
   ]
  },
  {
   "cell_type": "code",
   "execution_count": 13,
   "metadata": {},
   "outputs": [
    {
     "name": "stdout",
     "output_type": "stream",
     "text": [
      "[[ 1.00000000e+01 -1.07142857e+00 -4.28571429e+00 -5.00000000e+00\n",
      "   9.28571429e+00]\n",
      " [ 0.00000000e+00  2.50000000e+00 -9.25185854e-17 -3.70074342e-16\n",
      "   0.00000000e+00]\n",
      " [-0.00000000e+00  1.19047619e-01  4.76190476e-01  1.66666667e+00\n",
      "  -5.47619048e+00]\n",
      " [ 0.00000000e+00  3.57142857e-01  1.42857143e+00  0.00000000e+00\n",
      "  -1.42857143e+00]\n",
      " [ 0.00000000e+00 -5.35714286e+00 -1.42857143e+00  0.00000000e+00\n",
      "   1.14285714e+01]]\n"
     ]
    }
   ],
   "source": [
    "inv_A = np.linalg.inv(A)\n",
    "print(inv_A)"
   ]
  },
  {
   "cell_type": "code",
   "execution_count": 14,
   "metadata": {},
   "outputs": [],
   "source": [
    "b1 = b[0]\n",
    "b2 = b[1]\n",
    "b3 = b[2]\n",
    "b4 = b[3]\n",
    "b5 = b[4]"
   ]
  },
  {
   "cell_type": "code",
   "execution_count": 16,
   "metadata": {},
   "outputs": [
    {
     "name": "stdout",
     "output_type": "stream",
     "text": [
      "O valor de m1 = 214.64 kg/s\n"
     ]
    }
   ],
   "source": [
    "m1 = inv_A[0][0]*b1 + inv_A[0][1]*b2 + inv_A[0][2]*b3 + inv_A[0][3]*b4 + inv_A[0][4]*b5\n",
    "x1 = print(\"O valor de m1 = {:.2f}\".format(m1), \"kg/s\")"
   ]
  },
  {
   "cell_type": "code",
   "execution_count": 17,
   "metadata": {},
   "outputs": [
    {
     "name": "stdout",
     "output_type": "stream",
     "text": [
      "O valor de m2 = 62.50 kg/s\n"
     ]
    }
   ],
   "source": [
    "m2 = inv_A[1][0]*b1 + inv_A[1][1]*b2 + inv_A[1][2]*b3 + inv_A[1][3]*b4 + inv_A[1][4]*b5\n",
    "x2 = print(\"O valor de m2 = {:.2f}\".format(m2), \"kg/s\")"
   ]
  },
  {
   "cell_type": "code",
   "execution_count": 18,
   "metadata": {},
   "outputs": [
    {
     "name": "stdout",
     "output_type": "stream",
     "text": [
      "O valor de m3 = 10.60 kg/s\n"
     ]
    }
   ],
   "source": [
    "m3 = inv_A[2][0]*b1 + inv_A[2][1]*b2 + inv_A[2][2]*b3 + inv_A[2][3]*b4 + inv_A[2][4]*b5\n",
    "x3 = print(\"O valor de m3 = {:.2f}\".format(m3), \"kg/s\")"
   ]
  },
  {
   "cell_type": "code",
   "execution_count": 19,
   "metadata": {},
   "outputs": [
    {
     "name": "stdout",
     "output_type": "stream",
     "text": [
      "O valor de m4 = 21.79 kg/s\n"
     ]
    }
   ],
   "source": [
    "m4 = inv_A[3][0]*b1 + inv_A[3][1]*b2 + inv_A[3][2]*b3 + inv_A[3][3]*b4 + inv_A[3][4]*b5\n",
    "x4 = print(\"O valor de m4 = {:.2f}\".format(m4), \"kg/s\")"
   ]
  },
  {
   "cell_type": "code",
   "execution_count": 20,
   "metadata": {},
   "outputs": [
    {
     "name": "stdout",
     "output_type": "stream",
     "text": [
      "O valor de m5 = -136.79 kg/s\n"
     ]
    }
   ],
   "source": [
    "m5 = inv_A[4][0]*b1 + inv_A[4][1]*b2 + inv_A[4][2]*b3 + inv_A[4][3]*b4 + inv_A[4][4]*b5\n",
    "x5 = print(\"O valor de m5 = {:.2f}\".format(m5), \"kg/s\")"
   ]
  },
  {
   "cell_type": "markdown",
   "metadata": {},
   "source": [
    "- Conferindo $A*x = b$"
   ]
  },
  {
   "cell_type": "markdown",
   "metadata": {},
   "source": [
    "\\begin{equation}\n",
    "A=\n",
    "\t\\begin{bmatrix}\n",
    "\t\t0.1 & 0.2  & 0.3 & 0.3 & 0.1 \\\\\n",
    "\t\t0 & 0.4  & 0 & 0 & 0 \\\\\n",
    "    0 & 0.1  & 0 & 0.8 & 0.1\\\\\n",
    "    0 & 0.6 & 0.6 & 0.1 & 0.3\\\\\n",
    "\t\t0 & 0.2  & 0  & 0.1 & 0.1 \\nonumber \\\\\n",
    "\t\\end{bmatrix}\n",
    "\t.\n",
    "\t\\begin{bmatrix}\n",
    "\t\tm_1 \\\\\n",
    "\t\tm_2 \\\\\n",
    "    \tm_3 \\\\\n",
    "      m_4 \\\\\n",
    "      m_5 \\\\\n",
    "\t\\end{bmatrix}\n",
    "\t=\n",
    "\t\\begin{bmatrix}\n",
    "\t30.0 \\\\\n",
    "\t25.0 \\\\\n",
    "\t10.0 \\\\\n",
    "  \t5.0 \\\\\n",
    "  \t1.0\\\\\n",
    "\t\\end{bmatrix}\n",
    "\\end{equation}"
   ]
  },
  {
   "cell_type": "code",
   "execution_count": 29,
   "metadata": {},
   "outputs": [
    {
     "name": "stdout",
     "output_type": "stream",
     "text": [
      "O valor de b1 = 30.00 e resp1 = 30.00\n",
      "O valor de b2= 25.00 e resp2 = 25.00\n",
      "O valor de b3 = 10.00 e resp3 = 10.00\n",
      "O valor de b4 = 5.00 e resp4 = 5.00\n",
      "O valor de b5 = 1.00 e resp5 = 1.00\n"
     ]
    }
   ],
   "source": [
    "resp1 = 0.1*m1 +0.2*m2 + 0.3*m3 +0.3*m4 +0.1*m5\n",
    "resp1 = print(\"O valor de b1 = 30.00 e resp1 = {:.2f}\".format(resp1))\n",
    "\n",
    "resp2 = 0*m1 + 0.4*m2 + 0*m3 +0*m4 +0*m5\n",
    "resp2 = print(\"O valor de b2= 25.00 e resp2 = {:.2f}\".format(resp2))\n",
    "\n",
    "resp3 = 0*m1 + 0.1*m2 + 0*m3 + 0.8*m4 +0.1*m5\n",
    "resp3 = print(\"O valor de b3 = 10.00 e resp3 = {:.2f}\".format(resp3))\n",
    "\n",
    "resp4 = 0*m1 + 0.6*m2 + 0.6*m3 + 0.1*m4 +0.3*m5\n",
    "resp4 = print(\"O valor de b4 = 5.00 e resp4 = {:.2f}\".format(resp4))\n",
    "\n",
    "resp5 = 0*m1 + 0.2*m2 + 0*m3 + 0.1*m4 +0.1*m5\n",
    "resp5 = print(\"O valor de b5 = 1.00 e resp5 = {:.2f}\".format(resp5))"
   ]
  },
  {
   "cell_type": "markdown",
   "metadata": {},
   "source": [
    "### **QUESTÃO 3**"
   ]
  },
  {
   "cell_type": "markdown",
   "metadata": {},
   "source": [
    "A figura 1 mostra uma coluna de separação da mistura dos componentes Propileno e Propano. A vazão de entrada dos componentes  ́e de __272.2 Kmol/h__ de forma que **163.3 kmol/h** corresponde a vazão de entrada para o Propileno e **108.9 Kmol/h** para o Propano. Sabendo-se que na corrente de topo as vazões de saída correspondem a **157.6 Kmol/h** para o Propileno e **1.6 Kmol/h** para o Propano e na corrente de fundo as vazões de saída são **5.7 Kmol/h** para o Propileno e **107.3 Kmol/h** para o Propano. Pede-se: Aplique a __Regra de Cramer__ e determine de forma algébrica as frações x e y de cada componente. Resolva utilizando métodos algébricos e programação em Python para determinação das fracões de cada componente. Declare cada varíavel de forma que seu modelo possa ser utilizado com outros valores. Confira os resultados utilizando uma biblioteca de cálculo em Python."
   ]
  },
  {
   "cell_type": "code",
   "execution_count": 30,
   "metadata": {},
   "outputs": [
    {
     "data": {
      "text/html": [
       "<div style=\"text-align:center;\"><img src=\"questao3.png\" width=\"400\"><br>Figura 1: Coluna de separação de Propileno e Propano.</div>"
      ],
      "text/plain": [
       "<IPython.core.display.HTML object>"
      ]
     },
     "metadata": {},
     "output_type": "display_data"
    }
   ],
   "source": [
    "from IPython.display import display, HTML\n",
    "display(HTML('<div style=\"text-align:center;\"><img src=\"questao3.png\" width=\"400\"><br>Figura 1: Coluna de separação de Propileno e Propano.</div>'))"
   ]
  },
  {
   "cell_type": "markdown",
   "metadata": {},
   "source": [
    "#### RESOLUÇÃO"
   ]
  },
  {
   "cell_type": "markdown",
   "metadata": {},
   "source": [
    "Para resolver iremos utilizar a regra de Cramer, que é utilizado para encontrar as soluções de um sistema linear, a partir das seguintes equações."
   ]
  },
  {
   "cell_type": "markdown",
   "metadata": {},
   "source": [
    "$$a_{11}x + b_{12} y =c_{11}$$\n",
    "$$a_{21}x + b_{22} y =c_{21}$$"
   ]
  },
  {
   "cell_type": "markdown",
   "metadata": {},
   "source": [
    "Para encontrar as incógnitas $x$ e $y$, utilizamos:\n",
    "$$ x = \\frac{D_x}{D} $$\n",
    "\n",
    "$$ y = \\frac{D_y}{D} $$\n"
   ]
  },
  {
   "cell_type": "markdown",
   "metadata": {},
   "source": [
    "O Determinante $D$ é calculado por:  \n",
    "\n",
    "\\begin{equation}\n",
    "D =\n",
    "\\begin{bmatrix}\n",
    "a_{11} & b_{12} \\\\\n",
    "a_{21} & b_{22} \n",
    "\\end{bmatrix}\n",
    "= a_{11}.b_{22} - b_{12}.a_{21} \\nonumber \\\\\n",
    "\\end{equation}\n",
    "\n",
    "Para o cálculo do determinte $D_x$ vamos substituir os valor da coluna de $x$ pelos valores da coluna $c$.\n",
    "\\begin{equation}\n",
    "D_x =\n",
    "\\begin{bmatrix}\n",
    "c_{11} & b_{12} \\\\\n",
    "c_{21} & b_{22} \n",
    "\\end{bmatrix}\n",
    "= c_{11}.b_{22} - b_{12}.c_{21} \\nonumber \\\\\n",
    "\\end{equation}\n",
    "\n",
    "Para o cálculo do determinante $D_y$ vamos substituir os valor da coluna de $y$ pelos valores da coluna $c$.\n",
    "\\begin{equation}\n",
    "D_y =\n",
    "\\begin{bmatrix}\n",
    "a_{11} & c_{11} \\\\\n",
    "a_{21} & c_{21} \n",
    "\\end{bmatrix}\n",
    "= a_{11}.c_{21} - c_{11}.a_{21} \\nonumber \\\\\n",
    "\\end{equation}"
   ]
  },
  {
   "cell_type": "markdown",
   "metadata": {},
   "source": [
    "- Montando o sistema linear com os valores dado na questão, temos:"
   ]
  },
  {
   "cell_type": "markdown",
   "metadata": {},
   "source": [
    "\n",
    "$$ 157.6x + 1.6y = 163.3 z $$\n",
    "$$ 5.7x + 107.3y = 108.9 z $$\n"
   ]
  },
  {
   "cell_type": "markdown",
   "metadata": {},
   "source": [
    "- Montando a matriz A"
   ]
  },
  {
   "cell_type": "markdown",
   "metadata": {},
   "source": [
    "\\begin{equation}\n",
    "A=\n",
    "\t\\begin{bmatrix}\n",
    "\t\t157.6 & 1.6 \\\\\n",
    "\t\t5.7 & 107.3 \\\\\n",
    "\t\\end{bmatrix}\n",
    "\t.\n",
    "\t\\begin{bmatrix}\n",
    "\t\tx \\\\\n",
    "\t\ty \\\\\n",
    "\t\\end{bmatrix}\n",
    "\t=\n",
    "\t\\begin{bmatrix}\n",
    "\t163.3 \\\\\n",
    "\t108.9 \\nonumber \\\\\n",
    "\t\\end{bmatrix}\n",
    "\\end{equation} "
   ]
  },
  {
   "cell_type": "markdown",
   "metadata": {},
   "source": [
    "- Declarando as variáveis "
   ]
  },
  {
   "cell_type": "code",
   "execution_count": 31,
   "metadata": {},
   "outputs": [],
   "source": [
    "a11, b12, c11 = 157.6, 1.6, 163.3\n",
    "a21, b22, c21 = 5.7, 107.3, 108.9"
   ]
  },
  {
   "cell_type": "markdown",
   "metadata": {},
   "source": [
    "- Calculando o determinante"
   ]
  },
  {
   "cell_type": "code",
   "execution_count": 32,
   "metadata": {},
   "outputs": [
    {
     "data": {
      "text/plain": [
       "16901.36"
      ]
     },
     "execution_count": 32,
     "metadata": {},
     "output_type": "execute_result"
    }
   ],
   "source": [
    "D = (a11*b22) -(b12*a21)\n",
    "D"
   ]
  },
  {
   "cell_type": "markdown",
   "metadata": {},
   "source": [
    "- Calculando $Dx$ e $Dy$.\n",
    "\n",
    "\\begin{equation}\n",
    "D_x =\n",
    "\\begin{bmatrix}\n",
    "c_{11} & b_{12} \\\\\n",
    "c_{21} & b_{22} \n",
    "\\end{bmatrix}\n",
    "= c_{11}.b_{22} - b_{12}.c_{21} \\nonumber \\\\\n",
    "\\end{equation}\n",
    "\n",
    "\\begin{equation}\n",
    "D_y =\n",
    "\\begin{bmatrix}\n",
    "a_{11} & c_{11} \\\\\n",
    "a_{21} & c_{21} \n",
    "\\end{bmatrix}\n",
    "= a_{11}.c_{21} - c_{11}.a_{21} \\nonumber \\\\\n",
    "\\end{equation}\n"
   ]
  },
  {
   "cell_type": "code",
   "execution_count": 33,
   "metadata": {},
   "outputs": [
    {
     "data": {
      "text/plain": [
       "17347.85"
      ]
     },
     "execution_count": 33,
     "metadata": {},
     "output_type": "execute_result"
    }
   ],
   "source": [
    "Dx = (c11*b22)-(b12*c21)\n",
    "Dx"
   ]
  },
  {
   "cell_type": "code",
   "execution_count": 34,
   "metadata": {},
   "outputs": [
    {
     "data": {
      "text/plain": [
       "16231.83"
      ]
     },
     "execution_count": 34,
     "metadata": {},
     "output_type": "execute_result"
    }
   ],
   "source": [
    "Dy= (a11*c21)-(c11*a21)\n",
    "Dy"
   ]
  },
  {
   "cell_type": "markdown",
   "metadata": {},
   "source": [
    "- Calculo de $x$ e $y$."
   ]
  },
  {
   "cell_type": "code",
   "execution_count": 35,
   "metadata": {},
   "outputs": [
    {
     "data": {
      "text/plain": [
       "1.026417400729882"
      ]
     },
     "execution_count": 35,
     "metadata": {},
     "output_type": "execute_result"
    }
   ],
   "source": [
    "x = Dx/ D\n",
    "x"
   ]
  },
  {
   "cell_type": "code",
   "execution_count": 36,
   "metadata": {},
   "outputs": [
    {
     "data": {
      "text/plain": [
       "0.9603860281066139"
      ]
     },
     "execution_count": 36,
     "metadata": {},
     "output_type": "execute_result"
    }
   ],
   "source": [
    "y = Dy/D\n",
    "y"
   ]
  },
  {
   "cell_type": "markdown",
   "metadata": {},
   "source": [
    "- Conferindo resultados"
   ]
  },
  {
   "cell_type": "code",
   "execution_count": 37,
   "metadata": {},
   "outputs": [
    {
     "data": {
      "text/plain": [
       "163.3"
      ]
     },
     "execution_count": 37,
     "metadata": {},
     "output_type": "execute_result"
    }
   ],
   "source": [
    "resp1 = (a11*x) + (b12*y)\n",
    "resp1"
   ]
  },
  {
   "cell_type": "code",
   "execution_count": 38,
   "metadata": {},
   "outputs": [
    {
     "data": {
      "text/plain": [
       "108.89999999999999"
      ]
     },
     "execution_count": 38,
     "metadata": {},
     "output_type": "execute_result"
    }
   ],
   "source": [
    "resp2 = (a21*x) +(b22*y)\n",
    "resp2"
   ]
  },
  {
   "cell_type": "markdown",
   "metadata": {},
   "source": [
    "#### QUESTÃO 4"
   ]
  },
  {
   "cell_type": "markdown",
   "metadata": {},
   "source": [
    "Suponhamos que temos uma mistura binária de dois componentes: A e B e queremos separar usando um processo de Destilação. As frações molares iniciais de cada componente na mistura são dadas por:"
   ]
  },
  {
   "cell_type": "markdown",
   "metadata": {},
   "source": [
    "- Fração molar inicial de **A**: 0.6\n",
    "- Fração molar inicial de **B**: 0.4"
   ]
  },
  {
   "cell_type": "markdown",
   "metadata": {},
   "source": [
    "Durante a destilação, obtemos duas correntes de produtos:"
   ]
  },
  {
   "cell_type": "markdown",
   "metadata": {},
   "source": [
    "- Corrente de topo (**overhead**): Fração molar de A na corrente de topo = 0.8\n",
    "- Corrente de fundo (**bottom**): Fração molar de A na corrente de fundo = 0.2"
   ]
  },
  {
   "cell_type": "markdown",
   "metadata": {},
   "source": [
    "A matriz A representa as frações molares dos componentes nas correntes de produtos e o vetor b representa as frações molares iniciais na mistura. Monte um Sistema de Equações Linear para o c ́alculo das frações de cada componente. Para resolução desse sistema Linear, Ax = b, use o método algébrico e confira os resultados usando a biblioteca Numerical Python."
   ]
  },
  {
   "cell_type": "markdown",
   "metadata": {},
   "source": [
    "#### RESOLUÇÃO"
   ]
  },
  {
   "cell_type": "markdown",
   "metadata": {},
   "source": [
    "Utilizando o método de Cramer, iremos resolver o seguinte sistema de equação linear"
   ]
  },
  {
   "cell_type": "markdown",
   "metadata": {},
   "source": [
    "$$a_{11}x + b_{12} y =c_{11}$$\n",
    "$$a_{21}x + b_{22} y =c_{21}$$\n"
   ]
  },
  {
   "cell_type": "markdown",
   "metadata": {},
   "source": [
    "Com os valores dado na questão temos, considerando uma entrada de 100 kmol/h.\n",
    "\n",
    "$$0.8 x + 0.2 y = 60.0 z$$\n",
    "$$0.2 x + 0.8 y = 40.0 z$$"
   ]
  },
  {
   "cell_type": "markdown",
   "metadata": {},
   "source": [
    "- Determinando as variáveis"
   ]
  },
  {
   "cell_type": "code",
   "execution_count": 12,
   "metadata": {},
   "outputs": [],
   "source": [
    "a11, b12, c11 = 0.8, 0.2, 60\n",
    "a21, b22, c21 = 0.2, 0.8, 40"
   ]
  },
  {
   "cell_type": "markdown",
   "metadata": {},
   "source": [
    "- Calculando o Determinante."
   ]
  },
  {
   "cell_type": "code",
   "execution_count": 13,
   "metadata": {},
   "outputs": [
    {
     "data": {
      "text/plain": [
       "0.6000000000000001"
      ]
     },
     "execution_count": 13,
     "metadata": {},
     "output_type": "execute_result"
    }
   ],
   "source": [
    "D = a11*b22 - b12*a21\n",
    "D"
   ]
  },
  {
   "cell_type": "markdown",
   "metadata": {},
   "source": [
    "- Calculando $D_x$.\n",
    "\n",
    "\\begin{equation}\n",
    "D_x =\n",
    "\\begin{bmatrix}\n",
    "c_{11} & b_{12} \\\\\n",
    "c_{21} & b_{22} \n",
    "\\end{bmatrix}\n",
    "= c_{11}.b_{22} - b_{12}.c_{21}\n",
    "\\end{equation}\n"
   ]
  },
  {
   "cell_type": "code",
   "execution_count": 14,
   "metadata": {},
   "outputs": [
    {
     "data": {
      "text/plain": [
       "40.0"
      ]
     },
     "execution_count": 14,
     "metadata": {},
     "output_type": "execute_result"
    }
   ],
   "source": [
    "Dx = c11*b22 - b12*c21\n",
    "Dx"
   ]
  },
  {
   "cell_type": "markdown",
   "metadata": {},
   "source": [
    "- Calculando $D_y$\n",
    "\n",
    "\\begin{equation}\n",
    "D_y =\n",
    "\\begin{bmatrix}\n",
    "a_{11} & c_{11} \\\\\n",
    "a_{21} & c_{21} \n",
    "\\end{bmatrix}\n",
    "= a_{11}.c_{21} - c_{11}.a_{21}\n",
    "\\end{equation}"
   ]
  },
  {
   "cell_type": "code",
   "execution_count": 15,
   "metadata": {},
   "outputs": [
    {
     "data": {
      "text/plain": [
       "20.0"
      ]
     },
     "execution_count": 15,
     "metadata": {},
     "output_type": "execute_result"
    }
   ],
   "source": [
    "Dy = a11*c21 -c11*a21\n",
    "Dy"
   ]
  },
  {
   "cell_type": "markdown",
   "metadata": {},
   "source": [
    "- Calculando o valor de $x$.\n",
    "$$ x = \\frac{D_x}{D} $$\n"
   ]
  },
  {
   "cell_type": "code",
   "execution_count": 16,
   "metadata": {},
   "outputs": [
    {
     "name": "stdout",
     "output_type": "stream",
     "text": [
      "O valor de x é: 66.67 kmol\n"
     ]
    }
   ],
   "source": [
    "x = Dx/D\n",
    "print(\"O valor de x é: {:.2f}\".format(x), \"kmol\")\n"
   ]
  },
  {
   "cell_type": "markdown",
   "metadata": {},
   "source": [
    "- Calculando o valor de $y$.\n",
    "$$ y = \\frac{D_y}{D} $$"
   ]
  },
  {
   "cell_type": "code",
   "execution_count": 17,
   "metadata": {},
   "outputs": [
    {
     "name": "stdout",
     "output_type": "stream",
     "text": [
      "O valor de y é: 33.33 kmol\n"
     ]
    }
   ],
   "source": [
    "y = Dy/D\n",
    "print(\"O valor de y é: {:.2f}\".format(y), \"kmol\")"
   ]
  },
  {
   "cell_type": "markdown",
   "metadata": {},
   "source": [
    "- Conferindo usando NumPy"
   ]
  },
  {
   "cell_type": "code",
   "execution_count": 18,
   "metadata": {},
   "outputs": [],
   "source": [
    "import numpy as np\n",
    "\n",
    "# Determinando a matrix A\n",
    "\n",
    "A = np.array([\n",
    "    [a11, b12],\n",
    "    [a21, b22]\n",
    "])"
   ]
  },
  {
   "cell_type": "code",
   "execution_count": 19,
   "metadata": {},
   "outputs": [
    {
     "data": {
      "text/plain": [
       "0.6000000000000001"
      ]
     },
     "execution_count": 19,
     "metadata": {},
     "output_type": "execute_result"
    }
   ],
   "source": [
    "# Calculo do determinante usando numpy\n",
    "\n",
    "Det_A = np.linalg.det(A)\n",
    "Det_A"
   ]
  },
  {
   "cell_type": "code",
   "execution_count": 20,
   "metadata": {},
   "outputs": [
    {
     "data": {
      "text/plain": [
       "40.0"
      ]
     },
     "execution_count": 20,
     "metadata": {},
     "output_type": "execute_result"
    }
   ],
   "source": [
    "# Calculando Dx\n",
    "\n",
    "Ax = np.array([\n",
    "    [c11, b12],\n",
    "    [c21, b22]\n",
    "])\n",
    "\n",
    "Det_Ax = np.linalg.det(Ax)\n",
    "Det_Ax"
   ]
  },
  {
   "cell_type": "code",
   "execution_count": 21,
   "metadata": {},
   "outputs": [
    {
     "data": {
      "text/plain": [
       "19.999999999999996"
      ]
     },
     "execution_count": 21,
     "metadata": {},
     "output_type": "execute_result"
    }
   ],
   "source": [
    "Ay = np.array([\n",
    "    [a11, c11],\n",
    "    [a21, c21]\n",
    "])\n",
    "Det_Ay = np.linalg.det(Ay)\n",
    "Det_Ay"
   ]
  },
  {
   "cell_type": "code",
   "execution_count": 22,
   "metadata": {},
   "outputs": [],
   "source": [
    "x = Det_Ax/ Det_A\n",
    "y = Det_Ay/ Det_A"
   ]
  },
  {
   "cell_type": "code",
   "execution_count": 23,
   "metadata": {},
   "outputs": [
    {
     "name": "stdout",
     "output_type": "stream",
     "text": [
      "O valor de x é: 66.67\n",
      "O valor de y é: 33.33\n"
     ]
    }
   ],
   "source": [
    "print(\"O valor de x é: {:.2f}\".format(x))\n",
    "print(\"O valor de y é: {:.2f}\".format(y))"
   ]
  }
 ],
 "metadata": {
  "kernelspec": {
   "display_name": "Python 3",
   "language": "python",
   "name": "python3"
  },
  "language_info": {
   "codemirror_mode": {
    "name": "ipython",
    "version": 3
   },
   "file_extension": ".py",
   "mimetype": "text/x-python",
   "name": "python",
   "nbconvert_exporter": "python",
   "pygments_lexer": "ipython3",
   "version": "3.10.11"
  }
 },
 "nbformat": 4,
 "nbformat_minor": 2
}
