{
 "cells": [
  {
   "cell_type": "markdown",
   "metadata": {},
   "source": [
    "## UNIVERSIDADE ESTADUAL DE SANTA CRUZ - UESC\n",
    "#### DEPARTAMENTO DE ENGENHARIAS E COMPUTAÇÃO - DEC\n",
    "#### CURSO DE ENGENHARIA QUÍMICA\n",
    "\n",
    "**CET 1012** Modelagem, Simulação e Otimização de Processos Químicos.\n",
    "\n",
    "**Professor**: Prof. Dr E.R.Edwards\n",
    "\n",
    "**Discente:** Myllena Souza da Silva.\n"
   ]
  },
  {
   "cell_type": "markdown",
   "metadata": {},
   "source": [
    "#### QUESTÃO 4"
   ]
  },
  {
   "cell_type": "markdown",
   "metadata": {},
   "source": [
    "Suponhamos que temos uma mistura binária de dois componentes: A e B e queremos separar usando um processo de Destilação. As frações molares iniciais de cada componente na mistura são dadas por:"
   ]
  },
  {
   "cell_type": "markdown",
   "metadata": {},
   "source": [
    "- Fração molar inicial de **A**: 0.6\n",
    "- Fração molar inicial de **B**: 0.4"
   ]
  },
  {
   "cell_type": "markdown",
   "metadata": {},
   "source": [
    "Durante a destilação, obtemos duas correntes de produtos:"
   ]
  },
  {
   "cell_type": "markdown",
   "metadata": {},
   "source": [
    "- Corrente de topo (**overhead**): Fração molar de A na corrente de topo = 0.8\n",
    "- Corrente de fundo (**bottom**): Fração molar de B na corrente de fundo = 0.2"
   ]
  },
  {
   "cell_type": "markdown",
   "metadata": {},
   "source": [
    "A matriz A representa as frações molares dos componentes nas correntes de produtos e o vetor b representa as frações molares iniciais na mistura. Monte um Sistema de Equações Linear para o c ́alculo das frações de cada componente. Para resolução desse sistema Linear, Ax = b, use o método algébrico e confira os resultados usando a biblioteca Numerical Python."
   ]
  },
  {
   "cell_type": "markdown",
   "metadata": {},
   "source": [
    "#### RESOLUÇÃO"
   ]
  },
  {
   "cell_type": "markdown",
   "metadata": {},
   "source": [
    "Utilizando o método de Cramer, iremos resolver o seguinte sistema de equação linear"
   ]
  },
  {
   "cell_type": "markdown",
   "metadata": {},
   "source": [
    "$$a_{11}x + b_{12} y =c_{11}$$ \n",
    "$$a_{21}x + b_{22} y =c_{21}$$ \n"
   ]
  },
  {
   "cell_type": "markdown",
   "metadata": {},
   "source": [
    "$$0.8 x + 0.0 y = 0.6 z$$\n",
    "$$0.0 x + 0.2 y = 0.4 z$$"
   ]
  },
  {
   "cell_type": "markdown",
   "metadata": {},
   "source": [
    "$$A.x = b$$"
   ]
  },
  {
   "cell_type": "markdown",
   "metadata": {},
   "source": [
    "- Determinando as variáveis"
   ]
  },
  {
   "cell_type": "code",
   "execution_count": 24,
   "metadata": {},
   "outputs": [],
   "source": [
    "a11, b12, c11 = 0.8, 0.0, 0.6\n",
    "a21, b22, c21 = 0.0, 0.2, 0.4"
   ]
  },
  {
   "cell_type": "markdown",
   "metadata": {},
   "source": [
    "- Calculando o Determinante."
   ]
  },
  {
   "cell_type": "code",
   "execution_count": 25,
   "metadata": {},
   "outputs": [
    {
     "data": {
      "text/plain": [
       "0.16000000000000003"
      ]
     },
     "execution_count": 25,
     "metadata": {},
     "output_type": "execute_result"
    }
   ],
   "source": [
    "D = a11*b22 - b12*a21\n",
    "D"
   ]
  },
  {
   "cell_type": "markdown",
   "metadata": {},
   "source": [
    "- Calculando $D_x$.\n",
    "\n",
    "\\begin{equation}\n",
    "D_x =\n",
    "\\begin{bmatrix}\n",
    "c_{11} & b_{12} \\\\\n",
    "c_{21} & b_{22} \n",
    "\\end{bmatrix}\n",
    "= c_{11}.b_{22} - b_{12}.c_{21}\n",
    "\\end{equation}\n"
   ]
  },
  {
   "cell_type": "code",
   "execution_count": 26,
   "metadata": {},
   "outputs": [
    {
     "data": {
      "text/plain": [
       "0.12"
      ]
     },
     "execution_count": 26,
     "metadata": {},
     "output_type": "execute_result"
    }
   ],
   "source": [
    "Dx = c11*b22 -b12*c21\n",
    "Dx"
   ]
  },
  {
   "cell_type": "markdown",
   "metadata": {},
   "source": [
    "- Calculando $D_y$\n",
    "\n",
    "\\begin{equation}\n",
    "D_y =\n",
    "\\begin{bmatrix}\n",
    "a_{11} & c_{11} \\\\\n",
    "a_{21} & c_{21} \n",
    "\\end{bmatrix}\n",
    "= a_{11}.c_{21} - c_{11}.a_{21}\n",
    "\\end{equation}"
   ]
  },
  {
   "cell_type": "code",
   "execution_count": 27,
   "metadata": {},
   "outputs": [
    {
     "data": {
      "text/plain": [
       "0.32000000000000006"
      ]
     },
     "execution_count": 27,
     "metadata": {},
     "output_type": "execute_result"
    }
   ],
   "source": [
    "Dy = a11*c21 -c11*a21\n",
    "Dy"
   ]
  },
  {
   "cell_type": "markdown",
   "metadata": {},
   "source": [
    "- Calculando o valor de $x$.\n",
    "$$ x = \\frac{D_x}{D} $$\n"
   ]
  },
  {
   "cell_type": "code",
   "execution_count": 28,
   "metadata": {},
   "outputs": [
    {
     "name": "stdout",
     "output_type": "stream",
     "text": [
      "O valor de x é: 0.75 kmol\n"
     ]
    }
   ],
   "source": [
    "x = Dx/D\n",
    "print(\"O valor de x é: {:.2f}\".format(x), \"kmol\")"
   ]
  },
  {
   "cell_type": "markdown",
   "metadata": {},
   "source": [
    "- Calculando o valor de $y$.\n",
    "$$ y = \\frac{D_y}{D} $$"
   ]
  },
  {
   "cell_type": "code",
   "execution_count": 29,
   "metadata": {},
   "outputs": [
    {
     "name": "stdout",
     "output_type": "stream",
     "text": [
      "O valor de y é: 2.00 kmol\n"
     ]
    }
   ],
   "source": [
    "y = Dy/D\n",
    "print(\"O valor de y é: {:.2f}\".format(y), \"kmol\")"
   ]
  },
  {
   "cell_type": "markdown",
   "metadata": {},
   "source": [
    "- Conferindo usando NumPy"
   ]
  },
  {
   "cell_type": "code",
   "execution_count": 30,
   "metadata": {},
   "outputs": [],
   "source": [
    "import numpy as np\n",
    "\n",
    "A = np.array([\n",
    "    [a11, b12],\n",
    "    [a21, b22]\n",
    "])"
   ]
  },
  {
   "cell_type": "code",
   "execution_count": 31,
   "metadata": {},
   "outputs": [
    {
     "data": {
      "text/plain": [
       "0.16000000000000003"
      ]
     },
     "execution_count": 31,
     "metadata": {},
     "output_type": "execute_result"
    }
   ],
   "source": [
    "Det_A = np.linalg.det(A)\n",
    "Det_A"
   ]
  },
  {
   "cell_type": "code",
   "execution_count": 32,
   "metadata": {},
   "outputs": [
    {
     "data": {
      "text/plain": [
       "0.12000000000000001"
      ]
     },
     "execution_count": 32,
     "metadata": {},
     "output_type": "execute_result"
    }
   ],
   "source": [
    "Ax = np.array([\n",
    "    [c11, b12],\n",
    "    [c21, b22]\n",
    "])\n",
    "\n",
    "Det_Ax = np.linalg.det(Ax)\n",
    "Det_Ax"
   ]
  },
  {
   "cell_type": "code",
   "execution_count": 33,
   "metadata": {},
   "outputs": [
    {
     "data": {
      "text/plain": [
       "0.32"
      ]
     },
     "execution_count": 33,
     "metadata": {},
     "output_type": "execute_result"
    }
   ],
   "source": [
    "Ay = np.array([\n",
    "    [a11, c11],\n",
    "    [a21, c21]\n",
    "])\n",
    "\n",
    "Det_Ay = np.linalg.det(Ay)\n",
    "Det_Ay"
   ]
  },
  {
   "cell_type": "code",
   "execution_count": null,
   "metadata": {},
   "outputs": [],
   "source": [
    "x = Det_Ax/ Det_A\n",
    "y = Det_Ay/ Det_A"
   ]
  },
  {
   "cell_type": "code",
   "execution_count": 34,
   "metadata": {},
   "outputs": [
    {
     "name": "stdout",
     "output_type": "stream",
     "text": [
      "O valor de x é: 0.75 kmol\n",
      "O valor de y é: 2.00 kmol\n"
     ]
    }
   ],
   "source": [
    "print(\"O valor de x é: {:.2f}\".format(x), \"kmol\")\n",
    "print(\"O valor de y é: {:.2f}\".format(y), \"kmol\")"
   ]
  }
 ],
 "metadata": {
  "kernelspec": {
   "display_name": "Python 3",
   "language": "python",
   "name": "python3"
  },
  "language_info": {
   "codemirror_mode": {
    "name": "ipython",
    "version": 3
   },
   "file_extension": ".py",
   "mimetype": "text/x-python",
   "name": "python",
   "nbconvert_exporter": "python",
   "pygments_lexer": "ipython3",
   "version": "3.10.undefined"
  }
 },
 "nbformat": 4,
 "nbformat_minor": 2
}
