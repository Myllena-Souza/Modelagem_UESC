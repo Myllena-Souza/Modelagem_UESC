{
 "cells": [
  {
   "cell_type": "markdown",
   "metadata": {},
   "source": [
    "## UNIVERSIDADE ESTADUAL DE SANTA CRUZ - UESC\n",
    "#### DEPARTAMENTO DE ENGENHARIAS E COMPUTAÇÃO - DEC\n",
    "#### CURSO DE ENGENHARIA QUÍMICA\n",
    "\n",
    "**CET 1012** Modelagem, Simulação e Otimização de Processos Químicos.\n",
    "\n",
    "**Professor**: Prof. Dr E.R.Edwards\n",
    "\n",
    "**Tema:** Regra de Cramer em Cálculos de Engenharia.\n",
    "\n",
    "**Assunto**: Resolução de problemas de Engenharia utilizando a Regra de Cramer de forma computacional.\n"
   ]
  },
  {
   "cell_type": "markdown",
   "metadata": {},
   "source": [
    "#### Conceito:\n",
    "A **Regra de Cramer** é um método desenvolvido para resolver um **Sistema Linear** utilizando o determinante das matrizes relacionadas a esse sistema. É utilizado para encontrar as soluções de um sistema linear.\n"
   ]
  },
  {
   "cell_type": "markdown",
   "metadata": {},
   "source": [
    "$$a_{11}x + b_{12} y =c_{11}$$\n",
    "\n",
    "1 - Vamos aplicar a regra de Cramer para encontrar as incógnitas do seguinte sistema de equações:\n",
    "\n",
    "$$a_{21}x + b_{22} y =c_{21}$$\n",
    "\n",
    "\n",
    "O cálculo das incógnitas $x$ e $y$ é determinada por:\n",
    "\n",
    "$$ x = \\frac{D_x}{D} $$\n",
    "\n",
    "$$ y = \\frac{D_y}{D} $$\n",
    "\n",
    "\n",
    "1.1 -  O Determinante $D$ é calculado por:  \n",
    "\n",
    "\\begin{equation}\n",
    "D =\n",
    "\\begin{bmatrix}\n",
    "a_{11} & b_{12} \\\\\n",
    "a_{21} & b_{22} \n",
    "\\end{bmatrix}\n",
    "= a_{11}.b_{22} - b_{12}.a_{21}\n",
    "\\end{equation}\n",
    "\n",
    "1.2 - Para o cálculo do determinte $D_x$ vamos substituir os valor da coluna de $x$ pelos valores da coluna $c$.\n",
    "\\begin{equation}\n",
    "D_x =\n",
    "\\begin{bmatrix}\n",
    "c_{11} & b_{12} \\\\\n",
    "c_{21} & b_{22} \n",
    "\\end{bmatrix}\n",
    "= c_{11}.b_{22} - b_{12}.c_{21}\n",
    "\\end{equation}\n",
    "\n",
    "1.3 - Para o cálculo do determinante $D_y$ vamos substituir os valor da coluna de $y$ pelos valores da coluna $c$.\n",
    "\\begin{equation}\n",
    "D_y =\n",
    "\\begin{bmatrix}\n",
    "a_{11} & c_{11} \\\\\n",
    "a_{21} & c_{21} \n",
    "\\end{bmatrix}\n",
    "= a_{11}.c_{21} - c_{11}.a_{21}\n",
    "\\end{equation}\n"
   ]
  },
  {
   "cell_type": "markdown",
   "metadata": {},
   "source": [
    "#### Exercício:\n",
    "\n",
    "Aplique os conceitos apresentados no item anterior e encontre as incógnitas das equações abaixo de forma computacional. Confira seus resultados.\n",
    "\n",
    "$$ x + 2y = 3 $$\n",
    "$$ 3x + 4y = 4 $$\n"
   ]
  },
  {
   "cell_type": "code",
   "execution_count": 2,
   "metadata": {},
   "outputs": [],
   "source": [
    "# DECLARANDO AS VARIAVEIS \n",
    "\n",
    "a11, b12 = 1, 2\n",
    "a21, b22 = 3, 4\n",
    "c11, c21 = 3, 4"
   ]
  },
  {
   "cell_type": "code",
   "execution_count": 3,
   "metadata": {},
   "outputs": [
    {
     "data": {
      "text/plain": [
       "-2"
      ]
     },
     "execution_count": 3,
     "metadata": {},
     "output_type": "execute_result"
    }
   ],
   "source": [
    "# CALCULANDO O DETERMINANTE\n",
    "\n",
    "D = a11*b22 - a21*b12\n",
    "D"
   ]
  },
  {
   "cell_type": "code",
   "execution_count": 4,
   "metadata": {},
   "outputs": [
    {
     "data": {
      "text/plain": [
       "4"
      ]
     },
     "execution_count": 4,
     "metadata": {},
     "output_type": "execute_result"
    }
   ],
   "source": [
    "# MATRIZ Dx\n",
    "\n",
    "Dx = c11*b22 - b12*c21\n",
    "Dx"
   ]
  },
  {
   "cell_type": "code",
   "execution_count": 5,
   "metadata": {},
   "outputs": [
    {
     "data": {
      "text/plain": [
       "-8"
      ]
     },
     "execution_count": 5,
     "metadata": {},
     "output_type": "execute_result"
    }
   ],
   "source": [
    "# MATRIZ Dy\n",
    "\n",
    "Dy = a11*c21 - c21*a21\n",
    "Dy"
   ]
  },
  {
   "cell_type": "code",
   "execution_count": 6,
   "metadata": {},
   "outputs": [
    {
     "data": {
      "text/plain": [
       "-2.0"
      ]
     },
     "execution_count": 6,
     "metadata": {},
     "output_type": "execute_result"
    }
   ],
   "source": [
    "x = Dx/D\n",
    "x"
   ]
  },
  {
   "cell_type": "code",
   "execution_count": 7,
   "metadata": {},
   "outputs": [
    {
     "data": {
      "text/plain": [
       "4.0"
      ]
     },
     "execution_count": 7,
     "metadata": {},
     "output_type": "execute_result"
    }
   ],
   "source": [
    "y = Dy/D\n",
    "y"
   ]
  },
  {
   "cell_type": "code",
   "execution_count": 9,
   "metadata": {},
   "outputs": [
    {
     "data": {
      "text/plain": [
       "10.0"
      ]
     },
     "execution_count": 9,
     "metadata": {},
     "output_type": "execute_result"
    }
   ],
   "source": [
    "res1 = ((3*x) + (4*y))\n",
    "res1"
   ]
  }
 ],
 "metadata": {
  "kernelspec": {
   "display_name": "TrilhaPython",
   "language": "python",
   "name": "python3"
  },
  "language_info": {
   "codemirror_mode": {
    "name": "ipython",
    "version": 3
   },
   "file_extension": ".py",
   "mimetype": "text/x-python",
   "name": "python",
   "nbconvert_exporter": "python",
   "pygments_lexer": "ipython3",
   "version": "3.11.7"
  }
 },
 "nbformat": 4,
 "nbformat_minor": 2
}
