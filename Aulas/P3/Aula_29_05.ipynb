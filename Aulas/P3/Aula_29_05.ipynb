{
 "cells": [
  {
   "cell_type": "markdown",
   "metadata": {},
   "source": [
    "## <center>UNIVERSIDADE ESTADUAL DE SANTA CRUZ - UESC<center> <center>DEPARTAMENTO DE ENGENHARIAS E COMPUTAÇÃO - DEC </center>\n",
    "#### <center>CURSO DE ENGENHARIA QUÍMICA</center>\n",
    "\n",
    "**CET1012** - Modelagem, Simulação e Otimização de Processos Químicos.\n",
    "\n",
    "**Tema**: Balanço em Reatores Químicos utilizando Cálculos Matriciais.\n",
    "\n",
    "**Professor**: Prof. Dr E.R.Edwards\n",
    "\n",
    "**Assunto**: Sistema de Reatores (Engenharia Química/Bioengenharia)\n",
    "\n",
    "**Fonte**: Steven C. Chapra e Raymond P. Canale, \"Métodos Numéricos para Engenharia\", $7^a$ Edição. Editora: MacGraw Hill. página 283.\n"
   ]
  },
  {
   "cell_type": "markdown",
   "metadata": {},
   "source": [
    "### Fundamentação.\n",
    "\n",
    "A conservação de massa é uma das principais organizações na Engenharia Química. Ela contabiliza o balanço de massa que entra em um volume de controle pelo balanço de massa que sai do volume de controle. Caso haja reações químicas esses dados deverão ser contabilizados como acúmulo no reator.\n",
    "\n",
    "$$Acumulo = Entrada - saída$$\n",
    "\n",
    "Sendo assim, o balanço de massa representa um exercício de contabilidade para a substância específica que está sendo\n",
    "modelada. Pelo próprio balanço, se as entradas forem maiores do que as saídas a massa da substância dentro do volume de\n",
    "controle cresce. Se as saídas forem iguais as entradas o acúmulo é igual a zero e a massa permanece constante.\n"
   ]
  },
  {
   "cell_type": "markdown",
   "metadata": {},
   "source": [
    "\n",
    "Para condições estáveis ou estacionárias o acúmulo será nulo e a equação torna-se.\n",
    "\n",
    "$$entrada=saída$$\n"
   ]
  },
  {
   "cell_type": "code",
   "execution_count": 38,
   "metadata": {},
   "outputs": [
    {
     "data": {
      "text/html": [
       "<div style=\"text-align:center;\"><img src=\"acumulacao.png\" width=\"400\"><br>Figura 1: Exemplo de balanço.</div>"
      ],
      "text/plain": [
       "<IPython.core.display.HTML object>"
      ]
     },
     "metadata": {},
     "output_type": "display_data"
    }
   ],
   "source": [
    "'''# pip install ipython -> Já deve estar instalado.\n",
    "from IPython.display import Image, display\n",
    "\n",
    "# Colocar figura.\n",
    "display(Image(filename='acumulacao.png', width=400))'''\n",
    "\n",
    "from IPython.display import display, HTML\n",
    "display(HTML('<div style=\"text-align:center;\"><img src=\"acumulacao.png\" width=\"400\"><br>Figura 1: Exemplo de balanço.</div>'))\n"
   ]
  },
  {
   "cell_type": "markdown",
   "metadata": {},
   "source": [
    "Podemos usar a conservação da massa para determinar as concentrações estacionárias de um sistema de reatores."
   ]
  },
  {
   "cell_type": "markdown",
   "metadata": {},
   "source": [
    "Podemos usar a conservação da massa para determinar as concentrações estacionárias de um sistema de reatores."
   ]
  },
  {
   "cell_type": "code",
   "execution_count": 39,
   "metadata": {},
   "outputs": [
    {
     "data": {
      "text/html": [
       "<div style=\"text-align:center;\"><img src=\"reator1.png\" width=\"600\"><br>Figura 2: Exemplo reator, balanço de massa.</div>"
      ],
      "text/plain": [
       "<IPython.core.display.HTML object>"
      ]
     },
     "metadata": {},
     "output_type": "display_data"
    }
   ],
   "source": [
    "from IPython.display import display, HTML\n",
    "display(HTML('<div style=\"text-align:center;\"><img src=\"reator1.png\" width=\"600\"><br>Figura 2: Exemplo reator, balanço de massa.</div>'))\n"
   ]
  },
  {
   "cell_type": "markdown",
   "metadata": {},
   "source": [
    "$$Q_1.c_1 + Q_2.c_2 =  Q_3.c_3$$\n",
    "\n",
    "$$ c_3 = \\frac{Q_1.c_1 + Q_2.c_2}{Q_3}$$\n"
   ]
  },
  {
   "cell_type": "code",
   "execution_count": 40,
   "metadata": {},
   "outputs": [],
   "source": [
    "# DECLARANDO AS VARIAVEIS\n",
    "Q1, Q2, Q3 = 2.0, 1.5, 3.5\n",
    "c1, c2 = 25, 10"
   ]
  },
  {
   "cell_type": "code",
   "execution_count": 41,
   "metadata": {},
   "outputs": [
    {
     "name": "stdout",
     "output_type": "stream",
     "text": [
      "O valor de c3 é: 18.57 mg/m^3\n"
     ]
    }
   ],
   "source": [
    "c3 =(((Q1*c1)+(Q2*c2))/Q3)\n",
    "print(\"O valor de c3 é: {:.2f}\".format(c3), \"mg/m^3\")"
   ]
  },
  {
   "cell_type": "markdown",
   "metadata": {},
   "source": [
    "#### Aplicação industrial - Caso 1.\n",
    "\n",
    "Este tipo de cálculo é de grande utilidade para Engenharia Química e Petroquímica em que deve ser projetado um reator contendo misturas com concentrações específicas. Nesse exercício foi usado **álgebra** para determinar a concentração de um único reator usando o conhecimento de balanços de massa visto em assuntos anteriores. Dessa forma, fica mais fácil a utilização de computador para a realização desse tipo de cálculo.\n"
   ]
  },
  {
   "cell_type": "code",
   "execution_count": 42,
   "metadata": {},
   "outputs": [
    {
     "data": {
      "text/html": [
       "<div style=\"text-align:center;\"><img src=\"reator2.png\" width=\"600\"><br>Figura 3: Exemplo reator, balanço de massa.</div>"
      ],
      "text/plain": [
       "<IPython.core.display.HTML object>"
      ]
     },
     "metadata": {},
     "output_type": "display_data"
    }
   ],
   "source": [
    "from IPython.display import display, HTML\n",
    "display(HTML('<div style=\"text-align:center;\"><img src=\"reator2.png\" width=\"600\"><br>Figura 3: Exemplo reator, balanço de massa.</div>'))\n"
   ]
  },
  {
   "cell_type": "markdown",
   "metadata": {},
   "source": [
    "#### Informações:\n",
    "1. Estabelecer um volume de controle em cada reator.\n",
    "2. Faça um balanço de massa em cada reator (entrada de fluxo positivo, saída de fluxo negativo).\n",
    "3. Serão 5 equações e 5 incógitas ($c_1$, $c_2$, $c_3$, $c_4$, $c_5$)\n",
    "4. Monte a Matriz: $Ax=b$\n",
    "6. Cálcule a matriz inversa $A$.\n",
    "7. Cálcule a incógnita $x$ - coloque os valores de saída separados ($c_1$, $c_2$, $c_3$, $c_4$, $c_5$)<br>\n",
    "$c_1 = x[0,0]$ <br>\n",
    "$c_2 = x[1,0]$ <br>\n",
    "$c_3 = x[2,0]$ <br>\n",
    "$c_4 = x[3,0]$ <br>\n",
    "$c_5 = x[4,0]$ <br>\n",
    "8. Confira seus cálculos substituindo os valores nas equações.\n"
   ]
  },
  {
   "cell_type": "markdown",
   "metadata": {},
   "source": [
    "#### Solução:\n",
    "\n",
    "#### Primeiro Reator:"
   ]
  },
  {
   "cell_type": "code",
   "execution_count": 43,
   "metadata": {},
   "outputs": [
    {
     "data": {
      "text/html": [
       "<div style=\"text-align:center;\"><img src=\"reator3.png\" width=\"600\"><br>Figura 4: Calculo do reator 1.</div>"
      ],
      "text/plain": [
       "<IPython.core.display.HTML object>"
      ]
     },
     "metadata": {},
     "output_type": "display_data"
    }
   ],
   "source": [
    "from IPython.display import display, HTML\n",
    "display(HTML('<div style=\"text-align:center;\"><img src=\"reator3.png\" width=\"600\"><br>Figura 4: Calculo do reator 1.</div>'))\n"
   ]
  },
  {
   "cell_type": "code",
   "execution_count": 44,
   "metadata": {},
   "outputs": [],
   "source": [
    "# PARA FAZER OS CALCULOS É PRECISO VERIFICAR OS VALORES QUE ENTRA E QUE SAI.\n",
    "\n",
    "q01, q31, q15, q12 = 5, 1, 3, 3\n",
    "c01 = 10"
   ]
  },
  {
   "cell_type": "code",
   "execution_count": 45,
   "metadata": {},
   "outputs": [
    {
     "data": {
      "text/html": [
       "<div style=\"text-align:center;\"><img src=\"reator4.png\" width=\"600\"><br>Figura 5: Calculo do reator 2.</div>"
      ],
      "text/plain": [
       "<IPython.core.display.HTML object>"
      ]
     },
     "metadata": {},
     "output_type": "display_data"
    }
   ],
   "source": [
    "from IPython.display import display, HTML\n",
    "display(HTML('<div style=\"text-align:center;\"><img src=\"reator4.png\" width=\"600\"><br>Figura 5: Calculo do reator 2.</div>'))"
   ]
  },
  {
   "cell_type": "code",
   "execution_count": 46,
   "metadata": {},
   "outputs": [
    {
     "data": {
      "text/html": [
       "<div style=\"text-align:center;\"><img src=\"reator5.png\" width=\"600\"><br>Figura 6: Calculo do reator 3.</div>"
      ],
      "text/plain": [
       "<IPython.core.display.HTML object>"
      ]
     },
     "metadata": {},
     "output_type": "display_data"
    }
   ],
   "source": [
    "from IPython.display import display, HTML\n",
    "display(HTML('<div style=\"text-align:center;\"><img src=\"reator5.png\" width=\"600\"><br>Figura 6: Calculo do reator 3.</div>'))"
   ]
  },
  {
   "cell_type": "code",
   "execution_count": 47,
   "metadata": {},
   "outputs": [
    {
     "data": {
      "text/html": [
       "<div style=\"text-align:center;\"><img src=\"reator6.png\" width=\"600\"><br>Figura 7: Calculo do reator 4.</div>"
      ],
      "text/plain": [
       "<IPython.core.display.HTML object>"
      ]
     },
     "metadata": {},
     "output_type": "display_data"
    }
   ],
   "source": [
    "from IPython.display import display, HTML\n",
    "display(HTML('<div style=\"text-align:center;\"><img src=\"reator6.png\" width=\"600\"><br>Figura 7: Calculo do reator 4.</div>'))"
   ]
  },
  {
   "cell_type": "code",
   "execution_count": 48,
   "metadata": {},
   "outputs": [
    {
     "data": {
      "text/html": [
       "<div style=\"text-align:center;\"><img src=\"reator7.png\" width=\"600\"><br>Figura 8: Calculo do reator 5.</div>"
      ],
      "text/plain": [
       "<IPython.core.display.HTML object>"
      ]
     },
     "metadata": {},
     "output_type": "display_data"
    }
   ],
   "source": [
    "from IPython.display import display, HTML\n",
    "display(HTML('<div style=\"text-align:center;\"><img src=\"reator7.png\" width=\"600\"><br>Figura 8: Calculo do reator 5.</div>'))"
   ]
  }
 ],
 "metadata": {
  "kernelspec": {
   "display_name": "Modelagem",
   "language": "python",
   "name": "python3"
  },
  "language_info": {
   "codemirror_mode": {
    "name": "ipython",
    "version": 3
   },
   "file_extension": ".py",
   "mimetype": "text/x-python",
   "name": "python",
   "nbconvert_exporter": "python",
   "pygments_lexer": "ipython3",
   "version": "3.11.8"
  }
 },
 "nbformat": 4,
 "nbformat_minor": 2
}
