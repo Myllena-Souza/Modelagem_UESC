{
 "cells": [
  {
   "cell_type": "markdown",
   "metadata": {},
   "source": [
    "## <center>UNIVERSIDADE ESTADUAL DE SANTA CRUZ - UESC<center> <center>DEPARTAMENTO DE ENGENHARIAS E COMPUTAÇÃO - DEC </center>\n",
    "#### <center>CURSO DE ENGENHARIA QUÍMICA</center>\n",
    "\n",
    "**CET1012** - Modelagem, Simulação e Otimização de Processos Químicos.\n",
    "\n",
    "**Tema**: Balanço em Reatores Químicos utilizando Cálculos Matriciais.\n",
    "\n",
    "**Professor**: Prof. Dr E.R.Edwards\n",
    "\n",
    "**Assunto**: Sistema de Reatores (Engenharia Química/Bioengenharia)\n",
    "\n",
    "**Fonte**: Steven C. Chapra e Raymond P. Canale, \"Métodos Numéricos para Engenharia\", $7^a$ Edição. Editora: MacGraw Hill. página 283.\n"
   ]
  },
  {
   "cell_type": "markdown",
   "metadata": {},
   "source": [
    "### Fundamentação.\n",
    "\n",
    "A conservação de massa é uma das principais organizações na Engenharia Química. Ela contabiliza o balanço de massa que entra em um volume de controle pelo balanço de massa que sai do volume de controle. Caso haja reações químicas esses dados deverão ser contabilizados como acúmulo no reator.\n",
    "\n",
    "$$Acumulo = Entrada - saída$$\n",
    "\n",
    "Sendo assim, o balanço de massa representa um exercício de contabilidade para a substância específica que está sendo\n",
    "modelada. Pelo próprio balanço, se as entradas forem maiores do que as saídas a massa da substância dentro do volume de\n",
    "controle cresce. Se as saídas forem iguais as entradas o acúmulo é igual a zero e a massa permanece constante.\n"
   ]
  },
  {
   "cell_type": "markdown",
   "metadata": {},
   "source": [
    "\n",
    "Para condições estáveis ou estacionárias o acúmulo será nulo e a equação torna-se.\n",
    "\n",
    "$$entrada=saída$$\n"
   ]
  },
  {
   "cell_type": "code",
   "execution_count": 82,
   "metadata": {},
   "outputs": [
    {
     "data": {
      "text/html": [
       "<div style=\"text-align:center;\"><img src=\"acumulacao.png\" width=\"400\"><br>Figura 1: Exemplo de balanço.</div>"
      ],
      "text/plain": [
       "<IPython.core.display.HTML object>"
      ]
     },
     "metadata": {},
     "output_type": "display_data"
    }
   ],
   "source": [
    "from IPython.display import display, HTML\n",
    "display(HTML('<div style=\"text-align:center;\"><img src=\"acumulacao.png\" width=\"400\"><br>Figura 1: Exemplo de balanço.</div>'))\n"
   ]
  },
  {
   "cell_type": "markdown",
   "metadata": {},
   "source": [
    "Podemos usar a conservação da massa para determinar as concentrações estacionárias de um sistema de reatores."
   ]
  },
  {
   "cell_type": "markdown",
   "metadata": {},
   "source": [
    "Podemos usar a conservação da massa para determinar as concentrações estacionárias de um sistema de reatores."
   ]
  },
  {
   "cell_type": "code",
   "execution_count": 83,
   "metadata": {},
   "outputs": [
    {
     "data": {
      "text/html": [
       "<div style=\"text-align:center;\"><img src=\"reator1.png\" width=\"600\"><br>Figura 2: Exemplo reator, balanço de massa.</div>"
      ],
      "text/plain": [
       "<IPython.core.display.HTML object>"
      ]
     },
     "metadata": {},
     "output_type": "display_data"
    }
   ],
   "source": [
    "from IPython.display import display, HTML\n",
    "display(HTML('<div style=\"text-align:center;\"><img src=\"reator1.png\" width=\"600\"><br>Figura 2: Exemplo reator, balanço de massa.</div>'))\n"
   ]
  },
  {
   "cell_type": "markdown",
   "metadata": {},
   "source": [
    "$$Q_1.c_1 + Q_2.c_2 =  Q_3.c_3$$\n",
    "\n",
    "$$ c_3 = \\frac{Q_1.c_1 + Q_2.c_2}{Q_3}$$\n"
   ]
  },
  {
   "cell_type": "code",
   "execution_count": 84,
   "metadata": {},
   "outputs": [],
   "source": [
    "# DECLARANDO AS VARIAVEIS\n",
    "\n",
    "# Dados das vazões \n",
    "Q1, Q2, Q3 = 2.0, 1.5, 3.5\n",
    "\n",
    "# Dados das concentrações\n",
    "c1, c2 = 25, 10"
   ]
  },
  {
   "cell_type": "code",
   "execution_count": 85,
   "metadata": {},
   "outputs": [
    {
     "name": "stdout",
     "output_type": "stream",
     "text": [
      "---------------------------------------------\n",
      "O valor da concentração c3 é: 18.57 mg/m3\n",
      "---------------------------------------------\n"
     ]
    }
   ],
   "source": [
    "c3 =(((Q1*c1)+(Q2*c2))/Q3)\n",
    "\n",
    "def line():\n",
    "    print(\"-\"*45)\n",
    "\n",
    "line()\n",
    "print(\"O valor da concentração c3 é: {:.2f}\".format(c3), \"mg/m3\")\n",
    "line()"
   ]
  },
  {
   "cell_type": "markdown",
   "metadata": {},
   "source": [
    "#### Aplicação industrial - Caso 1.\n",
    "\n",
    "Este tipo de cálculo é de grande utilidade para Engenharia Química e Petroquímica em que deve ser projetado um reator contendo misturas com concentrações específicas. Nesse exercício foi usado **álgebra** para determinar a concentração de um único reator usando o conhecimento de balanços de massa visto em assuntos anteriores. Dessa forma, fica mais fácil a utilização de computador para a realização desse tipo de cálculo.\n"
   ]
  },
  {
   "cell_type": "code",
   "execution_count": 86,
   "metadata": {},
   "outputs": [
    {
     "data": {
      "text/html": [
       "<div style=\"text-align:center;\"><img src=\"reator2.png\" width=\"600\"><br>Figura 3: Exemplo reator, balanço de massa.</div>"
      ],
      "text/plain": [
       "<IPython.core.display.HTML object>"
      ]
     },
     "metadata": {},
     "output_type": "display_data"
    }
   ],
   "source": [
    "from IPython.display import display, HTML\n",
    "display(HTML('<div style=\"text-align:center;\"><img src=\"reator2.png\" width=\"600\"><br>Figura 3: Exemplo reator, balanço de massa.</div>'))\n"
   ]
  },
  {
   "cell_type": "markdown",
   "metadata": {},
   "source": [
    "#### Informações:\n",
    "PASSOS:\n",
    "1. Estabelecer um volume de controle em cada reator.\n",
    "2. Faça um balanço de massa em cada reator (entrada de fluxo positivo, saída de fluxo negativo).\n",
    "3. Serão 5 equações e 5 incógitas ($c_1$, $c_2$, $c_3$, $c_4$, $c_5$)\n",
    "4. Monte a Matriz: $Ax=b$\n",
    "6. Cálcule a matriz inversa $A$.\n",
    "7. Cálcule a incógnita $x$ - coloque os valores de saída separados ($c_1$, $c_2$, $c_3$, $c_4$, $c_5$)<br>\n",
    "$c_1 = x[0,0]$ <br>\n",
    "$c_2 = x[1,0]$ <br>\n",
    "$c_3 = x[2,0]$ <br>\n",
    "$c_4 = x[3,0]$ <br>\n",
    "$c_5 = x[4,0]$ <br>\n",
    "8. Confira seus cálculos substituindo os valores nas equações.\n"
   ]
  },
  {
   "cell_type": "markdown",
   "metadata": {},
   "source": [
    "#### Solução:\n",
    "\n",
    "#### Primeiro Reator:"
   ]
  },
  {
   "cell_type": "code",
   "execution_count": 87,
   "metadata": {},
   "outputs": [
    {
     "data": {
      "text/html": [
       "<div style=\"text-align:center;\"><img src=\"reator3.png\" width=\"600\"><br>Figura 4: Calculo do reator 1.</div>"
      ],
      "text/plain": [
       "<IPython.core.display.HTML object>"
      ]
     },
     "metadata": {},
     "output_type": "display_data"
    }
   ],
   "source": [
    "from IPython.display import display, HTML\n",
    "display(HTML('<div style=\"text-align:center;\"><img src=\"reator3.png\" width=\"600\"><br>Figura 4: Calculo do reator 1.</div>'))\n"
   ]
  },
  {
   "cell_type": "markdown",
   "metadata": {},
   "source": [
    "BALANÇO DE MASSA NO PRIMEIRO REATOR"
   ]
  },
  {
   "cell_type": "code",
   "execution_count": 88,
   "metadata": {},
   "outputs": [
    {
     "data": {
      "text/html": [
       "<div style=\"text-align:center;\"><img src=\"image1.png\" width=\"600\"><br>Figura 4: Calculo do reator 1.</div>"
      ],
      "text/plain": [
       "<IPython.core.display.HTML object>"
      ]
     },
     "metadata": {},
     "output_type": "display_data"
    }
   ],
   "source": [
    "from IPython.display import display, HTML\n",
    "display(HTML('<div style=\"text-align:center;\"><img src=\"image1.png\" width=\"600\"><br>Figura 4: Calculo do reator 1.</div>'))\n"
   ]
  },
  {
   "cell_type": "code",
   "execution_count": 89,
   "metadata": {},
   "outputs": [],
   "source": [
    "# PARA FAZER OS CALCULOS É PRECISO VERIFICAR OS VALORES QUE ENTRA E QUE SAI.\n",
    "\n",
    "q01, q31, q15, q12 = 5, 1, 3, 3\n",
    "c01 = 10"
   ]
  },
  {
   "cell_type": "markdown",
   "metadata": {},
   "source": [
    "#### Segundo Reator:"
   ]
  },
  {
   "cell_type": "markdown",
   "metadata": {},
   "source": [
    "BALANÇO DE MASSA NO SEGUNDO REATOR"
   ]
  },
  {
   "cell_type": "code",
   "execution_count": 90,
   "metadata": {},
   "outputs": [
    {
     "data": {
      "text/html": [
       "<div style=\"text-align:center;\"><img src=\"reator4.png\" width=\"600\"><br>Figura 5: Calculo do reator 2.</div>"
      ],
      "text/plain": [
       "<IPython.core.display.HTML object>"
      ]
     },
     "metadata": {},
     "output_type": "display_data"
    }
   ],
   "source": [
    "from IPython.display import display, HTML\n",
    "display(HTML('<div style=\"text-align:center;\"><img src=\"reator4.png\" width=\"600\"><br>Figura 5: Calculo do reator 2.</div>'))"
   ]
  },
  {
   "cell_type": "code",
   "execution_count": 91,
   "metadata": {},
   "outputs": [
    {
     "data": {
      "text/html": [
       "<div style=\"text-align:center;\"><img src=\"image2.png\" width=\"600\"><br></div>"
      ],
      "text/plain": [
       "<IPython.core.display.HTML object>"
      ]
     },
     "metadata": {},
     "output_type": "display_data"
    }
   ],
   "source": [
    "from IPython.display import display, HTML\n",
    "display(HTML('<div style=\"text-align:center;\"><img src=\"image2.png\" width=\"600\"><br></div>'))\n"
   ]
  },
  {
   "cell_type": "markdown",
   "metadata": {},
   "source": [
    "#### Terceiro Reator:"
   ]
  },
  {
   "cell_type": "markdown",
   "metadata": {},
   "source": [
    "BALANÇO DE MASSA NO TERCEIRO REATOR"
   ]
  },
  {
   "cell_type": "code",
   "execution_count": 92,
   "metadata": {},
   "outputs": [
    {
     "data": {
      "text/html": [
       "<div style=\"text-align:center;\"><img src=\"reator5.png\" width=\"600\"><br>Figura 6: Calculo do reator 3.</div>"
      ],
      "text/plain": [
       "<IPython.core.display.HTML object>"
      ]
     },
     "metadata": {},
     "output_type": "display_data"
    }
   ],
   "source": [
    "from IPython.display import display, HTML\n",
    "display(HTML('<div style=\"text-align:center;\"><img src=\"reator5.png\" width=\"600\"><br>Figura 6: Calculo do reator 3.</div>'))"
   ]
  },
  {
   "cell_type": "code",
   "execution_count": 93,
   "metadata": {},
   "outputs": [
    {
     "data": {
      "text/html": [
       "<div style=\"text-align:center;\"><img src=\"image3.png\" width=\"600\"><br></div>"
      ],
      "text/plain": [
       "<IPython.core.display.HTML object>"
      ]
     },
     "metadata": {},
     "output_type": "display_data"
    }
   ],
   "source": [
    "from IPython.display import display, HTML\n",
    "display(HTML('<div style=\"text-align:center;\"><img src=\"image3.png\" width=\"600\"><br></div>'))\n"
   ]
  },
  {
   "cell_type": "markdown",
   "metadata": {},
   "source": [
    "#### Quarto Reator:"
   ]
  },
  {
   "cell_type": "markdown",
   "metadata": {},
   "source": [
    "BALANÇO DE MASSA NO QUARTO REATOR"
   ]
  },
  {
   "cell_type": "code",
   "execution_count": 94,
   "metadata": {},
   "outputs": [
    {
     "data": {
      "text/html": [
       "<div style=\"text-align:center;\"><img src=\"reator6.png\" width=\"600\"><br>Figura 7: Calculo do reator 4.</div>"
      ],
      "text/plain": [
       "<IPython.core.display.HTML object>"
      ]
     },
     "metadata": {},
     "output_type": "display_data"
    }
   ],
   "source": [
    "from IPython.display import display, HTML\n",
    "display(HTML('<div style=\"text-align:center;\"><img src=\"reator6.png\" width=\"600\"><br>Figura 7: Calculo do reator 4.</div>'))"
   ]
  },
  {
   "cell_type": "code",
   "execution_count": 95,
   "metadata": {},
   "outputs": [
    {
     "data": {
      "text/html": [
       "<div style=\"text-align:center;\"><img src=\"image4.png\" width=\"600\"><br></div>"
      ],
      "text/plain": [
       "<IPython.core.display.HTML object>"
      ]
     },
     "metadata": {},
     "output_type": "display_data"
    }
   ],
   "source": [
    "from IPython.display import display, HTML\n",
    "display(HTML('<div style=\"text-align:center;\"><img src=\"image4.png\" width=\"600\"><br></div>'))\n"
   ]
  },
  {
   "cell_type": "markdown",
   "metadata": {},
   "source": [
    "#### Quinto Reator:"
   ]
  },
  {
   "cell_type": "markdown",
   "metadata": {},
   "source": [
    "BALANÇO DE MASSA NO QUINTO REATOR"
   ]
  },
  {
   "cell_type": "code",
   "execution_count": 96,
   "metadata": {},
   "outputs": [
    {
     "data": {
      "text/html": [
       "<div style=\"text-align:center;\"><img src=\"reator7.png\" width=\"600\"><br>Figura 8: Calculo do reator 5.</div>"
      ],
      "text/plain": [
       "<IPython.core.display.HTML object>"
      ]
     },
     "metadata": {},
     "output_type": "display_data"
    }
   ],
   "source": [
    "from IPython.display import display, HTML\n",
    "display(HTML('<div style=\"text-align:center;\"><img src=\"reator7.png\" width=\"600\"><br>Figura 8: Calculo do reator 5.</div>'))"
   ]
  },
  {
   "cell_type": "code",
   "execution_count": 97,
   "metadata": {},
   "outputs": [
    {
     "data": {
      "text/html": [
       "<div style=\"text-align:center;\"><img src=\"image5.png\" width=\"600\"><br></div>"
      ],
      "text/plain": [
       "<IPython.core.display.HTML object>"
      ]
     },
     "metadata": {},
     "output_type": "display_data"
    }
   ],
   "source": [
    "from IPython.display import display, HTML\n",
    "display(HTML('<div style=\"text-align:center;\"><img src=\"image5.png\" width=\"600\"><br></div>'))\n"
   ]
  },
  {
   "cell_type": "markdown",
   "metadata": {},
   "source": [
    "Todas equações dos cinco reatores."
   ]
  },
  {
   "cell_type": "code",
   "execution_count": 98,
   "metadata": {},
   "outputs": [
    {
     "data": {
      "text/html": [
       "<div style=\"text-align:center;\"><img src=\"image6.png\" width=\"350\"><br></div>"
      ],
      "text/plain": [
       "<IPython.core.display.HTML object>"
      ]
     },
     "metadata": {},
     "output_type": "display_data"
    }
   ],
   "source": [
    "from IPython.display import display, HTML\n",
    "display(HTML('<div style=\"text-align:center;\"><img src=\"image6.png\" width=\"350\"><br></div>'))\n"
   ]
  },
  {
   "cell_type": "code",
   "execution_count": 99,
   "metadata": {},
   "outputs": [
    {
     "data": {
      "text/html": [
       "<div style=\"text-align:center;\"><img src=\"tabela1.png\" width=\"600\"><br></div>"
      ],
      "text/plain": [
       "<IPython.core.display.HTML object>"
      ]
     },
     "metadata": {},
     "output_type": "display_data"
    }
   ],
   "source": [
    "from IPython.display import display, HTML\n",
    "display(HTML('<div style=\"text-align:center;\"><img src=\"tabela1.png\" width=\"600\"><br></div>'))\n"
   ]
  },
  {
   "cell_type": "code",
   "execution_count": 100,
   "metadata": {},
   "outputs": [
    {
     "data": {
      "text/html": [
       "<div style=\"text-align:center;\"><img src=\"matriz.png\" width=\"600\"><br></div>"
      ],
      "text/plain": [
       "<IPython.core.display.HTML object>"
      ]
     },
     "metadata": {},
     "output_type": "display_data"
    }
   ],
   "source": [
    "from IPython.display import display, HTML\n",
    "display(HTML('<div style=\"text-align:center;\"><img src=\"matriz.png\" width=\"600\"><br></div>'))\n"
   ]
  },
  {
   "cell_type": "markdown",
   "metadata": {},
   "source": [
    "A matriz A tem a forma de uma matriz 5x5, precisamos encontrar um modelo que possamos utilizar para resolução dessa matriz. Vamos usar o modelo de matrizes __cst_matrix__ para isso, precisamos criar uma matriz com: linhas, colunas e dados (row, col, data)."
   ]
  },
  {
   "cell_type": "code",
   "execution_count": 101,
   "metadata": {},
   "outputs": [],
   "source": [
    "import numpy as np\n",
    "from scipy import sparse\n",
    "from scipy.sparse import csr_matrix"
   ]
  },
  {
   "cell_type": "code",
   "execution_count": 102,
   "metadata": {},
   "outputs": [],
   "source": [
    "# DECLARANDO AS ARRAYS.\n",
    "\n",
    "row = np.array([0, 0, 1, 1, 2, 2, 3, 3, 3, 3, 4, 4, 4])\n",
    "col = np.array([0, 2, 0, 1, 1, 2, 1, 2, 3, 4, 0, 1, 4])\n",
    "data = np.array([6, -1, 3, -3, -1, 9, 1, 8, -11, 2, 3, 1, -4])\n"
   ]
  },
  {
   "cell_type": "code",
   "execution_count": 103,
   "metadata": {},
   "outputs": [
    {
     "name": "stdout",
     "output_type": "stream",
     "text": [
      "  (0, 0)\t6.0\n",
      "  (0, 2)\t-1.0\n",
      "  (1, 0)\t3.0\n",
      "  (1, 1)\t-3.0\n",
      "  (2, 1)\t-1.0\n",
      "  (2, 2)\t9.0\n",
      "  (3, 1)\t1.0\n",
      "  (3, 2)\t8.0\n",
      "  (3, 3)\t-11.0\n",
      "  (3, 4)\t2.0\n",
      "  (4, 0)\t3.0\n",
      "  (4, 1)\t1.0\n",
      "  (4, 4)\t-4.0\n"
     ]
    }
   ],
   "source": [
    "A_coord = sparse.coo_matrix((data, (row, col)), dtype=float)\n",
    "print(A_coord)"
   ]
  },
  {
   "cell_type": "markdown",
   "metadata": {},
   "source": [
    "Podemos transformar a matriz coordenada (COO) para matriz esparsa usando: .toarray()"
   ]
  },
  {
   "cell_type": "code",
   "execution_count": 104,
   "metadata": {},
   "outputs": [
    {
     "name": "stdout",
     "output_type": "stream",
     "text": [
      "[[  6.   0.  -1.   0.   0.]\n",
      " [  3.  -3.   0.   0.   0.]\n",
      " [  0.  -1.   9.   0.   0.]\n",
      " [  0.   1.   8. -11.   2.]\n",
      " [  3.   1.   0.   0.  -4.]]\n"
     ]
    }
   ],
   "source": [
    "A = sparse.coo_matrix((data, (row, col)), dtype=float).toarray()\n",
    "print(A)"
   ]
  },
  {
   "cell_type": "markdown",
   "metadata": {},
   "source": [
    "### PARA A PROVA INICIA OS CÁLCULOS AQUI:"
   ]
  },
  {
   "cell_type": "code",
   "execution_count": 105,
   "metadata": {},
   "outputs": [
    {
     "data": {
      "text/plain": [
       "array([[  6.,   0.,  -1.,   0.,   0.],\n",
       "       [  3.,  -3.,   0.,   0.,   0.],\n",
       "       [  0.,  -1.,   9.,   0.,   0.],\n",
       "       [  0.,   1.,   8., -11.,   2.],\n",
       "       [  3.,   1.,   0.,   0.,  -4.]])"
      ]
     },
     "execution_count": 105,
     "metadata": {},
     "output_type": "execute_result"
    }
   ],
   "source": [
    "A = sparse.csr_matrix((data, (row, col)), shape=(5,5), dtype=float).toarray()\n",
    "A"
   ]
  },
  {
   "cell_type": "code",
   "execution_count": 106,
   "metadata": {},
   "outputs": [],
   "source": [
    "# CALCULANDO A INVERSA DA MATRIZ\n",
    "\n",
    "A_inv = np.linalg.inv(A)\n"
   ]
  },
  {
   "cell_type": "code",
   "execution_count": 107,
   "metadata": {},
   "outputs": [
    {
     "name": "stdout",
     "output_type": "stream",
     "text": [
      "[ 50   0 160   0   0]\n"
     ]
    }
   ],
   "source": [
    "# DECLARANDO OS VALORES DO VETOR B\n",
    "\n",
    "b1, b2, b3, b4, b5 = 50, 0, 160, 0, 0\n",
    "\n",
    "b = np.array([b1, b2, b3, b4, b5])\n",
    "print(b)"
   ]
  },
  {
   "cell_type": "code",
   "execution_count": 108,
   "metadata": {},
   "outputs": [
    {
     "data": {
      "text/plain": [
       "array([11.50943396, 11.50943396, 19.05660377, 16.99828473, 11.50943396])"
      ]
     },
     "execution_count": 108,
     "metadata": {},
     "output_type": "execute_result"
    }
   ],
   "source": [
    "# CALCULO DAS ICOGNITAS\n",
    "\n",
    "x = A_inv.dot(b)\n",
    "x"
   ]
  },
  {
   "cell_type": "code",
   "execution_count": 109,
   "metadata": {},
   "outputs": [],
   "source": [
    "c1 = x[0]\n",
    "c2 = x[1]\n",
    "c3 = x[2]\n",
    "c4 = x[3]\n",
    "c5 = x[4]"
   ]
  },
  {
   "cell_type": "code",
   "execution_count": 110,
   "metadata": {},
   "outputs": [
    {
     "name": "stdout",
     "output_type": "stream",
     "text": [
      "---------------------------------------------\n",
      "RESULTADOS DAS CONCENTRAÇÕES\n",
      "---------------------------------------------\n",
      "O valor da concentração c1 é: 11.51 mg/m3\n",
      "O valor da concentração c2 é: 11.51 mg/m3\n",
      "O valor da concentração c3 é: 19.06 mg/m3\n",
      "O valor da concentração c4 é: 17.00 mg/m3\n",
      "O valor da concentração c5 é: 11.51 mg/m3\n",
      "---------------------------------------------\n"
     ]
    }
   ],
   "source": [
    "def line():\n",
    "    print(\"-\"*45)\n",
    "\n",
    "line()\n",
    "print( 'RESULTADOS DAS CONCENTRAÇÕES' )\n",
    "line()\n",
    "print(\"O valor da concentração c1 é: {:.2f}\".format(c1), \"mg/m3\")\n",
    "print(\"O valor da concentração c2 é: {:.2f}\".format(c2), \"mg/m3\")\n",
    "print(\"O valor da concentração c3 é: {:.2f}\".format(c3), \"mg/m3\")\n",
    "print(\"O valor da concentração c4 é: {:.2f}\".format(c4), \"mg/m3\")\n",
    "print(\"O valor da concentração c5 é: {:.2f}\".format(c5), \"mg/m3\")\n",
    "line()"
   ]
  },
  {
   "cell_type": "markdown",
   "metadata": {},
   "source": [
    "CINFERINDO OS RESULTADOS"
   ]
  },
  {
   "cell_type": "code",
   "execution_count": 111,
   "metadata": {},
   "outputs": [],
   "source": [
    "z1 = 6*c1-c3\n",
    "z3 = -c2 +9*c3"
   ]
  },
  {
   "cell_type": "code",
   "execution_count": 112,
   "metadata": {},
   "outputs": [
    {
     "name": "stdout",
     "output_type": "stream",
     "text": [
      "---------------------------------------------\n",
      "CONFERINDO OS RESULTADOS DAS CONCENTRAÇÕES\n",
      "---------------------------------------------\n",
      "O resultado de b1=50 e z1 = 50.0 mg/m3\n",
      "O resultado de b3=160 e z3 = 160.0 mg/m3\n",
      "---------------------------------------------\n"
     ]
    }
   ],
   "source": [
    "line()\n",
    "print( 'CONFERINDO OS RESULTADOS DAS CONCENTRAÇÕES' )\n",
    "line()\n",
    "print(f\"O resultado de b1={b1} e z1 = {z1:.1f}\", \"mg/m3\")\n",
    "print(f\"O resultado de b3={b3} e z3 = {z3:.1f}\", \"mg/m3\")\n",
    "line()"
   ]
  }
 ],
 "metadata": {
  "kernelspec": {
   "display_name": "Modelagem",
   "language": "python",
   "name": "python3"
  },
  "language_info": {
   "codemirror_mode": {
    "name": "ipython",
    "version": 3
   },
   "file_extension": ".py",
   "mimetype": "text/x-python",
   "name": "python",
   "nbconvert_exporter": "python",
   "pygments_lexer": "ipython3",
   "version": "3.11.8"
  }
 },
 "nbformat": 4,
 "nbformat_minor": 2
}
