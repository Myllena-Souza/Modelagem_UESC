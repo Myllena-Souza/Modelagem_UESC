{
 "cells": [
  {
   "cell_type": "markdown",
   "metadata": {},
   "source": [
    "### __PROVA 3__"
   ]
  },
  {
   "cell_type": "code",
   "execution_count": 1,
   "metadata": {},
   "outputs": [],
   "source": [
    "import numpy as np\n",
    "from scipy import sparse\n",
    "from scipy.sparse import csr_matrix"
   ]
  },
  {
   "cell_type": "code",
   "execution_count": 2,
   "metadata": {},
   "outputs": [],
   "source": [
    "# DECLARANDO AS VARIAVEIS\n",
    "\n",
    "row = np.array([0, 0, 1, 1, 1, 2, 2, 2, 3, 3, 3, 4, 4])\n",
    "col = np.array([0, 1, 0, 1, 2, 1, 2, 3, 2, 3, 4, 3, 4])\n",
    "data = np.array([8, -4, 8, -10, 2, 6, -11, 5, 3, -7, 4, -2, 4])"
   ]
  },
  {
   "cell_type": "code",
   "execution_count": 3,
   "metadata": {},
   "outputs": [
    {
     "data": {
      "text/plain": [
       "array([[  8.,  -4.,   0.,   0.,   0.],\n",
       "       [  8., -10.,   2.,   0.,   0.],\n",
       "       [  0.,   6., -11.,   5.,   0.],\n",
       "       [  0.,   0.,   3.,  -7.,   4.],\n",
       "       [  0.,   0.,   0.,  -2.,   4.]])"
      ]
     },
     "execution_count": 3,
     "metadata": {},
     "output_type": "execute_result"
    }
   ],
   "source": [
    "A = sparse.csr_matrix((data, (row, col)), shape=(5,5), dtype=float).toarray()\n",
    "A"
   ]
  },
  {
   "cell_type": "code",
   "execution_count": 4,
   "metadata": {},
   "outputs": [],
   "source": [
    "# CALCULANDO A INVERSA DA MATRIZ\n",
    "\n",
    "A_inv = np.linalg.inv(A)"
   ]
  },
  {
   "cell_type": "code",
   "execution_count": 5,
   "metadata": {},
   "outputs": [
    {
     "name": "stdout",
     "output_type": "stream",
     "text": [
      "[80  0  0  0 30]\n"
     ]
    }
   ],
   "source": [
    "# DECLARANDO OS VALORES DO VETOR B\n",
    "\n",
    "b1, b2, b3, b4, b5 = 80, 0, 0, 0, 30\n",
    "\n",
    "b = np.array([b1, b2, b3, b4, b5])\n",
    "print(b)"
   ]
  },
  {
   "cell_type": "code",
   "execution_count": 6,
   "metadata": {},
   "outputs": [
    {
     "data": {
      "text/plain": [
       "array([19.72222222, 19.44444444, 18.33333333, 17.        , 16.        ])"
      ]
     },
     "execution_count": 6,
     "metadata": {},
     "output_type": "execute_result"
    }
   ],
   "source": [
    "# CALCULO DAS ICOGNITAS\n",
    "\n",
    "x = A_inv.dot(b)\n",
    "x"
   ]
  },
  {
   "cell_type": "code",
   "execution_count": 7,
   "metadata": {},
   "outputs": [],
   "source": [
    "c1 = x[0]\n",
    "c2 = x[1]\n",
    "c3 = x[2]\n",
    "c4 = x[3]\n",
    "c5 = x[4]"
   ]
  },
  {
   "cell_type": "code",
   "execution_count": 8,
   "metadata": {},
   "outputs": [
    {
     "name": "stdout",
     "output_type": "stream",
     "text": [
      "---------------------------------------------\n",
      "RESULTADOS DAS CONCENTRAÇÕES\n",
      "---------------------------------------------\n",
      "O valor da concentração c1 é: 19.72 mg/m3\n",
      "O valor da concentração c2 é: 19.44 mg/m3\n",
      "O valor da concentração c3 é: 18.33 mg/m3\n",
      "O valor da concentração c4 é: 17.00 mg/m3\n",
      "O valor da concentração c5 é: 16.00 mg/m3\n",
      "---------------------------------------------\n"
     ]
    }
   ],
   "source": [
    "def line():\n",
    "    print(\"-\"*45)\n",
    "\n",
    "line()\n",
    "print( 'RESULTADOS DAS CONCENTRAÇÕES' )\n",
    "line()\n",
    "print(\"O valor da concentração c1 é: {:.2f}\".format(c1), \"mg/m3\")\n",
    "print(\"O valor da concentração c2 é: {:.2f}\".format(c2), \"mg/m3\")\n",
    "print(\"O valor da concentração c3 é: {:.2f}\".format(c3), \"mg/m3\")\n",
    "print(\"O valor da concentração c4 é: {:.2f}\".format(c4), \"mg/m3\")\n",
    "print(\"O valor da concentração c5 é: {:.2f}\".format(c5), \"mg/m3\")\n",
    "line()"
   ]
  },
  {
   "cell_type": "markdown",
   "metadata": {},
   "source": [
    "CONFERINDO OS RESULTADOS"
   ]
  },
  {
   "cell_type": "code",
   "execution_count": 9,
   "metadata": {},
   "outputs": [],
   "source": [
    "z1 = 8*c1-4*c2\n",
    "z5 = 4*c5 - 2*c4"
   ]
  },
  {
   "cell_type": "code",
   "execution_count": 10,
   "metadata": {},
   "outputs": [
    {
     "name": "stdout",
     "output_type": "stream",
     "text": [
      "---------------------------------------------\n",
      "CONFERINDO OS RESULTADOS DAS CONCENTRAÇÕES\n",
      "---------------------------------------------\n",
      "O resultado de b1=80 e z1 = 80.00 mg/m3\n",
      "O resultado de b5=30 e z5 = 30.00 mg/m3\n",
      "---------------------------------------------\n"
     ]
    }
   ],
   "source": [
    "line()\n",
    "print( 'CONFERINDO OS RESULTADOS DAS CONCENTRAÇÕES' )\n",
    "line()\n",
    "print(f\"O resultado de b1={b1} e z1 = {z1:.2f}\", \"mg/m3\")\n",
    "print(f\"O resultado de b5={b5} e z5 = {z5:.2f}\", \"mg/m3\")\n",
    "line()"
   ]
  }
 ],
 "metadata": {
  "kernelspec": {
   "display_name": "Modelagem",
   "language": "python",
   "name": "python3"
  },
  "language_info": {
   "codemirror_mode": {
    "name": "ipython",
    "version": 3
   },
   "file_extension": ".py",
   "mimetype": "text/x-python",
   "name": "python",
   "nbconvert_exporter": "python",
   "pygments_lexer": "ipython3",
   "version": "3.11.8"
  }
 },
 "nbformat": 4,
 "nbformat_minor": 2
}
