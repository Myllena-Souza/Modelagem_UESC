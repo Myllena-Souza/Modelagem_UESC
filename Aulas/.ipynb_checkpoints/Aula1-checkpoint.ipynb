{
 "cells": [
  {
   "cell_type": "markdown",
   "metadata": {},
   "source": [
    "## UNIVERSIDADE ESTADUAL DE SANTA CRUZ - UESC\n",
    "#### DEPARTAMENTO DE ENGENHARIAS E COMPUTAÇÃO - DEC\n",
    "#### CURSO DE ENGENHARIA QUÍMICA\n",
    "\n",
    "**CET 1012** Modelagem, Simulação e Otimização de Processos Químicos.\n",
    "\n",
    "**Tema:** Métodos Matriciais em Cálculos de Engenharia.\n",
    "\n",
    "**Assunto**Manipulação de matrizes para cálculo de Engenharia.\n"
   ]
  },
  {
   "cell_type": "markdown",
   "metadata": {},
   "source": [
    "#### 1 - Soma de matrizes e resolução computacional\n",
    "\n",
    "Seja a matriz $A$ e $B$ dada por:\n",
    "\n",
    "\n",
    "\\begin{equation}\t\n",
    "A = \n",
    "\t\\begin{bmatrix}\n",
    "\t\ta_{11} & a_{12}   & \\ldots &  a_{1n} \\\\\n",
    "\t\ta_{21} & a_{22}   & \\ldots &  a_{2n} \\\\\n",
    "        \\vdots & \\vdots   & \\ddots &  \\vdots \\\\\n",
    "        a_{m1} & a_{m2}   & \\ldots &  a_{mn}   \\\\ \\nonumber \n",
    "        \\end{bmatrix}\n",
    "    \\\n",
    "    \\\n",
    "  \tB = \n",
    "\t\\begin{bmatrix}\n",
    "\t\tb_{11} & b_{12}  & \\ldots &  b_{1n} \\\\\n",
    "\t\tb_{21} & b_{22}   & \\ldots & b_{2n} \\\\\n",
    "        \\vdots & \\vdots   & \\ddots &  \\vdots \\\\\n",
    "        b_{m1} & b_{m2}   & \\ldots &  b_{mn}   \\\\ \\nonumber \n",
    "        \\end{bmatrix}\n",
    "\\end{equation}\n",
    "A soma de duas matrizes é dada por:\n",
    "\n",
    "\\begin{equation}\t\n",
    "C = \n",
    "\t\\begin{bmatrix}\n",
    "\t\ta_{11} + b_{11}  &  a_{12} + b_{12}   & \\ldots &  a_{1n} + b_{1n}  \\\\\n",
    "\t\ta_{21} + b_{21}  &  a_{22} + b_{22}   & \\ldots &  a_{2n} + b_{2n}  \\\\\n",
    "                 \\vdots  &           \\vdots   & \\ddots &         \\vdots    \\\\\n",
    "        a_{m1} + b_{m1}  &  a_{m2} + b_{m2}   & \\ldots &  a_{mn} + b_{mn}  \\\\ \\nonumber \n",
    "        \\end{bmatrix}\n",
    "\\end{equation}\n"
   ]
  },
  {
   "cell_type": "markdown",
   "metadata": {},
   "source": [
    "#### **Exercício**\n",
    "\n",
    "calcule a matriz $C$  sabendo-se que é a soma da Matriz  $A$ e $B$.\n",
    "\n",
    "\\begin{equation}\t\n",
    "\tA = \n",
    "\t\\begin{bmatrix}\n",
    "\t\t1 & 2 & 3 \\\\\n",
    "       \t4 & 5 & 6  \\nonumber \\\\ \n",
    "        \\end{bmatrix}\n",
    "        \\\n",
    "        B = \n",
    "\t\\begin{bmatrix}\n",
    "\t\t2 & 1 & 4 \\\\\n",
    "       \t1 & 1 & 2  \\nonumber \\\\ \n",
    "        \\end{bmatrix}\n",
    "    \\end{equation}\n",
    "    \n",
    "**Resposta:**\n",
    "\\begin{equation}\t\n",
    "\tC = A+B =\n",
    "\t\\begin{bmatrix}\n",
    "\t\t3 & 3 & 7 \\\\\n",
    "       \t5 & 6 & 8  \\nonumber \\\\ \n",
    "        \\end{bmatrix}\n",
    "\\end{equation}\n"
   ]
  },
  {
   "cell_type": "code",
   "execution_count": null,
   "metadata": {},
   "outputs": [],
   "source": [
    "A = [[1,2,3], [4,5,6]]\n",
    "B = [[2,1,4], [1,1,2]]\n",
    "\n",
    "C = A + B\n"
   ]
  }
 ],
 "metadata": {
  "kernelspec": {
   "display_name": "Modelagem",
   "language": "python",
   "name": "python3"
  },
  "language_info": {
   "name": "python",
   "version": "3.11.8"
  }
 },
 "nbformat": 4,
 "nbformat_minor": 2
}
