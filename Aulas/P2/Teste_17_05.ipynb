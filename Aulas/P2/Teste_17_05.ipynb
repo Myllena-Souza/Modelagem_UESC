{
 "cells": [
  {
   "cell_type": "markdown",
   "metadata": {},
   "source": [
    "### RESOLVENDO TESTE\n"
   ]
  },
  {
   "cell_type": "markdown",
   "metadata": {},
   "source": [
    "\\begin{equation}\n",
    "\tA = \n",
    "\t\\begin{bmatrix}\n",
    "\t\t{0.35} & {0.16}  & {0.21} & {0.01} \\\\\n",
    "\t\t{0.54} & {0.42}  & {0.54} & {0.10} \\\\\n",
    "\t\t{0.04} & {0.24}  & {0.10} & {0.65} \\\\\n",
    "\t\t{0.07} & {0.18}  & {0.15} & {0.24} \\nonumber \\\\ \n",
    "\t\\end{bmatrix}\n",
    "\t.\n",
    "\t\\begin{bmatrix}\n",
    "\t\tD1 \\\\\n",
    "\t\tB1 \\\\\n",
    "\t\tD2 \\\\\n",
    "\t\tB2 \\\\\n",
    "\t\\end{bmatrix}\n",
    "\t=\n",
    "\t\\begin{bmatrix}\n",
    "\t\t14.0 \\\\\n",
    "\t\t28.0 \\\\\n",
    "\t\t17.5 \\\\\n",
    "\t\t10.5 \\\\\n",
    "\t\\end{bmatrix}\n",
    "\\end{equation}"
   ]
  },
  {
   "cell_type": "code",
   "execution_count": 1,
   "metadata": {},
   "outputs": [],
   "source": [
    "# DECLARANDO VARIAVEIS\n",
    "\n",
    "a11, a12, a13, a14 = 0.35, 0.16, 0.21, 0.01\n",
    "a21, a22, a23, a24 = 0.54, 0.42, 0.54, 0.10\n",
    "a31, a32, a33, a34 = 0.04, 0.24, 0.10, 0.65\n",
    "a41, a42, a43, a44 = 0.07, 0.18, 0.15, 0.24\n"
   ]
  },
  {
   "cell_type": "code",
   "execution_count": 2,
   "metadata": {},
   "outputs": [],
   "source": [
    "import numpy as np\n",
    "\n",
    "A = np.array([\n",
    "    [a11, a12, a13, a14],\n",
    "    [a21, a22, a23, a24],\n",
    "    [a31, a32, a33, a34],\n",
    "    [a41, a42, a43, a44]\n",
    "])\n"
   ]
  },
  {
   "cell_type": "code",
   "execution_count": 3,
   "metadata": {},
   "outputs": [],
   "source": [
    "b = np.array([14.0, 28.0, 17.5, 10.5])\n",
    "x = np.linalg.solve(A, b)\n",
    "\n",
    "D1 = x[0]\n",
    "B1 = x[1]\n",
    "D2 = x[2]\n",
    "B2 = x[3]"
   ]
  },
  {
   "cell_type": "code",
   "execution_count": 8,
   "metadata": {},
   "outputs": [
    {
     "data": {
      "text/plain": [
       "26.250000000000007"
      ]
     },
     "execution_count": 8,
     "metadata": {},
     "output_type": "execute_result"
    }
   ],
   "source": [
    "# NÃO É OBRIGATÓRIO FAZER (MOSTRAR OS RESULTADOS)\n",
    "D1"
   ]
  },
  {
   "cell_type": "code",
   "execution_count": 9,
   "metadata": {},
   "outputs": [
    {
     "data": {
      "text/plain": [
       "17.500000000000185"
      ]
     },
     "execution_count": 9,
     "metadata": {},
     "output_type": "execute_result"
    }
   ],
   "source": [
    "B1"
   ]
  },
  {
   "cell_type": "code",
   "execution_count": 10,
   "metadata": {},
   "outputs": [
    {
     "data": {
      "text/plain": [
       "8.749999999999858"
      ]
     },
     "execution_count": 10,
     "metadata": {},
     "output_type": "execute_result"
    }
   ],
   "source": [
    "D2"
   ]
  },
  {
   "cell_type": "code",
   "execution_count": 11,
   "metadata": {},
   "outputs": [
    {
     "data": {
      "text/plain": [
       "17.499999999999954"
      ]
     },
     "execution_count": 11,
     "metadata": {},
     "output_type": "execute_result"
    }
   ],
   "source": [
    "B2 "
   ]
  },
  {
   "cell_type": "code",
   "execution_count": 17,
   "metadata": {},
   "outputs": [],
   "source": [
    "# CONFERINDO RESULTADOS\n",
    "\n",
    "resp1 = (0.35*D1) + (0.16*B1) + (0.21*D2) + (0.01*B2)\n",
    "resp2 = (0.54*D1) + (0.42*B1) + (0.54*D2) + (0.10*B2)\n",
    "resp3 = (0.04*D1) + (0.24*B1) + (0.10*D2) + (0.65*B2)\n",
    "resp4 = (0.07*D1) + (0.18*B1) + (0.15*D2) + (0.24*B2)"
   ]
  },
  {
   "cell_type": "code",
   "execution_count": 18,
   "metadata": {},
   "outputs": [
    {
     "name": "stdout",
     "output_type": "stream",
     "text": [
      "O valor de D1 é 14.0\n",
      "O valor de B1 é 28.0\n",
      "O valor de D2 é 17.5\n",
      "O valor de B2 é 10.5\n"
     ]
    }
   ],
   "source": [
    "print(f\"O valor de D1 é {resp1}\")\n",
    "print(f\"O valor de B1 é {resp2}\")\n",
    "print(f\"O valor de D2 é {resp3}\")\n",
    "print(f\"O valor de B2 é {resp4}\")"
   ]
  }
 ],
 "metadata": {
  "kernelspec": {
   "display_name": "Modelagem",
   "language": "python",
   "name": "python3"
  },
  "language_info": {
   "codemirror_mode": {
    "name": "ipython",
    "version": 3
   },
   "file_extension": ".py",
   "mimetype": "text/x-python",
   "name": "python",
   "nbconvert_exporter": "python",
   "pygments_lexer": "ipython3",
   "version": "3.11.8"
  }
 },
 "nbformat": 4,
 "nbformat_minor": 2
}
