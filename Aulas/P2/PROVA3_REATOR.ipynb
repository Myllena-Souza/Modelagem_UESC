{
 "cells": [
  {
   "cell_type": "markdown",
   "metadata": {},
   "source": [
    "### __PROVA 3__"
   ]
  },
  {
   "cell_type": "code",
   "execution_count": 11,
   "metadata": {},
   "outputs": [],
   "source": [
    "import numpy as np\n",
    "from scipy import sparse\n",
    "from scipy.sparse import csr_matrix"
   ]
  },
  {
   "cell_type": "code",
   "execution_count": 12,
   "metadata": {},
   "outputs": [],
   "source": [
    "# DECLARANDO AS VARIAVEIS\n",
    "\n",
    "row = np.array([0, 0, 1, 1, 1, 2, 2, 2, 3, 3, 3, 4, 4])\n",
    "col = np.array([0, 1, 0, 1, 2, 1, 2, 3, 2, 3, 4, 3, 4])\n",
    "data = np.array([4, -2, 4, -7, 3, 5, -11, 6, 2, -10, 8, 4, -8])"
   ]
  },
  {
   "cell_type": "code",
   "execution_count": 13,
   "metadata": {},
   "outputs": [
    {
     "data": {
      "text/plain": [
       "array([[  4.,  -2.,   0.,   0.,   0.],\n",
       "       [  4.,  -7.,   3.,   0.,   0.],\n",
       "       [  0.,   5., -11.,   6.,   0.],\n",
       "       [  0.,   0.,   2., -10.,   8.],\n",
       "       [  0.,   0.,   0.,   4.,  -8.]])"
      ]
     },
     "execution_count": 13,
     "metadata": {},
     "output_type": "execute_result"
    }
   ],
   "source": [
    "A = sparse.csr_matrix((data, (row, col)), shape=(5,5), dtype=float).toarray()\n",
    "A"
   ]
  },
  {
   "cell_type": "code",
   "execution_count": 14,
   "metadata": {},
   "outputs": [],
   "source": [
    "# CALCULANDO A INVERSA DA MATRIZ\n",
    "\n",
    "A_inv = np.linalg.inv(A)"
   ]
  },
  {
   "cell_type": "code",
   "execution_count": 15,
   "metadata": {},
   "outputs": [
    {
     "name": "stdout",
     "output_type": "stream",
     "text": [
      "[30  0  0  0 80]\n"
     ]
    }
   ],
   "source": [
    "# DECLARANDO OS VALORES DO VETOR B\n",
    "\n",
    "b1, b2, b3, b4, b5 = 30, 0, 0, 0, 80\n",
    "\n",
    "b = np.array([b1, b2, b3, b4, b5])\n",
    "print(b)"
   ]
  },
  {
   "cell_type": "code",
   "execution_count": 16,
   "metadata": {},
   "outputs": [
    {
     "data": {
      "text/plain": [
       "array([  8.        ,   1.        ,  -8.33333333, -16.11111111,\n",
       "       -18.05555556])"
      ]
     },
     "execution_count": 16,
     "metadata": {},
     "output_type": "execute_result"
    }
   ],
   "source": [
    "# CALCULO DAS ICOGNITAS\n",
    "\n",
    "x = A_inv.dot(b)\n",
    "x"
   ]
  },
  {
   "cell_type": "code",
   "execution_count": 17,
   "metadata": {},
   "outputs": [],
   "source": [
    "c1 = x[0]\n",
    "c2 = x[1]\n",
    "c3 = x[2]\n",
    "c4 = x[3]\n",
    "c5 = x[4]"
   ]
  },
  {
   "cell_type": "code",
   "execution_count": 18,
   "metadata": {},
   "outputs": [
    {
     "name": "stdout",
     "output_type": "stream",
     "text": [
      "---------------------------------------------\n",
      "RESULTADOS DAS CONCENTRAÇÕES\n",
      "---------------------------------------------\n",
      "O valor da concentração c1 é: 8.00 mg/m3\n",
      "O valor da concentração c2 é: 1.00 mg/m3\n",
      "O valor da concentração c3 é: -8.33 mg/m3\n",
      "O valor da concentração c4 é: -16.11 mg/m3\n",
      "O valor da concentração c5 é: -18.06 mg/m3\n",
      "---------------------------------------------\n"
     ]
    }
   ],
   "source": [
    "def line():\n",
    "    print(\"-\"*45)\n",
    "\n",
    "line()\n",
    "print( 'RESULTADOS DAS CONCENTRAÇÕES' )\n",
    "line()\n",
    "print(\"O valor da concentração c1 é: {:.2f}\".format(c1), \"mg/m3\")\n",
    "print(\"O valor da concentração c2 é: {:.2f}\".format(c2), \"mg/m3\")\n",
    "print(\"O valor da concentração c3 é: {:.2f}\".format(c3), \"mg/m3\")\n",
    "print(\"O valor da concentração c4 é: {:.2f}\".format(c4), \"mg/m3\")\n",
    "print(\"O valor da concentração c5 é: {:.2f}\".format(c5), \"mg/m3\")\n",
    "line()"
   ]
  },
  {
   "cell_type": "markdown",
   "metadata": {},
   "source": [
    "CONFERINDO OS RESULTADOS"
   ]
  },
  {
   "cell_type": "code",
   "execution_count": 19,
   "metadata": {},
   "outputs": [],
   "source": [
    "z1 = 4*c1-2*c2\n",
    "z5 = 4*c4 - 8*c5"
   ]
  },
  {
   "cell_type": "code",
   "execution_count": 20,
   "metadata": {},
   "outputs": [
    {
     "name": "stdout",
     "output_type": "stream",
     "text": [
      "---------------------------------------------\n",
      "CONFERINDO OS RESULTADOS DAS CONCENTRAÇÕES\n",
      "---------------------------------------------\n",
      "O resultado de b1=30 e z1 = 30.00 mg/m3\n",
      "O resultado de b5=80 e z3 = 80.00 mg/m3\n",
      "---------------------------------------------\n"
     ]
    }
   ],
   "source": [
    "line()\n",
    "print( 'CONFERINDO OS RESULTADOS DAS CONCENTRAÇÕES' )\n",
    "line()\n",
    "print(f\"O resultado de b1={b1} e z1 = {z1:.2f}\", \"mg/m3\")\n",
    "print(f\"O resultado de b5={b5} e z3 = {z5:.2f}\", \"mg/m3\")\n",
    "line()"
   ]
  }
 ],
 "metadata": {
  "kernelspec": {
   "display_name": "Modelagem",
   "language": "python",
   "name": "python3"
  },
  "language_info": {
   "codemirror_mode": {
    "name": "ipython",
    "version": 3
   },
   "file_extension": ".py",
   "mimetype": "text/x-python",
   "name": "python",
   "nbconvert_exporter": "python",
   "pygments_lexer": "ipython3",
   "version": "3.11.8"
  }
 },
 "nbformat": 4,
 "nbformat_minor": 2
}
