{
 "cells": [
  {
   "cell_type": "markdown",
   "metadata": {},
   "source": [
    "## UNIVERSIDADE ESTADUAL DE SANTA CRUZ - UESC\n",
    "#### DEPARTAMENTO DE ENGENHARIAS E COMPUTAÇÃO - DEC\n",
    "#### CURSO DE ENGENHARIA QUÍMICA\n",
    "\n",
    "**CET1012** - Modelagem, Simulação e Otimização de Processos Químicos.\n",
    "\n",
    "**Tema**: Modelagem de Reação Química em um Reator.\n",
    "\n",
    "**Professor**: Prof. Dr E.R.Edwards\n",
    "\n",
    "**Assunto**: Métodos de matrizes sparsas na modelagem de reatores.\n",
    "\n",
    "**Fonte**: https://docs.scipy.org/doc/scipy/reference/generated/scipy.sparse.diags.html"
   ]
  },
  {
   "cell_type": "markdown",
   "metadata": {},
   "source": [
    "#### Cálculos de matrizes diagonais.\n",
    "**Parâmetros**:<br>\n",
    "**Diagonais**\n",
    "sequência de array_like\n",
    "Sequência de matrizes contendo as diagonais da matriz, correspondentes a compensações.\n",
    "\n",
    "**Deslocamentos**\n",
    "sequência de int ou int, opcional\n",
    "\n",
    "**Diagonais a definir**:\n",
    "- k = 0 a diagonal principal (padrão)\n",
    "\n",
    "- k > 0 a k-ésima diagonal superior\n",
    "\n",
    "- k < 0 a k-ésima diagonal inferior\n",
    "\n",
    "**forma**\n",
    "Tupla de int, opcional\n",
    "Forma do resultado. Se omitida, uma matriz quadrada grande o suficiente para conter as diagonais é retornado.\n",
    "\n",
    "**formato**\n",
    "{\"dia\", \"csr\", \"csc\", \"lil\", ...}, opcional\n",
    "Formato matricial do resultado. Por padrão (format=None) um o formato de matriz esparso apropriado é retornado. Esta escolha é sujeito a alterações.\n",
    "\n",
    "**dtype**\n",
    "dtype, opcional\n",
    "Tipo de dados da matriz.\n"
   ]
  },
  {
   "cell_type": "markdown",
   "metadata": {},
   "source": [
    "#### Exemplo:\n",
    "Matriz triangular superior $4x4$ arbitrária:\n",
    "\n",
    "\\begin{equation}\n",
    "    \\begin{bmatrix}\n",
    "    {\\color{blue}a_{11}} & a_{12} & a_{13} & a_{14} \\\\\n",
    "    0 &  {\\color{blue}a_{22}} & a_{23} & a_{24} \\\\\n",
    "    0 & 0 & {\\color{blue}a_{33}} & a_{34} \\\\\n",
    "    0 & 0 & 0 &  {\\color{blue}a_{44}} \\\\\n",
    "    \\end{bmatrix}\n",
    "\\end{equation}\n"
   ]
  },
  {
   "cell_type": "markdown",
   "metadata": {},
   "source": [
    "Matriz triangular inferior $4x4$ arbitrária:\n",
    "\n",
    "\\begin{equation}\n",
    "    \\begin{bmatrix}\n",
    "    {\\color{blue}a_{11}} & 0 & 0 & 0  \\\\\n",
    "   a_{21} &  {\\color{blue}a_{22}} & 0 & 0 \\\\\n",
    "    a_{31} & a_{32} & {\\color{blue}a_{33}} & 0 \\\\\n",
    "    a_{41} & a_{42} & a_{43} &  {\\color{blue}a_{44}} \\\\\n",
    "    \\end{bmatrix}\n",
    "\\end{equation}\n"
   ]
  },
  {
   "cell_type": "markdown",
   "metadata": {},
   "source": [
    "#### Exemplo:\n",
    "Considere as matrizes triangulares superior abaixo.\n",
    "\n",
    "\\begin{equation}\n",
    "A =\n",
    "    \\begin{bmatrix}\n",
    "    1 & 3  & -1  \\\\\n",
    "    0 & 2  & 4  \\\\\n",
    "    0 & 0  & 5 \\\\\n",
    "    \\end{bmatrix}\n",
    "    \\\n",
    "B =\n",
    "    \\begin{bmatrix}\n",
    "    3 & -2  & 2  \\\\\n",
    "    0 & 0  & -1  \\\\\n",
    "    0 & 0  & 1 \\\\\n",
    "    \\end{bmatrix}\n",
    "\\end{equation}\n",
    "\n",
    "A matriz A é inversível, pois suas entradas na diagonal principal são não-nulas, mas a matriz $B$ não é. Ou seja, para que você consiga calcular a inversa da matriz ($A^{-1}$) diagonal superior ou inferior, os valores armazenados não podem ter nenhum zero."
   ]
  },
  {
   "cell_type": "code",
   "execution_count": 1,
   "metadata": {},
   "outputs": [],
   "source": [
    "import numpy as np\n",
    "from scipy.sparse import diags"
   ]
  },
  {
   "cell_type": "code",
   "execution_count": null,
   "metadata": {},
   "outputs": [],
   "source": [
    "diagonals = [[1, 2, 3, 4], [1, 2, 3], [1, 2]]\n",
    "Matrix = diags(diagonals, [0, -1, 2]).toarray()\n",
    "Matrix"
   ]
  },
  {
   "cell_type": "markdown",
   "metadata": {},
   "source": [
    "## AULA 15/05 CONTINUAÇÃO DA AULA 10/05"
   ]
  },
  {
   "cell_type": "markdown",
   "metadata": {},
   "source": [
    "#### Exercício 2:\n",
    "\n",
    "A transmissão de escalares é suportada (mas a forma (shape) precisa ser especificada):\n"
   ]
  },
  {
   "cell_type": "code",
   "execution_count": null,
   "metadata": {},
   "outputs": [],
   "source": [
    "Matrix_2 = diags([1, -2, 1], [-1, 0, 1], shape=(4, 4)).toarray()\n",
    "Matrix_2\n"
   ]
  },
  {
   "cell_type": "markdown",
   "metadata": {},
   "source": [
    "#### Agora vamos para uma aplicação na resolução de um problema de Engenharia Química"
   ]
  },
  {
   "cell_type": "markdown",
   "metadata": {},
   "source": [
    "Modelagem de Reações Químicas em um Reator\n",
    "\n",
    "Considere um reator químico que opera com as seguintes reações:\n",
    "\n",
    "1. Reação 1: A + B → C\n",
    "2. Reação 2: C → D\n",
    "\n",
    "Neste sistema, temos as seguintes taxas de reação:\n",
    "\n",
    "- Taxa de consumo de A ($ r_A $): <br>\n",
    "$ r_A = k_1.C_A.C_B $\n",
    "\n",
    "- Taxa de consumo de B ($ r_B $): <br>\n",
    "$ r_B = k_1.C_A.C_B $\n",
    "\n",
    "- Taxa de formação de C ($ r_C $): <br>\n",
    "$ r_C = k_1.C_A.C_B - k_2.C_C $\n",
    "\n",
    "- Taxa de formação de D ($r_D$):<br>\n",
    "$ r_D = k_2.C_c $\n"
   ]
  },
  {
   "cell_type": "markdown",
   "metadata": {},
   "source": [
    "onde: <br>\n",
    "\n",
    "- $C_A$, $C_B$, $C_C$ são as concentrações dos componentes $A$, $B$, $C$ e $D$, respectivamente.\n",
    "\n",
    "- $k_1$ e $k_2$ são as constantes de velocidade das reações.\n"
   ]
  },
  {
   "cell_type": "markdown",
   "metadata": {},
   "source": [
    "Agora, vamos montar o sistema de **Equações Diferenciais** para modelar a evolução das concentrações ao longo do tempo:\n",
    "\n",
    "1. $\\frac{dC_A}{dt} = -r_A$ <br>\n",
    "\n",
    "2. $\\frac{dC_B}{dt} = -r_B$ <br>\n",
    "\n",
    "3. $\\frac{dC_C}{dt} = r_C$  <br>\n",
    "\n",
    "4. $\\frac{dC_D}{dt} =  r_D$ <br>\n"
   ]
  },
  {
   "cell_type": "code",
   "execution_count": null,
   "metadata": {},
   "outputs": [],
   "source": [
    "#pip install ipython -> Já deve estar instalado.\n",
    "from IPython.display import Image, display\n",
    "\n",
    "display(Image(filename='reator_matriz.png', width=600))\n"
   ]
  },
  {
   "cell_type": "markdown",
   "metadata": {},
   "source": [
    "A matriz $A$ com os coeficientes das concentrações é:\n",
    "\n",
    "\n",
    "\\begin{equation}\n",
    "A =\n",
    "\\begin{bmatrix}\n",
    "-1 &  0 & 0 & 0 \\\\\n",
    " 0 & -1 & 1 & 0 \\\\\n",
    " 0 & 0 & -1 & 1\\\\\n",
    " 0 & 0 & 0 & -1 \\\\\n",
    "\\end{bmatrix}\n",
    "\\end{equation}"
   ]
  },
  {
   "cell_type": "markdown",
   "metadata": {},
   "source": [
    "O vetor $b$ com as concentrações iniciais é:\n",
    "\n",
    "\\begin{equation}\n",
    "b = \n",
    "\\begin{bmatrix}\n",
    "C_{A0} \\\\\n",
    "C_{B0} \\\\\n",
    "C_{C0} \\\\\n",
    "C_{D0}\n",
    "\\end{bmatrix}\n",
    "\\end{equation}\n"
   ]
  },
  {
   "cell_type": "markdown",
   "metadata": {},
   "source": [
    "Agora, vamos resolver numericamente o sistema de equações diferenciais usando a biblioteca scipy.sparse e plotar os resultados em um gráfico."
   ]
  },
  {
   "cell_type": "code",
   "execution_count": null,
   "metadata": {},
   "outputs": [],
   "source": [
    "import numpy as np\n",
    "import matplotlib.pyplot as plt\n",
    "from scipy.sparse import diags\n",
    "from scipy.integrate import solve_ivp\n",
    "\n",
    "# https://docs.scipy.org/doc/scipy/reference/generated/scipy.integrate.solve_ivp.html\n"
   ]
  },
  {
   "cell_type": "code",
   "execution_count": null,
   "metadata": {},
   "outputs": [],
   "source": [
    "# Parâmetros\n",
    "k1 = 0.1\n",
    "k2 = 0.05\n",
    "C_A0 = 1.0\n",
    "C_B0 = 0.5\n",
    "C_C0 = 0.01\n",
    "C_D0 = 0.01\n"
   ]
  },
  {
   "cell_type": "code",
   "execution_count": null,
   "metadata": {},
   "outputs": [],
   "source": [
    "# Criando a matriz esparsa.\n",
    "\n",
    "diagonals = np.array([[-1, 0, 0, 0], [0, -1, 1, 0], [0, 0, -1, 1], [0, 0, 0, -1]])\n",
    "\n",
    "diagonals\n"
   ]
  },
  {
   "cell_type": "code",
   "execution_count": null,
   "metadata": {},
   "outputs": [],
   "source": [
    "A = diags(diagonals, [0, 1, 2, 3]).toarray()\n",
    "A\n"
   ]
  },
  {
   "cell_type": "code",
   "execution_count": null,
   "metadata": {},
   "outputs": [],
   "source": [
    "# Sistema de equações diferenciais.\n",
    "def reator(t, y):\n",
    "    return A @ y\n",
    "\n",
    "# Tempo de simulação.\n",
    "t_span = (0, 10) # 10 unidades de tempo.\n",
    "\n",
    "# Resolvendo as equações diferenciais.\n",
    "sol = solve_ivp(reator, t_span,  [C_A0, C_B0, C_C0, C_D0], t_eval=np.linspace(0, 10, 100))\n"
   ]
  },
  {
   "cell_type": "code",
   "execution_count": null,
   "metadata": {},
   "outputs": [],
   "source": [
    "# Plotando os resultados\n",
    "plt.plot(sol.t, sol.y[0], label='$C_A$')\n",
    "plt.plot(sol.t, sol.y[1], label='$C_B$')\n",
    "plt.plot(sol.t, sol.y[2], label='$C_C$')\n",
    "plt.plot(sol.t, sol.y[3], label='$C_D$')\n",
    "plt.xlabel('Tempo')\n",
    "plt.ylabel('Concentração')\n",
    "plt.legend()\n",
    "plt.title('Evolução das Concentrações no Reator')\n",
    "plt.show()\n"
   ]
  }
 ],
 "metadata": {
  "kernelspec": {
   "display_name": "Python 3",
   "language": "python",
   "name": "python3"
  },
  "language_info": {
   "codemirror_mode": {
    "name": "ipython",
    "version": 3
   },
   "file_extension": ".py",
   "mimetype": "text/x-python",
   "name": "python",
   "nbconvert_exporter": "python",
   "pygments_lexer": "ipython3",
   "version": "3.11.8"
  }
 },
 "nbformat": 4,
 "nbformat_minor": 2
}
