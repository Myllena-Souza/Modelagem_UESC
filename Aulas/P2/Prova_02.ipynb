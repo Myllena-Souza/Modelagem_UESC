{
 "cells": [
  {
   "cell_type": "markdown",
   "metadata": {},
   "source": [
    "RESOLUÇÃO DA PROVA 2"
   ]
  },
  {
   "cell_type": "markdown",
   "metadata": {},
   "source": [
    "Questão 2"
   ]
  },
  {
   "cell_type": "code",
   "execution_count": 1,
   "metadata": {},
   "outputs": [],
   "source": [
    "import numpy as np\n",
    "\n",
    "A = np.array([\n",
    "    [0.9, 0.3, 0.1],\n",
    "    [0.1, 0.5, 0.2],\n",
    "    [0, 0.2, 0.7]\n",
    "])"
   ]
  },
  {
   "cell_type": "code",
   "execution_count": 2,
   "metadata": {},
   "outputs": [],
   "source": [
    "b = np.array ([30, 25, 10])\n",
    "x = np.linalg.solve(A, b)\n",
    "\n",
    "m1 = x[0]\n",
    "m2 = x[1]\n",
    "m3 = x[2]"
   ]
  },
  {
   "cell_type": "code",
   "execution_count": 6,
   "metadata": {},
   "outputs": [
    {
     "data": {
      "text/plain": [
       "17.884615384615383"
      ]
     },
     "execution_count": 6,
     "metadata": {},
     "output_type": "execute_result"
    }
   ],
   "source": [
    "m1"
   ]
  },
  {
   "cell_type": "code",
   "execution_count": 7,
   "metadata": {},
   "outputs": [
    {
     "data": {
      "text/plain": [
       "45.96153846153846"
      ]
     },
     "execution_count": 7,
     "metadata": {},
     "output_type": "execute_result"
    }
   ],
   "source": [
    "m2"
   ]
  },
  {
   "cell_type": "code",
   "execution_count": 8,
   "metadata": {},
   "outputs": [
    {
     "data": {
      "text/plain": [
       "1.1538461538461529"
      ]
     },
     "execution_count": 8,
     "metadata": {},
     "output_type": "execute_result"
    }
   ],
   "source": [
    "m3"
   ]
  },
  {
   "cell_type": "code",
   "execution_count": 3,
   "metadata": {},
   "outputs": [],
   "source": [
    "resp1 = (0.9*m1) + (0.3*m2) + (0.1*m3)\n",
    "resp2 = (0.1*m1) + (0.5*m2) + (0.2*m3)\n",
    "resp3 = (0*m1) + (0.2*m2) + (0.7*m3)"
   ]
  },
  {
   "cell_type": "code",
   "execution_count": 5,
   "metadata": {},
   "outputs": [
    {
     "name": "stdout",
     "output_type": "stream",
     "text": [
      "O valor de b1 é 30.000000000000004\n",
      "O valor de b2 é 24.999999999999996\n",
      "O valor de b3 é 9.999999999999998\n"
     ]
    }
   ],
   "source": [
    "print(f\"O valor de b1 é {resp1}\")\n",
    "print(f\"O valor de b2 é {resp2}\")\n",
    "print(f\"O valor de b3 é {resp3}\")"
   ]
  },
  {
   "cell_type": "markdown",
   "metadata": {},
   "source": [
    "Questão 1"
   ]
  },
  {
   "cell_type": "code",
   "execution_count": 10,
   "metadata": {},
   "outputs": [],
   "source": [
    "A2 = np.array([\n",
    "    [0.8, 0.1, 0.5],\n",
    "    [0.2, 0.05, 0.5],\n",
    "    [0, 0.85, 0]\n",
    "])"
   ]
  },
  {
   "cell_type": "code",
   "execution_count": 11,
   "metadata": {},
   "outputs": [],
   "source": [
    "b2 = np.array ([0.8, 0.2, 0])\n",
    "x2 = np.linalg.solve(A2, b2)\n",
    "\n",
    "F = x2[0]\n",
    "S = x2[1]\n",
    "R = x2[2]"
   ]
  },
  {
   "cell_type": "code",
   "execution_count": 12,
   "metadata": {},
   "outputs": [
    {
     "data": {
      "text/plain": [
       "1.0"
      ]
     },
     "execution_count": 12,
     "metadata": {},
     "output_type": "execute_result"
    }
   ],
   "source": [
    "F"
   ]
  },
  {
   "cell_type": "code",
   "execution_count": 13,
   "metadata": {},
   "outputs": [
    {
     "data": {
      "text/plain": [
       "0.0"
      ]
     },
     "execution_count": 13,
     "metadata": {},
     "output_type": "execute_result"
    }
   ],
   "source": [
    "S"
   ]
  },
  {
   "cell_type": "code",
   "execution_count": 14,
   "metadata": {},
   "outputs": [
    {
     "data": {
      "text/plain": [
       "0.0"
      ]
     },
     "execution_count": 14,
     "metadata": {},
     "output_type": "execute_result"
    }
   ],
   "source": [
    "R"
   ]
  },
  {
   "cell_type": "code",
   "execution_count": 17,
   "metadata": {},
   "outputs": [],
   "source": [
    "respF = (0.8*F) + (0.1*S) + (0.5*R)\n",
    "respS = (0.2*F) + (0.05*S) + (0.5*R)\n",
    "respR = (0*F) + (0.85*S) + (0*R)"
   ]
  },
  {
   "cell_type": "code",
   "execution_count": 18,
   "metadata": {},
   "outputs": [
    {
     "name": "stdout",
     "output_type": "stream",
     "text": [
      "O valor de F é 0.8\n",
      "O valor de S é 0.2\n",
      "O valor de R é 0.0\n"
     ]
    }
   ],
   "source": [
    "print(f\"O valor de F é {respF}\")\n",
    "print(f\"O valor de S é {respS}\")\n",
    "print(f\"O valor de R é {respR}\")"
   ]
  },
  {
   "cell_type": "code",
   "execution_count": 1,
   "metadata": {},
   "outputs": [],
   "source": [
    "import numpy as np\n",
    "\n",
    "B = np.array([\n",
    "    [0.9, 0.2, 0],\n",
    "    [0.1, 0.05, 0.85],\n",
    "    [0.5, 0.5, 0]\n",
    "])\n",
    "\n"
   ]
  },
  {
   "cell_type": "code",
   "execution_count": 2,
   "metadata": {},
   "outputs": [],
   "source": [
    "b2 = np.array ([0.8, 0.2, 0])\n",
    "x2 = np.linalg.solve(B, b2)\n",
    "\n",
    "F = x2[0]\n",
    "S = x2[1]\n",
    "R = x2[2]"
   ]
  },
  {
   "cell_type": "code",
   "execution_count": 3,
   "metadata": {},
   "outputs": [
    {
     "data": {
      "text/plain": [
       "1.142857142857143"
      ]
     },
     "execution_count": 3,
     "metadata": {},
     "output_type": "execute_result"
    }
   ],
   "source": [
    "F"
   ]
  },
  {
   "cell_type": "code",
   "execution_count": 4,
   "metadata": {},
   "outputs": [
    {
     "data": {
      "text/plain": [
       "-1.142857142857143"
      ]
     },
     "execution_count": 4,
     "metadata": {},
     "output_type": "execute_result"
    }
   ],
   "source": [
    "S"
   ]
  },
  {
   "cell_type": "code",
   "execution_count": 5,
   "metadata": {},
   "outputs": [
    {
     "data": {
      "text/plain": [
       "0.1680672268907563"
      ]
     },
     "execution_count": 5,
     "metadata": {},
     "output_type": "execute_result"
    }
   ],
   "source": [
    "R"
   ]
  },
  {
   "cell_type": "code",
   "execution_count": 6,
   "metadata": {},
   "outputs": [],
   "source": [
    "respF = (0.9*F) + (0.2*S) + (0*R)\n",
    "respS = (0.1*F) + (0.05*S) + (0.85*R)\n",
    "respR = (0.5*F) + (0.5*S) + (0*R)"
   ]
  },
  {
   "cell_type": "code",
   "execution_count": 7,
   "metadata": {},
   "outputs": [
    {
     "name": "stdout",
     "output_type": "stream",
     "text": [
      "O valor de F é 0.8\n",
      "O valor de S é 0.2\n",
      "O valor de R é 0.0\n"
     ]
    }
   ],
   "source": [
    "print(f\"O valor de F é {respF}\")\n",
    "print(f\"O valor de S é {respS}\")\n",
    "print(f\"O valor de R é {respR}\")"
   ]
  }
 ],
 "metadata": {
  "kernelspec": {
   "display_name": "Modelagem",
   "language": "python",
   "name": "python3"
  },
  "language_info": {
   "codemirror_mode": {
    "name": "ipython",
    "version": 3
   },
   "file_extension": ".py",
   "mimetype": "text/x-python",
   "name": "python",
   "nbconvert_exporter": "python",
   "pygments_lexer": "ipython3",
   "version": "3.11.8"
  }
 },
 "nbformat": 4,
 "nbformat_minor": 2
}
